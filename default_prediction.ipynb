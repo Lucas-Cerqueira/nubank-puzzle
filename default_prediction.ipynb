{
 "cells": [
  {
   "cell_type": "code",
   "execution_count": 1,
   "metadata": {},
   "outputs": [],
   "source": [
    "import numpy as np\n",
    "import pandas as pd\n",
    "import matplotlib.pyplot as plt\n",
    "import seaborn as sns\n",
    "from category_encoders import LeaveOneOutEncoder, BinaryEncoder, WOEEncoder\n",
    "sns.set(font_scale=1.3, style='whitegrid')"
   ]
  },
  {
   "cell_type": "markdown",
   "metadata": {},
   "source": [
    "## Brainstorming\n",
    "- Bigger weights for `amount_borrowed`, `borrowed_in_months`, `n_bankruptcies`\n",
    "- Filling NaN of `ok_since` with 0? Expect the worst?\n",
    "- Clip income due to outliers\n"
   ]
  },
  {
   "cell_type": "markdown",
   "metadata": {},
   "source": [
    "## Reading the data"
   ]
  },
  {
   "cell_type": "code",
   "execution_count": 2,
   "metadata": {},
   "outputs": [],
   "source": [
    "df_train = pd.read_csv('puzzle_train_dataset.csv')"
   ]
  },
  {
   "cell_type": "markdown",
   "metadata": {},
   "source": [
    "## Remove clients that do not have the target variable"
   ]
  },
  {
   "cell_type": "code",
   "execution_count": 3,
   "metadata": {},
   "outputs": [],
   "source": [
    "df_train.dropna(axis=0, subset=['default'], inplace=True)\n",
    "df_train['default'] = df_train['default'].astype(bool)\n",
    "feature_columns = df_train.columns.drop(['ids', 'default'])"
   ]
  },
  {
   "cell_type": "code",
   "execution_count": 4,
   "metadata": {},
   "outputs": [
    {
     "data": {
      "text/plain": [
       "ids                    object\n",
       "default                  bool\n",
       "score_1                object\n",
       "score_2                object\n",
       "score_3               float64\n",
       "score_4               float64\n",
       "score_5               float64\n",
       "score_6               float64\n",
       "risk_rate             float64\n",
       "amount_borrowed       float64\n",
       "borrowed_in_months    float64\n",
       "credit_limit          float64\n",
       "reason                 object\n",
       "income                float64\n",
       "sign                   object\n",
       "gender                 object\n",
       "facebook_profile       object\n",
       "state                  object\n",
       "zip                    object\n",
       "channel                object\n",
       "job_name               object\n",
       "real_state             object\n",
       "ok_since              float64\n",
       "n_bankruptcies        float64\n",
       "n_defaulted_loans     float64\n",
       "n_accounts            float64\n",
       "n_issues              float64\n",
       "dtype: object"
      ]
     },
     "execution_count": 4,
     "metadata": {},
     "output_type": "execute_result"
    }
   ],
   "source": [
    "df_train.dtypes"
   ]
  },
  {
   "cell_type": "markdown",
   "metadata": {},
   "source": [
    "## Describing the categorical columns\n",
    "- The column `sign` has a lot of missing data, so I decided to drop it. I also wonder if it would be useful at all for default prediction...\n",
    "- The column `channel` is equal to all the clients, so I dropped it.\n",
    "- The column `facebook_profile` has around 10% of missing data. I will fill it with a placeholder.\n",
    "- The column `gender` has around 5% of missing data. I will fill it with a placeholder.\n",
    "- The column `job_name` has around 5% of missing data. I will fill it with a placeholder.\n",
    "- The column `reason` has only 5 missing values out of 59966. Because of the small amount, I decided to fill in with a placeholder. \n",
    "- In the column `reason`, out of its 19496 unique values, more than 16700 are unique to a client. So I decided to replace the less frequent with a new category,\n",
    "- The feature `job_name` has more than 42000 unique values, where almost 38000 are unique to a single person. So I will replace the less frequent values with a new category.\n",
    "\n",
    "### Encoding the categorical variables\n",
    "- Label encoding makes more sense when an order can be inferred from the categorical variables (e.g. Class A, B and C in a football league). As the data is encrypted, I am not able to interpret it properly to extract any order out of it. Because of that, I will use **LeaveOneOut encoding** for the columns `score_1`, `score_2`, `state`, `real_state` and `zip`, which should help reduce overfitting instead of a Target mean encoding, for example.\n",
    "- Due to the high cardinality, even after the category pruning, I decided to try a **binary encoding** on the columns `reason` and `job_name`.\n",
    "- I decided to use **LabelEncoding** for gender and facebook_profile"
   ]
  },
  {
   "cell_type": "code",
   "execution_count": 5,
   "metadata": {},
   "outputs": [
    {
     "data": {
      "text/html": [
       "<div>\n",
       "<style scoped>\n",
       "    .dataframe tbody tr th:only-of-type {\n",
       "        vertical-align: middle;\n",
       "    }\n",
       "\n",
       "    .dataframe tbody tr th {\n",
       "        vertical-align: top;\n",
       "    }\n",
       "\n",
       "    .dataframe thead th {\n",
       "        text-align: right;\n",
       "    }\n",
       "</style>\n",
       "<table border=\"1\" class=\"dataframe\">\n",
       "  <thead>\n",
       "    <tr style=\"text-align: right;\">\n",
       "      <th></th>\n",
       "      <th>count</th>\n",
       "      <th>unique</th>\n",
       "      <th>top</th>\n",
       "      <th>freq</th>\n",
       "      <th>missing_rate</th>\n",
       "    </tr>\n",
       "  </thead>\n",
       "  <tbody>\n",
       "    <tr>\n",
       "      <th>ids</th>\n",
       "      <td>59966</td>\n",
       "      <td>59966</td>\n",
       "      <td>124287c4-9e03-80ca-eedb-cc41f378533b</td>\n",
       "      <td>1</td>\n",
       "      <td>0</td>\n",
       "    </tr>\n",
       "    <tr>\n",
       "      <th>score_1</th>\n",
       "      <td>59966</td>\n",
       "      <td>7</td>\n",
       "      <td>DGCQep2AE5QRkNCshIAlFQ==</td>\n",
       "      <td>20484</td>\n",
       "      <td>0</td>\n",
       "    </tr>\n",
       "    <tr>\n",
       "      <th>score_2</th>\n",
       "      <td>59966</td>\n",
       "      <td>35</td>\n",
       "      <td>osCzpM4hJrxugqWWuZmMWw==</td>\n",
       "      <td>5058</td>\n",
       "      <td>0</td>\n",
       "    </tr>\n",
       "    <tr>\n",
       "      <th>reason</th>\n",
       "      <td>59961</td>\n",
       "      <td>19496</td>\n",
       "      <td>mLVIVxoGY7TUDJ1FyFoSIZi1SFcaBmO01AydRchaEiGYtU...</td>\n",
       "      <td>5921</td>\n",
       "      <td>8.33806e-05</td>\n",
       "    </tr>\n",
       "    <tr>\n",
       "      <th>sign</th>\n",
       "      <td>41028</td>\n",
       "      <td>12</td>\n",
       "      <td>libr</td>\n",
       "      <td>5582</td>\n",
       "      <td>0.315812</td>\n",
       "    </tr>\n",
       "    <tr>\n",
       "      <th>gender</th>\n",
       "      <td>56970</td>\n",
       "      <td>2</td>\n",
       "      <td>m</td>\n",
       "      <td>38497</td>\n",
       "      <td>0.0499616</td>\n",
       "    </tr>\n",
       "    <tr>\n",
       "      <th>facebook_profile</th>\n",
       "      <td>53995</td>\n",
       "      <td>2</td>\n",
       "      <td>False</td>\n",
       "      <td>33997</td>\n",
       "      <td>0.0995731</td>\n",
       "    </tr>\n",
       "    <tr>\n",
       "      <th>state</th>\n",
       "      <td>59966</td>\n",
       "      <td>50</td>\n",
       "      <td>xsd3ZdsI3356I3xMxZeiqQ==</td>\n",
       "      <td>10212</td>\n",
       "      <td>0</td>\n",
       "    </tr>\n",
       "    <tr>\n",
       "      <th>zip</th>\n",
       "      <td>59966</td>\n",
       "      <td>830</td>\n",
       "      <td>3k2JCQ8Bp5oDwaI39ZJgHA==</td>\n",
       "      <td>775</td>\n",
       "      <td>0</td>\n",
       "    </tr>\n",
       "    <tr>\n",
       "      <th>channel</th>\n",
       "      <td>59966</td>\n",
       "      <td>1</td>\n",
       "      <td>NCqL3QBx0pscDnx3ixKwXg==</td>\n",
       "      <td>59966</td>\n",
       "      <td>0</td>\n",
       "    </tr>\n",
       "    <tr>\n",
       "      <th>job_name</th>\n",
       "      <td>56175</td>\n",
       "      <td>42263</td>\n",
       "      <td>mLVIVxoGY7TUDJ1FyFoSIZi1SFcaBmO01AydRchaEiGYtU...</td>\n",
       "      <td>220</td>\n",
       "      <td>0.0632192</td>\n",
       "    </tr>\n",
       "    <tr>\n",
       "      <th>real_state</th>\n",
       "      <td>59966</td>\n",
       "      <td>5</td>\n",
       "      <td>N5/CE7lSkAfB04hVFFwllw==</td>\n",
       "      <td>29695</td>\n",
       "      <td>0</td>\n",
       "    </tr>\n",
       "  </tbody>\n",
       "</table>\n",
       "</div>"
      ],
      "text/plain": [
       "                  count unique  \\\n",
       "ids               59966  59966   \n",
       "score_1           59966      7   \n",
       "score_2           59966     35   \n",
       "reason            59961  19496   \n",
       "sign              41028     12   \n",
       "gender            56970      2   \n",
       "facebook_profile  53995      2   \n",
       "state             59966     50   \n",
       "zip               59966    830   \n",
       "channel           59966      1   \n",
       "job_name          56175  42263   \n",
       "real_state        59966      5   \n",
       "\n",
       "                                                                top   freq  \\\n",
       "ids                            124287c4-9e03-80ca-eedb-cc41f378533b      1   \n",
       "score_1                                    DGCQep2AE5QRkNCshIAlFQ==  20484   \n",
       "score_2                                    osCzpM4hJrxugqWWuZmMWw==   5058   \n",
       "reason            mLVIVxoGY7TUDJ1FyFoSIZi1SFcaBmO01AydRchaEiGYtU...   5921   \n",
       "sign                                                           libr   5582   \n",
       "gender                                                            m  38497   \n",
       "facebook_profile                                              False  33997   \n",
       "state                                      xsd3ZdsI3356I3xMxZeiqQ==  10212   \n",
       "zip                                        3k2JCQ8Bp5oDwaI39ZJgHA==    775   \n",
       "channel                                    NCqL3QBx0pscDnx3ixKwXg==  59966   \n",
       "job_name          mLVIVxoGY7TUDJ1FyFoSIZi1SFcaBmO01AydRchaEiGYtU...    220   \n",
       "real_state                                 N5/CE7lSkAfB04hVFFwllw==  29695   \n",
       "\n",
       "                 missing_rate  \n",
       "ids                         0  \n",
       "score_1                     0  \n",
       "score_2                     0  \n",
       "reason            8.33806e-05  \n",
       "sign                 0.315812  \n",
       "gender              0.0499616  \n",
       "facebook_profile    0.0995731  \n",
       "state                       0  \n",
       "zip                         0  \n",
       "channel                     0  \n",
       "job_name            0.0632192  \n",
       "real_state                  0  "
      ]
     },
     "execution_count": 5,
     "metadata": {},
     "output_type": "execute_result"
    }
   ],
   "source": [
    "categorical_columns = df_train.select_dtypes('object').columns\n",
    "describe_df = df_train[categorical_columns].describe().T\n",
    "describe_df['missing_rate'] = (len(df_train) - describe_df['count']) / len(df_train)\n",
    "describe_df"
   ]
  },
  {
   "cell_type": "markdown",
   "metadata": {},
   "source": [
    "### More than 16700 reasons are unique to one person"
   ]
  },
  {
   "cell_type": "code",
   "execution_count": 6,
   "metadata": {},
   "outputs": [
    {
     "data": {
      "text/plain": [
       "1      16772\n",
       "2       1193\n",
       "3        467\n",
       "4        225\n",
       "5        157\n",
       "       ...  \n",
       "441        1\n",
       "58         1\n",
       "74         1\n",
       "106        1\n",
       "119        1\n",
       "Name: reason, Length: 124, dtype: int64"
      ]
     },
     "execution_count": 6,
     "metadata": {},
     "output_type": "execute_result"
    }
   ],
   "source": [
    "df_train['reason'].value_counts().value_counts()"
   ]
  },
  {
   "cell_type": "markdown",
   "metadata": {},
   "source": [
    "### Almost 38000 job names are unique to one person"
   ]
  },
  {
   "cell_type": "code",
   "execution_count": 7,
   "metadata": {},
   "outputs": [
    {
     "data": {
      "text/plain": [
       "1     37935\n",
       "2      2460\n",
       "3       746\n",
       "4       311\n",
       "5       196\n",
       "      ...  \n",
       "78        1\n",
       "81        1\n",
       "47        1\n",
       "79        1\n",
       "40        1\n",
       "Name: job_name, Length: 65, dtype: int64"
      ]
     },
     "execution_count": 7,
     "metadata": {},
     "output_type": "execute_result"
    }
   ],
   "source": [
    "df_train['job_name'].value_counts().value_counts()"
   ]
  },
  {
   "cell_type": "code",
   "execution_count": 8,
   "metadata": {},
   "outputs": [],
   "source": [
    "feature_columns = feature_columns.drop(['sign', 'channel'])\n",
    "# df_train.dropna(subset=['reason'], inplace=True)"
   ]
  },
  {
   "cell_type": "markdown",
   "metadata": {},
   "source": [
    "## Describing the numerical columns\n",
    "- The column `ok_since` has a missing rate bigger than 58%, so I decided to remove it.\n",
    "- By analysing the missing data in the columns `n_bankruptcies`, `n_defaulted_loans` and `n_issues`, I noticed that they are missing only for clients with missing data in `credit_limit`. Among the clients without the `credit_limit` information, the values of `n_defaulted_loans` are only NaN and 0, so I decided it to fill it with a placeholder; regarding the values of `n_bankruptcies`, it is zero for more than 95% of the clients withou credit limit, so I filled it with a placeholder as well.\n",
    "- I strongly believe that the feature `n_issues` is an engineered feature of Nubank clients, such as the amount of complainings via chat or amount of disputed charges on his/her credit card. Because of this reason, I decided not to use it, considering fresh clients that request a loan.\n",
    "- In addition, due to the high amount of missing data in the `credit_limit` column, I decided to not use it. A nice test would be to use the output of Nubank's credit limit regression model to fill in these gaps and see if it would improve the default prediction.\n",
    "- The `income` column has an extremely high value, which is most likely an outlier. My decision was to clip the `income` column on 2000000."
   ]
  },
  {
   "cell_type": "code",
   "execution_count": 9,
   "metadata": {},
   "outputs": [
    {
     "data": {
      "text/html": [
       "<div>\n",
       "<style scoped>\n",
       "    .dataframe tbody tr th:only-of-type {\n",
       "        vertical-align: middle;\n",
       "    }\n",
       "\n",
       "    .dataframe tbody tr th {\n",
       "        vertical-align: top;\n",
       "    }\n",
       "\n",
       "    .dataframe thead th {\n",
       "        text-align: right;\n",
       "    }\n",
       "</style>\n",
       "<table border=\"1\" class=\"dataframe\">\n",
       "  <thead>\n",
       "    <tr style=\"text-align: right;\">\n",
       "      <th></th>\n",
       "      <th>count</th>\n",
       "      <th>mean</th>\n",
       "      <th>std</th>\n",
       "      <th>min</th>\n",
       "      <th>25%</th>\n",
       "      <th>50%</th>\n",
       "      <th>75%</th>\n",
       "      <th>max</th>\n",
       "      <th>missing_rate</th>\n",
       "    </tr>\n",
       "  </thead>\n",
       "  <tbody>\n",
       "    <tr>\n",
       "      <th>score_3</th>\n",
       "      <td>59966.0</td>\n",
       "      <td>346.435147</td>\n",
       "      <td>109.842822</td>\n",
       "      <td>0.000000</td>\n",
       "      <td>270.000000</td>\n",
       "      <td>340.000000</td>\n",
       "      <td>420.000000</td>\n",
       "      <td>9.900000e+02</td>\n",
       "      <td>0.000000</td>\n",
       "    </tr>\n",
       "    <tr>\n",
       "      <th>score_4</th>\n",
       "      <td>59966.0</td>\n",
       "      <td>99.999870</td>\n",
       "      <td>3.174459</td>\n",
       "      <td>86.191572</td>\n",
       "      <td>97.856471</td>\n",
       "      <td>100.008497</td>\n",
       "      <td>102.134785</td>\n",
       "      <td>1.139782e+02</td>\n",
       "      <td>0.000000</td>\n",
       "    </tr>\n",
       "    <tr>\n",
       "      <th>score_5</th>\n",
       "      <td>59966.0</td>\n",
       "      <td>0.498721</td>\n",
       "      <td>0.288653</td>\n",
       "      <td>0.000035</td>\n",
       "      <td>0.250013</td>\n",
       "      <td>0.497755</td>\n",
       "      <td>0.748461</td>\n",
       "      <td>9.999734e-01</td>\n",
       "      <td>0.000000</td>\n",
       "    </tr>\n",
       "    <tr>\n",
       "      <th>score_6</th>\n",
       "      <td>59966.0</td>\n",
       "      <td>99.943175</td>\n",
       "      <td>10.035178</td>\n",
       "      <td>60.663039</td>\n",
       "      <td>93.213368</td>\n",
       "      <td>99.979923</td>\n",
       "      <td>106.691523</td>\n",
       "      <td>1.424301e+02</td>\n",
       "      <td>0.000000</td>\n",
       "    </tr>\n",
       "    <tr>\n",
       "      <th>risk_rate</th>\n",
       "      <td>59966.0</td>\n",
       "      <td>0.294114</td>\n",
       "      <td>0.101183</td>\n",
       "      <td>0.000000</td>\n",
       "      <td>0.220000</td>\n",
       "      <td>0.290000</td>\n",
       "      <td>0.360000</td>\n",
       "      <td>9.000000e-01</td>\n",
       "      <td>0.000000</td>\n",
       "    </tr>\n",
       "    <tr>\n",
       "      <th>amount_borrowed</th>\n",
       "      <td>59966.0</td>\n",
       "      <td>13411.805468</td>\n",
       "      <td>7957.402823</td>\n",
       "      <td>527.070000</td>\n",
       "      <td>7225.987500</td>\n",
       "      <td>12012.400000</td>\n",
       "      <td>18036.645000</td>\n",
       "      <td>3.505960e+04</td>\n",
       "      <td>0.000000</td>\n",
       "    </tr>\n",
       "    <tr>\n",
       "      <th>borrowed_in_months</th>\n",
       "      <td>59966.0</td>\n",
       "      <td>40.674649</td>\n",
       "      <td>9.504775</td>\n",
       "      <td>36.000000</td>\n",
       "      <td>36.000000</td>\n",
       "      <td>36.000000</td>\n",
       "      <td>36.000000</td>\n",
       "      <td>6.000000e+01</td>\n",
       "      <td>0.000000</td>\n",
       "    </tr>\n",
       "    <tr>\n",
       "      <th>credit_limit</th>\n",
       "      <td>41187.0</td>\n",
       "      <td>34093.005997</td>\n",
       "      <td>36783.480509</td>\n",
       "      <td>0.000000</td>\n",
       "      <td>9907.000000</td>\n",
       "      <td>25338.000000</td>\n",
       "      <td>46759.500000</td>\n",
       "      <td>6.131170e+05</td>\n",
       "      <td>0.313161</td>\n",
       "    </tr>\n",
       "    <tr>\n",
       "      <th>income</th>\n",
       "      <td>59966.0</td>\n",
       "      <td>71325.776783</td>\n",
       "      <td>51691.429992</td>\n",
       "      <td>4821.180000</td>\n",
       "      <td>44027.857500</td>\n",
       "      <td>60047.260000</td>\n",
       "      <td>85039.612500</td>\n",
       "      <td>5.000028e+06</td>\n",
       "      <td>0.000000</td>\n",
       "    </tr>\n",
       "    <tr>\n",
       "      <th>ok_since</th>\n",
       "      <td>24877.0</td>\n",
       "      <td>35.276762</td>\n",
       "      <td>21.630884</td>\n",
       "      <td>0.000000</td>\n",
       "      <td>17.000000</td>\n",
       "      <td>32.000000</td>\n",
       "      <td>50.000000</td>\n",
       "      <td>1.410000e+02</td>\n",
       "      <td>0.585148</td>\n",
       "    </tr>\n",
       "    <tr>\n",
       "      <th>n_bankruptcies</th>\n",
       "      <td>59764.0</td>\n",
       "      <td>0.077706</td>\n",
       "      <td>0.278433</td>\n",
       "      <td>0.000000</td>\n",
       "      <td>0.000000</td>\n",
       "      <td>0.000000</td>\n",
       "      <td>0.000000</td>\n",
       "      <td>6.000000e+00</td>\n",
       "      <td>0.003369</td>\n",
       "    </tr>\n",
       "    <tr>\n",
       "      <th>n_defaulted_loans</th>\n",
       "      <td>59948.0</td>\n",
       "      <td>0.004671</td>\n",
       "      <td>0.079059</td>\n",
       "      <td>0.000000</td>\n",
       "      <td>0.000000</td>\n",
       "      <td>0.000000</td>\n",
       "      <td>0.000000</td>\n",
       "      <td>5.000000e+00</td>\n",
       "      <td>0.000300</td>\n",
       "    </tr>\n",
       "    <tr>\n",
       "      <th>n_accounts</th>\n",
       "      <td>59966.0</td>\n",
       "      <td>10.624571</td>\n",
       "      <td>4.575357</td>\n",
       "      <td>0.000000</td>\n",
       "      <td>7.000000</td>\n",
       "      <td>10.000000</td>\n",
       "      <td>13.000000</td>\n",
       "      <td>4.900000e+01</td>\n",
       "      <td>0.000000</td>\n",
       "    </tr>\n",
       "    <tr>\n",
       "      <th>n_issues</th>\n",
       "      <td>44386.0</td>\n",
       "      <td>11.001036</td>\n",
       "      <td>4.569516</td>\n",
       "      <td>0.000000</td>\n",
       "      <td>8.000000</td>\n",
       "      <td>10.000000</td>\n",
       "      <td>14.000000</td>\n",
       "      <td>4.900000e+01</td>\n",
       "      <td>0.259814</td>\n",
       "    </tr>\n",
       "  </tbody>\n",
       "</table>\n",
       "</div>"
      ],
      "text/plain": [
       "                      count          mean           std          min  \\\n",
       "score_3             59966.0    346.435147    109.842822     0.000000   \n",
       "score_4             59966.0     99.999870      3.174459    86.191572   \n",
       "score_5             59966.0      0.498721      0.288653     0.000035   \n",
       "score_6             59966.0     99.943175     10.035178    60.663039   \n",
       "risk_rate           59966.0      0.294114      0.101183     0.000000   \n",
       "amount_borrowed     59966.0  13411.805468   7957.402823   527.070000   \n",
       "borrowed_in_months  59966.0     40.674649      9.504775    36.000000   \n",
       "credit_limit        41187.0  34093.005997  36783.480509     0.000000   \n",
       "income              59966.0  71325.776783  51691.429992  4821.180000   \n",
       "ok_since            24877.0     35.276762     21.630884     0.000000   \n",
       "n_bankruptcies      59764.0      0.077706      0.278433     0.000000   \n",
       "n_defaulted_loans   59948.0      0.004671      0.079059     0.000000   \n",
       "n_accounts          59966.0     10.624571      4.575357     0.000000   \n",
       "n_issues            44386.0     11.001036      4.569516     0.000000   \n",
       "\n",
       "                             25%           50%           75%           max  \\\n",
       "score_3               270.000000    340.000000    420.000000  9.900000e+02   \n",
       "score_4                97.856471    100.008497    102.134785  1.139782e+02   \n",
       "score_5                 0.250013      0.497755      0.748461  9.999734e-01   \n",
       "score_6                93.213368     99.979923    106.691523  1.424301e+02   \n",
       "risk_rate               0.220000      0.290000      0.360000  9.000000e-01   \n",
       "amount_borrowed      7225.987500  12012.400000  18036.645000  3.505960e+04   \n",
       "borrowed_in_months     36.000000     36.000000     36.000000  6.000000e+01   \n",
       "credit_limit         9907.000000  25338.000000  46759.500000  6.131170e+05   \n",
       "income              44027.857500  60047.260000  85039.612500  5.000028e+06   \n",
       "ok_since               17.000000     32.000000     50.000000  1.410000e+02   \n",
       "n_bankruptcies          0.000000      0.000000      0.000000  6.000000e+00   \n",
       "n_defaulted_loans       0.000000      0.000000      0.000000  5.000000e+00   \n",
       "n_accounts              7.000000     10.000000     13.000000  4.900000e+01   \n",
       "n_issues                8.000000     10.000000     14.000000  4.900000e+01   \n",
       "\n",
       "                    missing_rate  \n",
       "score_3                 0.000000  \n",
       "score_4                 0.000000  \n",
       "score_5                 0.000000  \n",
       "score_6                 0.000000  \n",
       "risk_rate               0.000000  \n",
       "amount_borrowed         0.000000  \n",
       "borrowed_in_months      0.000000  \n",
       "credit_limit            0.313161  \n",
       "income                  0.000000  \n",
       "ok_since                0.585148  \n",
       "n_bankruptcies          0.003369  \n",
       "n_defaulted_loans       0.000300  \n",
       "n_accounts              0.000000  \n",
       "n_issues                0.259814  "
      ]
     },
     "execution_count": 9,
     "metadata": {},
     "output_type": "execute_result"
    }
   ],
   "source": [
    "numerical_columns = df_train.select_dtypes('number').columns\n",
    "describe_df = df_train[numerical_columns].describe().T\n",
    "describe_df['missing_rate'] = (len(df_train) - describe_df['count']) / len(df_train)\n",
    "describe_df"
   ]
  },
  {
   "cell_type": "markdown",
   "metadata": {},
   "source": [
    "### Income boxplot"
   ]
  },
  {
   "cell_type": "code",
   "execution_count": 10,
   "metadata": {},
   "outputs": [
    {
     "data": {
      "text/plain": [
       "<matplotlib.axes._subplots.AxesSubplot at 0x7f5269f1bb50>"
      ]
     },
     "execution_count": 10,
     "metadata": {},
     "output_type": "execute_result"
    },
    {
     "data": {
      "image/png": "[encoded data removed]",
      "text/plain": [
       "<Figure size 432x288 with 1 Axes>"
      ]
     },
     "metadata": {},
     "output_type": "display_data"
    }
   ],
   "source": [
    "df_train['income'].plot(kind='box')"
   ]
  },
  {
   "cell_type": "markdown",
   "metadata": {},
   "source": [
    "### Bankruptcies amont clients without `credit_limit`"
   ]
  },
  {
   "cell_type": "code",
   "execution_count": 11,
   "metadata": {
    "scrolled": false
   },
   "outputs": [
    {
     "data": {
      "text/plain": [
       "array([ 0.,  1., nan,  2.])"
      ]
     },
     "execution_count": 11,
     "metadata": {},
     "output_type": "execute_result"
    }
   ],
   "source": [
    "df_train[df_train['credit_limit'].isna()]['n_bankruptcies'].unique()"
   ]
  },
  {
   "cell_type": "code",
   "execution_count": 12,
   "metadata": {
    "scrolled": false
   },
   "outputs": [
    {
     "data": {
      "text/plain": [
       "0.0    0.954577\n",
       "1.0    0.034453\n",
       "2.0    0.000213\n",
       "Name: n_bankruptcies, dtype: float64"
      ]
     },
     "execution_count": 12,
     "metadata": {},
     "output_type": "execute_result"
    }
   ],
   "source": [
    "df_train[df_train['credit_limit'].isna()]['n_bankruptcies'].value_counts() / len(df_train[df_train['credit_limit'].isna()])"
   ]
  },
  {
   "cell_type": "markdown",
   "metadata": {},
   "source": [
    "### Amount of defaulted loans amont clients without `credit_limit`"
   ]
  },
  {
   "cell_type": "code",
   "execution_count": 13,
   "metadata": {},
   "outputs": [
    {
     "data": {
      "text/plain": [
       "array([ 0., nan])"
      ]
     },
     "execution_count": 13,
     "metadata": {},
     "output_type": "execute_result"
    }
   ],
   "source": [
    "df_train[df_train['credit_limit'].isna()]['n_defaulted_loans'].unique()"
   ]
  },
  {
   "cell_type": "markdown",
   "metadata": {},
   "source": [
    "### Dropping the columns `credit_limit`, `ok_since` and `n_issues`"
   ]
  },
  {
   "cell_type": "code",
   "execution_count": 14,
   "metadata": {},
   "outputs": [],
   "source": [
    "feature_columns = feature_columns.drop(['credit_limit', 'ok_since', 'n_issues'])"
   ]
  },
  {
   "cell_type": "markdown",
   "metadata": {},
   "source": [
    "# Building the pipeline using `fklearn`\n",
    "A couple months back, I came across Nubank's library `fklearn`, but I have not stopped to try it out and read more about it. I decided this was the perfect opportunity to give it a try, and maybe even provide some feedback on it. I followed this [notebook](https://github.com/nubank/fklearn/blob/master/docs/source/examples/regression.ipynb) to get to know the basics.\n",
    "\n",
    "### Wrapper for the `category_encoders` lib methods.\n",
    "Inspired by the source code of `standard_scaler`, I created an auxiliary function that wraps the encoding function of the lib `category_encoders`, such as Leave One Out, Weight of Evidence, Hashing, Binary, etc. "
   ]
  },
  {
   "cell_type": "code",
   "execution_count": 97,
   "metadata": {},
   "outputs": [],
   "source": [
    "from numpy import nan\n",
    "from typing import Any, List, Dict, Callable\n",
    "from toolz import curry\n",
    "from fklearn.common_docstrings import learner_return_docstring, learner_pred_fn_docstring\n",
    "from fklearn.training.utils import log_learner_time\n",
    "from fklearn.training.transformation import apply_replacements\n",
    "from fklearn.types import LearnerFnType, LearnerReturnType, LogType\n",
    "from sklearn.base import BaseEstimator\n",
    "@curry\n",
    "@log_learner_time(learner_name='category_encoder_wrapper')\n",
    "def category_encoder_wrapper(df: pd.DataFrame,\n",
    "                             target_column: str,\n",
    "                             encoder_function: BaseEstimator,\n",
    "                             columns_to_encode: List[str]) -> LearnerReturnType:\n",
    "    \"\"\"\n",
    "    Fits an encoder of the library category-encoders to the dataset.\n",
    "\n",
    "    Parameters\n",
    "    ----------\n",
    "\n",
    "    df : pandas.DataFrame\n",
    "        A Pandas' DataFrame with columns to scale.\n",
    "        It must contain all columns listed in `columns_to_encode`.\n",
    "\n",
    "    columns_to_encode : list of str\n",
    "        A list of names of the columns for standard scaling.\n",
    "    \"\"\"\n",
    "\n",
    "    encoder = encoder_function()\n",
    "\n",
    "    encoder.fit(df[columns_to_encode], df[target_column])\n",
    "\n",
    "    def p(new_data_set: pd.DataFrame) -> pd.DataFrame:\n",
    "        new_data = encoder.transform(new_data_set[columns_to_encode])\n",
    "        if len(columns_to_encode) == new_data.shape[1]: # Replaces the columns\n",
    "            new_cols = pd.DataFrame(data=new_data, columns=columns_to_encode).to_dict('list')\n",
    "            return new_data_set.assign(**new_cols)\n",
    "        # Else, the encoder creates new columns\n",
    "        new_data.columns = ('fklearn_feat__' + new_data.columns).str.rsplit('_', 1).str.join('==')\n",
    "        return new_data_set.assign(**new_data).drop(columns_to_encode, axis=1)\n",
    "        \n",
    "        \n",
    "\n",
    "    p.__doc__ = learner_pred_fn_docstring(\"category_encoder_wrapper\")\n",
    "\n",
    "    log = {'category_encoder_wrapper': {\n",
    "        'encoder': encoder.get_params(),\n",
    "        'transformed_column': columns_to_encode}}\n",
    "\n",
    "    return p, p(df), log\n",
    "\n",
    "category_encoder_wrapper.__doc__ += learner_return_docstring(\"Category Encoder Wrapper\")"
   ]
  },
  {
   "cell_type": "markdown",
   "metadata": {},
   "source": [
    "### Encoding the categorical variables\n",
    "- Label encoding makes more sense when an order can be inferred from the categorical variables (e.g. Class A, B and C in a football league). As the data is encrypted, I am not able to interpret it properly to extract any order out of it. Because of that, I will use **LeaveOneOut encoding** for the columns `score_1`, `score_2`, `state`, `real_state` and `zip`, which should help reduce overfitting instead of a Target mean encoding, for example.\n",
    "- Due to the high cardinality, even after the category pruning, I decided to try a **binary encoding** on the columns `reason` and `job_name`.\n",
    "- I decided to use **LabelEncoding** for `gender` and `facebook_profile` \n",
    "\n",
    "Fixed a seed just for reproducibility."
   ]
  },
  {
   "cell_type": "code",
   "execution_count": 98,
   "metadata": {
    "scrolled": true
   },
   "outputs": [],
   "source": [
    "SEED = 123\n",
    "\n",
    "from fklearn.training.imputation import placeholder_imputer\n",
    "from fklearn.training.transformation import capper, selector, truncate_categorical, label_categorizer\n",
    "from fklearn.training.pipeline import build_pipeline\n",
    "from category_encoders import LeaveOneOutEncoder, BinaryEncoder\n",
    "\n",
    "# Select the columns for training\n",
    "# If any learner arguments is either a numpy array or a pandas Series, the line 43 in the script `pipeline.py`\n",
    "# throws a ValueError exception. I would suggest replacing it with the following:\n",
    "#  [p for p, a in signature(my_selector).parameters.items() if isinstance(a.default, str) and a.default == '__no__default__']\n",
    "# That is why I casted `feature_columns` to a list\n",
    "my_selector = selector(training_columns=list(feature_columns) + ['default'])\n",
    "\n",
    "# NaN imputation anc capping the income\n",
    "columns_to_impute = ['facebook_profile', 'gender', 'job_name', 'reason', 'n_bankruptcies', 'n_defaulted_loans']\n",
    "my_placeholder_imputer = placeholder_imputer(columns_to_impute=columns_to_impute)\n",
    "my_income_capper = capper(columns_to_cap=['income'], precomputed_caps={'income': 2000000})\n",
    "\n",
    "# Categorical variables encoding\n",
    "my_categ_truncate = truncate_categorical(columns_to_truncate=['job_name', 'reason'], percentile=1/len(df_train),\n",
    "                                         replacement=\"Other\", replace_unseen =\"Other\")\n",
    "my_leaveoneout_encoder = category_encoder_wrapper(target_column='default', encoder_function=LeaveOneOutEncoder,\n",
    "                                                  columns_to_encode=['score_1', 'score_2', 'state', 'real_state', 'zip'])\n",
    "my_binary_encoder = category_encoder_wrapper(target_column='default', encoder_function=BinaryEncoder, \n",
    "                                             columns_to_encode=['reason', 'job_name'])\n",
    "my_label_encoder = label_categorizer(columns_to_categorize=['gender', 'facebook_profile'])"
   ]
  },
  {
   "cell_type": "markdown",
   "metadata": {},
   "source": [
    "### Splitting into train and test (holdout set)\n",
    "Since this data does not have a temporal component, I randomly sampled 20% to be the holdout set"
   ]
  },
  {
   "cell_type": "code",
   "execution_count": 99,
   "metadata": {},
   "outputs": [],
   "source": [
    "from sklearn.model_selection import train_test_split\n",
    "X_train, X_test, y_train, y_test = train_test_split(df_train, df_train['default'], test_size=0.2, \n",
    "                                                    random_state=SEED, shuffle=True, stratify=df_train['default'])"
   ]
  },
  {
   "cell_type": "code",
   "execution_count": 104,
   "metadata": {},
   "outputs": [],
   "source": [
    "from fklearn.training.classification import lgbm_classification_learner\n",
    "my_lgbm = lgbm_classification_learner(\n",
    "    features=list(feature_columns),\n",
    "    target='default',\n",
    "    prediction_column='prediction',\n",
    "    extra_params={'seed': SEED, 'nthread': 8},\n",
    ")\n",
    "\n",
    "lgbm_pipeline = build_pipeline(\n",
    "    my_selector, my_placeholder_imputer, my_income_capper, my_categ_truncate, \n",
    "    my_leaveoneout_encoder, my_binary_encoder, my_label_encoder,\n",
    "    my_lgbm\n",
    ")\n",
    "\n",
    "(pred_fn_lgbm, lgbm_out, logs) = lgbm_pipeline(X_train)"
   ]
  },
  {
   "cell_type": "code",
   "execution_count": 105,
   "metadata": {},
   "outputs": [],
   "source": [
    "from fklearn.training.classification import xgb_classification_learner\n",
    "my_xgb = xgb_classification_learner(\n",
    "    features=list(feature_columns),\n",
    "    target='default',\n",
    "    prediction_column='prediction',\n",
    "    extra_params={'seed': SEED, 'nthread': 8, 'maxdepth': 4},\n",
    ")\n",
    "\n",
    "xgb_pipeline = build_pipeline(\n",
    "    my_selector, my_placeholder_imputer, my_income_capper, my_categ_truncate, \n",
    "    my_leaveoneout_encoder, my_binary_encoder, my_label_encoder,\n",
    "    my_xgb\n",
    ")\n",
    "\n",
    "(pred_fn_xgb, xgb_out, logs) = xgb_pipeline(X_train)"
   ]
  },
  {
   "cell_type": "code",
   "execution_count": 106,
   "metadata": {},
   "outputs": [],
   "source": [
    "from fklearn.training.classification import logistic_classification_learner\n",
    "my_logistic = logistic_classification_learner(\n",
    "    features=list(feature_columns),\n",
    "    target='default',\n",
    "    prediction_column='prediction',\n",
    "    params={'random_state': SEED, 'n_jobs': -1, 'class_weight': None},\n",
    ")\n",
    "\n",
    "logistic_pipeline = build_pipeline(\n",
    "    my_selector, my_placeholder_imputer, my_income_capper, my_categ_truncate, \n",
    "    my_leaveoneout_encoder, my_binary_encoder, my_label_encoder,\n",
    "    my_logistic\n",
    ")\n",
    "\n",
    "(pred_fn_logistic, logistic_out, logs) = logistic_pipeline(X_train)"
   ]
  },
  {
   "cell_type": "code",
   "execution_count": 107,
   "metadata": {},
   "outputs": [
    {
     "data": {
      "image/png": "[encoded data removed]",
      "text/plain": [
       "<Figure size 576x576 with 1 Axes>"
      ]
     },
     "metadata": {},
     "output_type": "display_data"
    }
   ],
   "source": [
    "from sklearn.metrics import roc_curve, auc\n",
    "plt.figure(figsize=(8,8))\n",
    "\n",
    "for (pred_fn, model_name) in zip([pred_fn_lgbm, pred_fn_xgb, pred_fn_logistic],\n",
    "                                 ['LGBM', 'XGBoost', 'Logistic']):\n",
    "    fpr, tpr, thrs = roc_curve(y_test, pred_fn(X_test)['prediction'])\n",
    "    roc_auc = auc(fpr, tpr)\n",
    "    plt.plot(fpr, tpr, label='%s ROC curve (area = %0.2f)' % (model_name, roc_auc))\n",
    "\n",
    "plt.plot([0, 1], [0, 1], 'k--')\n",
    "plt.xlim([0.0, 1.0])\n",
    "plt.ylim([0.0, 1.05])\n",
    "plt.xlabel('False Positive Rate')\n",
    "plt.ylabel('True Positive Rate')\n",
    "plt.title('Receiver operating characteristic example')\n",
    "plt.legend(loc=\"lower right\")\n",
    "plt.show()"
   ]
  },
  {
   "cell_type": "code",
   "execution_count": 108,
   "metadata": {},
   "outputs": [
    {
     "data": {
      "image/png": "[encoded data removed]",
      "text/plain": [
       "<Figure size 576x576 with 1 Axes>"
      ]
     },
     "metadata": {},
     "output_type": "display_data"
    }
   ],
   "source": [
    "from sklearn.metrics import roc_curve, auc\n",
    "plt.figure(figsize=(8,8))\n",
    "\n",
    "for (train_out, model_name) in zip([lgbm_out, xgb_out, logistic_out],\n",
    "                                 ['LGBM', 'XGBoost', 'Logistic']):\n",
    "    fpr, tpr, thrs = roc_curve(y_train, train_out['prediction'])\n",
    "    roc_auc = auc(fpr, tpr)\n",
    "    plt.plot(fpr, tpr, label='%s ROC curve (area = %0.2f)' % (model_name, roc_auc))\n",
    "\n",
    "plt.plot([0, 1], [0, 1], 'k--')\n",
    "plt.xlim([0.0, 1.0])\n",
    "plt.ylim([0.0, 1.05])\n",
    "plt.xlabel('False Positive Rate')\n",
    "plt.ylabel('True Positive Rate')\n",
    "plt.title('Receiver operating characteristic example')\n",
    "plt.legend(loc=\"lower right\")\n",
    "plt.show()"
   ]
  },
  {
   "cell_type": "markdown",
   "metadata": {},
   "source": [
    "# Grid search"
   ]
  },
  {
   "cell_type": "code",
   "execution_count": 170,
   "metadata": {},
   "outputs": [],
   "source": [
    "from fklearn.validation.splitters import k_fold_splitter\n",
    "split_fn = k_fold_splitter(n_splits=5, random_state=SEED, stratify_column='default')\n",
    "\n",
    "params_space = {\n",
    "    'learning_rate': lambda: [1e-3, 1e-2, 1e-1, 1],\n",
    "    'num_estimators': lambda: [20, 100, 200, 300]\n",
    "}\n",
    "\n",
    "from toolz.functoolz import curry\n",
    "@curry\n",
    "def param_train_fn(space, train_set):\n",
    "    my_xgb = xgb_classification_learner(\n",
    "        features=list(feature_columns),\n",
    "        target='default',\n",
    "        prediction_column='prediction',\n",
    "        learning_rate=space['learning_rate'],\n",
    "        num_estimators=space['num_estimators'],\n",
    "        extra_params={'seed': SEED, 'nthread': 8, 'maxdepth': 4}\n",
    "    )\n",
    "\n",
    "    pipeline = build_pipeline(\n",
    "        my_selector, my_placeholder_imputer, my_income_capper, my_categ_truncate, \n",
    "        my_leaveoneout_encoder, my_binary_encoder, my_label_encoder,\n",
    "        my_xgb\n",
    "    )\n",
    "    return pipeline(train_set)\n",
    "\n",
    "from fklearn.validation.evaluators import roc_auc_evaluator\n",
    "from fklearn.tuning.parameter_tuners import grid_search_cv\n",
    "tuning_log = grid_search_cv(params_space, df_train, param_train_fn, split_fn, \n",
    "                            roc_auc_evaluator(target_column='default'), n_jobs=4)"
   ]
  },
  {
   "cell_type": "code",
   "execution_count": null,
   "metadata": {},
   "outputs": [],
   "source": []
  },
  {
   "cell_type": "code",
   "execution_count": 171,
   "metadata": {},
   "outputs": [],
   "source": [
    "from fklearn.tuning.utils import *\n",
    "from fklearn.metrics.pd_extractors import extract, evaluator_extractor"
   ]
  },
  {
   "cell_type": "code",
   "execution_count": 172,
   "metadata": {},
   "outputs": [],
   "source": [
    "result_list = []\n",
    "for log in tuning_log:\n",
    "    df_log = pd.DataFrame(log['validator_log'])\n",
    "    df_log['roc_auc'] = df_log['eval_results'].map(lambda x: x[0]['roc_auc_evaluator__default'])\n",
    "    iter_space = pd.Series(log['iter_space']).to_dict()\n",
    "    for param, value in iter_space.items():\n",
    "        df_log[param] = value\n",
    "    df_log.drop(['eval_results', 'split_log'], axis=1, inplace=True)\n",
    "    result_list.append(df_log)\n",
    "    \n",
    "gridsearch_result = pd.concat(result_list)"
   ]
  },
  {
   "cell_type": "code",
   "execution_count": 173,
   "metadata": {},
   "outputs": [],
   "source": [
    "auc_mean = gridsearch_result.groupby(['learning_rate', 'num_estimators'])['roc_auc'].mean()\n",
    "auc_std = gridsearch_result.groupby(['learning_rate', 'num_estimators'])['roc_auc'].std()"
   ]
  },
  {
   "cell_type": "code",
   "execution_count": 174,
   "metadata": {},
   "outputs": [
    {
     "data": {
      "text/plain": [
       "learning_rate  num_estimators\n",
       "0.001          20.0              0.69351 +- 0.00693\n",
       "               100.0             0.69655 +- 0.00578\n",
       "               200.0             0.69767 +- 0.00515\n",
       "               300.0              0.6987 +- 0.00497\n",
       "0.010          20.0              0.69766 +- 0.00508\n",
       "               100.0             0.70176 +- 0.00531\n",
       "               200.0              0.7041 +- 0.00507\n",
       "               300.0             0.70458 +- 0.00457\n",
       "0.100          20.0              0.70385 +- 0.00483\n",
       "               100.0              0.7025 +- 0.00335\n",
       "               200.0             0.69921 +- 0.00384\n",
       "               300.0             0.69597 +- 0.00433\n",
       "1.000          20.0               0.6693 +- 0.00489\n",
       "               100.0             0.63399 +- 0.00688\n",
       "               200.0             0.63031 +- 0.00368\n",
       "               300.0             0.63233 +- 0.00498\n",
       "Name: roc_auc, dtype: object"
      ]
     },
     "execution_count": 174,
     "metadata": {},
     "output_type": "execute_result"
    }
   ],
   "source": [
    "auc_mean.round(5).astype('str') + ' +- ' + auc_std.round(5).astype('str')"
   ]
  },
  {
   "cell_type": "code",
   "execution_count": null,
   "metadata": {},
   "outputs": [],
   "source": []
  },
  {
   "cell_type": "code",
   "execution_count": null,
   "metadata": {},
   "outputs": [],
   "source": []
  },
  {
   "cell_type": "code",
   "execution_count": 39,
   "metadata": {},
   "outputs": [
    {
     "data": {
      "text/html": [
       "<div>\n",
       "<style scoped>\n",
       "    .dataframe tbody tr th:only-of-type {\n",
       "        vertical-align: middle;\n",
       "    }\n",
       "\n",
       "    .dataframe tbody tr th {\n",
       "        vertical-align: top;\n",
       "    }\n",
       "\n",
       "    .dataframe thead th {\n",
       "        text-align: right;\n",
       "    }\n",
       "</style>\n",
       "<table border=\"1\" class=\"dataframe\">\n",
       "  <thead>\n",
       "    <tr style=\"text-align: right;\">\n",
       "      <th></th>\n",
       "      <th>score_1</th>\n",
       "      <th>score_2</th>\n",
       "      <th>score_3</th>\n",
       "      <th>score_4</th>\n",
       "      <th>score_5</th>\n",
       "      <th>score_6</th>\n",
       "      <th>risk_rate</th>\n",
       "      <th>amount_borrowed</th>\n",
       "      <th>borrowed_in_months</th>\n",
       "      <th>income</th>\n",
       "      <th>...</th>\n",
       "      <th>job_name_8</th>\n",
       "      <th>job_name_9</th>\n",
       "      <th>job_name_10</th>\n",
       "      <th>job_name_11</th>\n",
       "      <th>job_name_12</th>\n",
       "      <th>job_name_13</th>\n",
       "      <th>job_name_14</th>\n",
       "      <th>job_name_15</th>\n",
       "      <th>job_name_16</th>\n",
       "      <th>prediction</th>\n",
       "    </tr>\n",
       "  </thead>\n",
       "  <tbody>\n",
       "    <tr>\n",
       "      <th>32710</th>\n",
       "      <td>0.180477</td>\n",
       "      <td>0.146593</td>\n",
       "      <td>220.0</td>\n",
       "      <td>99.791167</td>\n",
       "      <td>0.362976</td>\n",
       "      <td>91.890306</td>\n",
       "      <td>0.21</td>\n",
       "      <td>4813.61</td>\n",
       "      <td>36.0</td>\n",
       "      <td>30016.80</td>\n",
       "      <td>...</td>\n",
       "      <td>0</td>\n",
       "      <td>0</td>\n",
       "      <td>0</td>\n",
       "      <td>0</td>\n",
       "      <td>0</td>\n",
       "      <td>0</td>\n",
       "      <td>0</td>\n",
       "      <td>0</td>\n",
       "      <td>0</td>\n",
       "      <td>0.179313</td>\n",
       "    </tr>\n",
       "    <tr>\n",
       "      <th>48549</th>\n",
       "      <td>0.180477</td>\n",
       "      <td>0.212723</td>\n",
       "      <td>340.0</td>\n",
       "      <td>100.294893</td>\n",
       "      <td>0.902335</td>\n",
       "      <td>90.738296</td>\n",
       "      <td>0.38</td>\n",
       "      <td>2024.17</td>\n",
       "      <td>36.0</td>\n",
       "      <td>24019.57</td>\n",
       "      <td>...</td>\n",
       "      <td>0</td>\n",
       "      <td>0</td>\n",
       "      <td>0</td>\n",
       "      <td>0</td>\n",
       "      <td>0</td>\n",
       "      <td>0</td>\n",
       "      <td>0</td>\n",
       "      <td>0</td>\n",
       "      <td>0</td>\n",
       "      <td>0.032078</td>\n",
       "    </tr>\n",
       "    <tr>\n",
       "      <th>31598</th>\n",
       "      <td>0.117866</td>\n",
       "      <td>0.104394</td>\n",
       "      <td>370.0</td>\n",
       "      <td>98.984264</td>\n",
       "      <td>0.933744</td>\n",
       "      <td>116.783979</td>\n",
       "      <td>0.38</td>\n",
       "      <td>19747.86</td>\n",
       "      <td>36.0</td>\n",
       "      <td>45530.16</td>\n",
       "      <td>...</td>\n",
       "      <td>1</td>\n",
       "      <td>1</td>\n",
       "      <td>0</td>\n",
       "      <td>0</td>\n",
       "      <td>0</td>\n",
       "      <td>1</td>\n",
       "      <td>0</td>\n",
       "      <td>1</td>\n",
       "      <td>1</td>\n",
       "      <td>0.073162</td>\n",
       "    </tr>\n",
       "    <tr>\n",
       "      <th>21373</th>\n",
       "      <td>0.117866</td>\n",
       "      <td>0.132628</td>\n",
       "      <td>370.0</td>\n",
       "      <td>99.726744</td>\n",
       "      <td>0.880557</td>\n",
       "      <td>81.547633</td>\n",
       "      <td>0.32</td>\n",
       "      <td>15013.31</td>\n",
       "      <td>36.0</td>\n",
       "      <td>65031.65</td>\n",
       "      <td>...</td>\n",
       "      <td>0</td>\n",
       "      <td>0</td>\n",
       "      <td>0</td>\n",
       "      <td>0</td>\n",
       "      <td>0</td>\n",
       "      <td>0</td>\n",
       "      <td>0</td>\n",
       "      <td>0</td>\n",
       "      <td>0</td>\n",
       "      <td>0.210516</td>\n",
       "    </tr>\n",
       "    <tr>\n",
       "      <th>53163</th>\n",
       "      <td>0.302158</td>\n",
       "      <td>0.298799</td>\n",
       "      <td>290.0</td>\n",
       "      <td>95.166986</td>\n",
       "      <td>0.055290</td>\n",
       "      <td>108.147291</td>\n",
       "      <td>0.39</td>\n",
       "      <td>20034.22</td>\n",
       "      <td>36.0</td>\n",
       "      <td>110451.75</td>\n",
       "      <td>...</td>\n",
       "      <td>0</td>\n",
       "      <td>0</td>\n",
       "      <td>0</td>\n",
       "      <td>0</td>\n",
       "      <td>0</td>\n",
       "      <td>0</td>\n",
       "      <td>0</td>\n",
       "      <td>0</td>\n",
       "      <td>0</td>\n",
       "      <td>0.387636</td>\n",
       "    </tr>\n",
       "    <tr>\n",
       "      <th>...</th>\n",
       "      <td>...</td>\n",
       "      <td>...</td>\n",
       "      <td>...</td>\n",
       "      <td>...</td>\n",
       "      <td>...</td>\n",
       "      <td>...</td>\n",
       "      <td>...</td>\n",
       "      <td>...</td>\n",
       "      <td>...</td>\n",
       "      <td>...</td>\n",
       "      <td>...</td>\n",
       "      <td>...</td>\n",
       "      <td>...</td>\n",
       "      <td>...</td>\n",
       "      <td>...</td>\n",
       "      <td>...</td>\n",
       "      <td>...</td>\n",
       "      <td>...</td>\n",
       "      <td>...</td>\n",
       "      <td>...</td>\n",
       "      <td>...</td>\n",
       "    </tr>\n",
       "    <tr>\n",
       "      <th>64095</th>\n",
       "      <td>0.117866</td>\n",
       "      <td>0.115119</td>\n",
       "      <td>480.0</td>\n",
       "      <td>98.238469</td>\n",
       "      <td>0.187499</td>\n",
       "      <td>118.376911</td>\n",
       "      <td>0.25</td>\n",
       "      <td>2425.48</td>\n",
       "      <td>36.0</td>\n",
       "      <td>39016.52</td>\n",
       "      <td>...</td>\n",
       "      <td>0</td>\n",
       "      <td>0</td>\n",
       "      <td>0</td>\n",
       "      <td>0</td>\n",
       "      <td>0</td>\n",
       "      <td>0</td>\n",
       "      <td>0</td>\n",
       "      <td>0</td>\n",
       "      <td>0</td>\n",
       "      <td>0.170328</td>\n",
       "    </tr>\n",
       "    <tr>\n",
       "      <th>19990</th>\n",
       "      <td>0.057554</td>\n",
       "      <td>0.063245</td>\n",
       "      <td>370.0</td>\n",
       "      <td>102.782249</td>\n",
       "      <td>0.898249</td>\n",
       "      <td>103.722546</td>\n",
       "      <td>0.27</td>\n",
       "      <td>13017.21</td>\n",
       "      <td>36.0</td>\n",
       "      <td>86032.41</td>\n",
       "      <td>...</td>\n",
       "      <td>0</td>\n",
       "      <td>1</td>\n",
       "      <td>1</td>\n",
       "      <td>1</td>\n",
       "      <td>0</td>\n",
       "      <td>0</td>\n",
       "      <td>1</td>\n",
       "      <td>0</td>\n",
       "      <td>1</td>\n",
       "      <td>0.027725</td>\n",
       "    </tr>\n",
       "    <tr>\n",
       "      <th>39240</th>\n",
       "      <td>0.180477</td>\n",
       "      <td>0.212723</td>\n",
       "      <td>170.0</td>\n",
       "      <td>96.849105</td>\n",
       "      <td>0.731738</td>\n",
       "      <td>104.258793</td>\n",
       "      <td>0.38</td>\n",
       "      <td>5010.40</td>\n",
       "      <td>36.0</td>\n",
       "      <td>300021.23</td>\n",
       "      <td>...</td>\n",
       "      <td>1</td>\n",
       "      <td>0</td>\n",
       "      <td>0</td>\n",
       "      <td>0</td>\n",
       "      <td>0</td>\n",
       "      <td>0</td>\n",
       "      <td>0</td>\n",
       "      <td>1</td>\n",
       "      <td>1</td>\n",
       "      <td>0.003296</td>\n",
       "    </tr>\n",
       "    <tr>\n",
       "      <th>24379</th>\n",
       "      <td>0.233186</td>\n",
       "      <td>0.268317</td>\n",
       "      <td>480.0</td>\n",
       "      <td>95.892834</td>\n",
       "      <td>0.973488</td>\n",
       "      <td>87.535022</td>\n",
       "      <td>0.23</td>\n",
       "      <td>13804.76</td>\n",
       "      <td>36.0</td>\n",
       "      <td>52029.41</td>\n",
       "      <td>...</td>\n",
       "      <td>0</td>\n",
       "      <td>0</td>\n",
       "      <td>0</td>\n",
       "      <td>0</td>\n",
       "      <td>1</td>\n",
       "      <td>1</td>\n",
       "      <td>0</td>\n",
       "      <td>1</td>\n",
       "      <td>1</td>\n",
       "      <td>0.281769</td>\n",
       "    </tr>\n",
       "    <tr>\n",
       "      <th>12529</th>\n",
       "      <td>0.117866</td>\n",
       "      <td>0.148106</td>\n",
       "      <td>380.0</td>\n",
       "      <td>97.212670</td>\n",
       "      <td>0.244789</td>\n",
       "      <td>90.288181</td>\n",
       "      <td>0.22</td>\n",
       "      <td>8219.29</td>\n",
       "      <td>36.0</td>\n",
       "      <td>47030.82</td>\n",
       "      <td>...</td>\n",
       "      <td>0</td>\n",
       "      <td>0</td>\n",
       "      <td>0</td>\n",
       "      <td>0</td>\n",
       "      <td>0</td>\n",
       "      <td>0</td>\n",
       "      <td>0</td>\n",
       "      <td>0</td>\n",
       "      <td>0</td>\n",
       "      <td>0.132935</td>\n",
       "    </tr>\n",
       "  </tbody>\n",
       "</table>\n",
       "<p>11994 rows × 52 columns</p>\n",
       "</div>"
      ],
      "text/plain": [
       "        score_1   score_2  score_3     score_4   score_5     score_6  \\\n",
       "32710  0.180477  0.146593    220.0   99.791167  0.362976   91.890306   \n",
       "48549  0.180477  0.212723    340.0  100.294893  0.902335   90.738296   \n",
       "31598  0.117866  0.104394    370.0   98.984264  0.933744  116.783979   \n",
       "21373  0.117866  0.132628    370.0   99.726744  0.880557   81.547633   \n",
       "53163  0.302158  0.298799    290.0   95.166986  0.055290  108.147291   \n",
       "...         ...       ...      ...         ...       ...         ...   \n",
       "64095  0.117866  0.115119    480.0   98.238469  0.187499  118.376911   \n",
       "19990  0.057554  0.063245    370.0  102.782249  0.898249  103.722546   \n",
       "39240  0.180477  0.212723    170.0   96.849105  0.731738  104.258793   \n",
       "24379  0.233186  0.268317    480.0   95.892834  0.973488   87.535022   \n",
       "12529  0.117866  0.148106    380.0   97.212670  0.244789   90.288181   \n",
       "\n",
       "       risk_rate  amount_borrowed  borrowed_in_months     income  ...  \\\n",
       "32710       0.21          4813.61                36.0   30016.80  ...   \n",
       "48549       0.38          2024.17                36.0   24019.57  ...   \n",
       "31598       0.38         19747.86                36.0   45530.16  ...   \n",
       "21373       0.32         15013.31                36.0   65031.65  ...   \n",
       "53163       0.39         20034.22                36.0  110451.75  ...   \n",
       "...          ...              ...                 ...        ...  ...   \n",
       "64095       0.25          2425.48                36.0   39016.52  ...   \n",
       "19990       0.27         13017.21                36.0   86032.41  ...   \n",
       "39240       0.38          5010.40                36.0  300021.23  ...   \n",
       "24379       0.23         13804.76                36.0   52029.41  ...   \n",
       "12529       0.22          8219.29                36.0   47030.82  ...   \n",
       "\n",
       "       job_name_8  job_name_9  job_name_10  job_name_11  job_name_12  \\\n",
       "32710           0           0            0            0            0   \n",
       "48549           0           0            0            0            0   \n",
       "31598           1           1            0            0            0   \n",
       "21373           0           0            0            0            0   \n",
       "53163           0           0            0            0            0   \n",
       "...           ...         ...          ...          ...          ...   \n",
       "64095           0           0            0            0            0   \n",
       "19990           0           1            1            1            0   \n",
       "39240           1           0            0            0            0   \n",
       "24379           0           0            0            0            1   \n",
       "12529           0           0            0            0            0   \n",
       "\n",
       "       job_name_13  job_name_14  job_name_15  job_name_16  prediction  \n",
       "32710            0            0            0            0    0.179313  \n",
       "48549            0            0            0            0    0.032078  \n",
       "31598            1            0            1            1    0.073162  \n",
       "21373            0            0            0            0    0.210516  \n",
       "53163            0            0            0            0    0.387636  \n",
       "...            ...          ...          ...          ...         ...  \n",
       "64095            0            0            0            0    0.170328  \n",
       "19990            0            1            0            1    0.027725  \n",
       "39240            0            0            1            1    0.003296  \n",
       "24379            1            0            1            1    0.281769  \n",
       "12529            0            0            0            0    0.132935  \n",
       "\n",
       "[11994 rows x 52 columns]"
      ]
     },
     "execution_count": 39,
     "metadata": {},
     "output_type": "execute_result"
    }
   ],
   "source": [
    "prediction_function(X_test)"
   ]
  },
  {
   "cell_type": "code",
   "execution_count": 223,
   "metadata": {},
   "outputs": [],
   "source": [
    "from sklearn.metrics import f1_score"
   ]
  },
  {
   "cell_type": "code",
   "execution_count": 225,
   "metadata": {},
   "outputs": [
    {
     "data": {
      "text/plain": [
       "32710    False\n",
       "48549    False\n",
       "31598    False\n",
       "21373    False\n",
       "53163    False\n",
       "         ...  \n",
       "64095    False\n",
       "19990    False\n",
       "39240    False\n",
       "24379    False\n",
       "12529    False\n",
       "Name: default, Length: 11994, dtype: bool"
      ]
     },
     "execution_count": 225,
     "metadata": {},
     "output_type": "execute_result"
    }
   ],
   "source": [
    "prediction_function(X_test)['default']"
   ]
  },
  {
   "cell_type": "code",
   "execution_count": 226,
   "metadata": {},
   "outputs": [
    {
     "data": {
      "text/plain": [
       "1.0"
      ]
     },
     "execution_count": 226,
     "metadata": {},
     "output_type": "execute_result"
    }
   ],
   "source": [
    "f1_score(y_test, prediction_function(X_test)['default'])"
   ]
  },
  {
   "cell_type": "code",
   "execution_count": null,
   "metadata": {},
   "outputs": [],
   "source": []
  },
  {
   "cell_type": "code",
   "execution_count": 191,
   "metadata": {},
   "outputs": [],
   "source": [
    "# na_count = df_train.isna().sum()\n",
    "# full_columns = na_count[na_count == 0].index\n",
    "# df_train_rf = df_train[full_columns]\n",
    "\n",
    "df_train_rf = df_train.dropna()\n",
    "\n",
    "categorical_columns = list(set(df_train_rf.select_dtypes('object').columns) - {'ids'})"
   ]
  },
  {
   "cell_type": "code",
   "execution_count": 192,
   "metadata": {},
   "outputs": [
    {
     "name": "stderr",
     "output_type": "stream",
     "text": [
      "/home/lucas/miniconda3/envs/nuenv/lib/python3.7/site-packages/pandas/core/frame.py:3509: SettingWithCopyWarning: \n",
      "A value is trying to be set on a copy of a slice from a DataFrame.\n",
      "Try using .loc[row_indexer,col_indexer] = value instead\n",
      "\n",
      "See the caveats in the documentation: http://pandas.pydata.org/pandas-docs/stable/user_guide/indexing.html#returning-a-view-versus-a-copy\n",
      "  self[k1] = value[k2]\n"
     ]
    }
   ],
   "source": [
    "df_train_rf[categorical_columns] = df_train_rf[categorical_columns].astype('category')\n",
    "df_train_rf[categorical_columns] = df_train_rf[categorical_columns].apply(lambda x: x.cat.codes)"
   ]
  },
  {
   "cell_type": "code",
   "execution_count": 193,
   "metadata": {},
   "outputs": [],
   "source": [
    "not_feat_columns = ['ids', 'default', 'facebook_profile']"
   ]
  },
  {
   "cell_type": "code",
   "execution_count": 194,
   "metadata": {},
   "outputs": [],
   "source": [
    "X = df_train_rf[df_train_rf.columns.drop(not_feat_columns)]\n",
    "y = df_train_rf['default'].astype(int)"
   ]
  },
  {
   "cell_type": "code",
   "execution_count": 195,
   "metadata": {},
   "outputs": [],
   "source": [
    "X_train, X_test, y_train, y_test = train_test_split(X, y, test_size=0.2, stratify=y)"
   ]
  },
  {
   "cell_type": "code",
   "execution_count": 201,
   "metadata": {},
   "outputs": [],
   "source": [
    "clf = RandomForestClassifier(max_depth=15, n_estimators=200, min_samples_split=0.05, class_weight='balanced', n_jobs=-1)"
   ]
  },
  {
   "cell_type": "code",
   "execution_count": 202,
   "metadata": {},
   "outputs": [
    {
     "data": {
      "text/plain": [
       "RandomForestClassifier(bootstrap=True, class_weight='balanced',\n",
       "                       criterion='gini', max_depth=15, max_features='auto',\n",
       "                       max_leaf_nodes=None, min_impurity_decrease=0.0,\n",
       "                       min_impurity_split=None, min_samples_leaf=1,\n",
       "                       min_samples_split=0.05, min_weight_fraction_leaf=0.0,\n",
       "                       n_estimators=200, n_jobs=-1, oob_score=False,\n",
       "                       random_state=None, verbose=0, warm_start=False)"
      ]
     },
     "execution_count": 202,
     "metadata": {},
     "output_type": "execute_result"
    }
   ],
   "source": [
    "clf.fit(X_train, y_train)"
   ]
  },
  {
   "cell_type": "code",
   "execution_count": 203,
   "metadata": {},
   "outputs": [],
   "source": [
    "train_pred = clf.predict(X_train)\n",
    "test_pred = clf.predict(X_test)"
   ]
  },
  {
   "cell_type": "code",
   "execution_count": 204,
   "metadata": {},
   "outputs": [
    {
     "data": {
      "text/html": [
       "<div>\n",
       "<style scoped>\n",
       "    .dataframe tbody tr th:only-of-type {\n",
       "        vertical-align: middle;\n",
       "    }\n",
       "\n",
       "    .dataframe tbody tr th {\n",
       "        vertical-align: top;\n",
       "    }\n",
       "\n",
       "    .dataframe thead th {\n",
       "        text-align: right;\n",
       "    }\n",
       "</style>\n",
       "<table border=\"1\" class=\"dataframe\">\n",
       "  <thead>\n",
       "    <tr style=\"text-align: right;\">\n",
       "      <th></th>\n",
       "      <th>0</th>\n",
       "      <th>1</th>\n",
       "      <th>accuracy</th>\n",
       "      <th>macro avg</th>\n",
       "      <th>weighted avg</th>\n",
       "    </tr>\n",
       "  </thead>\n",
       "  <tbody>\n",
       "    <tr>\n",
       "      <th>precision</th>\n",
       "      <td>0.898594</td>\n",
       "      <td>0.273900</td>\n",
       "      <td>0.693242</td>\n",
       "      <td>0.586247</td>\n",
       "      <td>0.799825</td>\n",
       "    </tr>\n",
       "    <tr>\n",
       "      <th>recall</th>\n",
       "      <td>0.716487</td>\n",
       "      <td>0.569468</td>\n",
       "      <td>0.693242</td>\n",
       "      <td>0.642977</td>\n",
       "      <td>0.693242</td>\n",
       "    </tr>\n",
       "    <tr>\n",
       "      <th>f1-score</th>\n",
       "      <td>0.797274</td>\n",
       "      <td>0.369892</td>\n",
       "      <td>0.693242</td>\n",
       "      <td>0.583583</td>\n",
       "      <td>0.729701</td>\n",
       "    </tr>\n",
       "    <tr>\n",
       "      <th>support</th>\n",
       "      <td>34531.000000</td>\n",
       "      <td>6485.000000</td>\n",
       "      <td>0.693242</td>\n",
       "      <td>41016.000000</td>\n",
       "      <td>41016.000000</td>\n",
       "    </tr>\n",
       "  </tbody>\n",
       "</table>\n",
       "</div>"
      ],
      "text/plain": [
       "                      0            1  accuracy     macro avg  weighted avg\n",
       "precision      0.898594     0.273900  0.693242      0.586247      0.799825\n",
       "recall         0.716487     0.569468  0.693242      0.642977      0.693242\n",
       "f1-score       0.797274     0.369892  0.693242      0.583583      0.729701\n",
       "support    34531.000000  6485.000000  0.693242  41016.000000  41016.000000"
      ]
     },
     "execution_count": 204,
     "metadata": {},
     "output_type": "execute_result"
    }
   ],
   "source": [
    "pd.DataFrame(classification_report(y_train, train_pred, output_dict=True))"
   ]
  },
  {
   "cell_type": "code",
   "execution_count": 205,
   "metadata": {},
   "outputs": [
    {
     "data": {
      "text/html": [
       "<div>\n",
       "<style scoped>\n",
       "    .dataframe tbody tr th:only-of-type {\n",
       "        vertical-align: middle;\n",
       "    }\n",
       "\n",
       "    .dataframe tbody tr th {\n",
       "        vertical-align: top;\n",
       "    }\n",
       "\n",
       "    .dataframe thead th {\n",
       "        text-align: right;\n",
       "    }\n",
       "</style>\n",
       "<table border=\"1\" class=\"dataframe\">\n",
       "  <thead>\n",
       "    <tr style=\"text-align: right;\">\n",
       "      <th></th>\n",
       "      <th>0</th>\n",
       "      <th>1</th>\n",
       "      <th>accuracy</th>\n",
       "      <th>macro avg</th>\n",
       "      <th>weighted avg</th>\n",
       "    </tr>\n",
       "  </thead>\n",
       "  <tbody>\n",
       "    <tr>\n",
       "      <th>precision</th>\n",
       "      <td>0.894767</td>\n",
       "      <td>0.266766</td>\n",
       "      <td>0.689292</td>\n",
       "      <td>0.580767</td>\n",
       "      <td>0.795490</td>\n",
       "    </tr>\n",
       "    <tr>\n",
       "      <th>recall</th>\n",
       "      <td>0.715047</td>\n",
       "      <td>0.552128</td>\n",
       "      <td>0.689292</td>\n",
       "      <td>0.633588</td>\n",
       "      <td>0.689292</td>\n",
       "    </tr>\n",
       "    <tr>\n",
       "      <th>f1-score</th>\n",
       "      <td>0.794875</td>\n",
       "      <td>0.359727</td>\n",
       "      <td>0.689292</td>\n",
       "      <td>0.577301</td>\n",
       "      <td>0.726085</td>\n",
       "    </tr>\n",
       "    <tr>\n",
       "      <th>support</th>\n",
       "      <td>8633.000000</td>\n",
       "      <td>1621.000000</td>\n",
       "      <td>0.689292</td>\n",
       "      <td>10254.000000</td>\n",
       "      <td>10254.000000</td>\n",
       "    </tr>\n",
       "  </tbody>\n",
       "</table>\n",
       "</div>"
      ],
      "text/plain": [
       "                     0            1  accuracy     macro avg  weighted avg\n",
       "precision     0.894767     0.266766  0.689292      0.580767      0.795490\n",
       "recall        0.715047     0.552128  0.689292      0.633588      0.689292\n",
       "f1-score      0.794875     0.359727  0.689292      0.577301      0.726085\n",
       "support    8633.000000  1621.000000  0.689292  10254.000000  10254.000000"
      ]
     },
     "execution_count": 205,
     "metadata": {},
     "output_type": "execute_result"
    }
   ],
   "source": [
    "pd.DataFrame(classification_report(y_test, test_pred, output_dict=True))"
   ]
  },
  {
   "cell_type": "code",
   "execution_count": 206,
   "metadata": {},
   "outputs": [],
   "source": [
    "from sklearn.metrics import f1_score"
   ]
  },
  {
   "cell_type": "code",
   "execution_count": 207,
   "metadata": {},
   "outputs": [
    {
     "data": {
      "text/plain": [
       "0.3597266881028939"
      ]
     },
     "execution_count": 207,
     "metadata": {},
     "output_type": "execute_result"
    }
   ],
   "source": [
    "f1_score(test_pred, y_test)"
   ]
  },
  {
   "cell_type": "code",
   "execution_count": 208,
   "metadata": {},
   "outputs": [
    {
     "data": {
      "text/plain": [
       "borrowed_in_months    0.344185\n",
       "score_1               0.256093\n",
       "income                0.119208\n",
       "risk_rate             0.077765\n",
       "score_2               0.048622\n",
       "amount_borrowed       0.048326\n",
       "gender                0.026502\n",
       "score_3               0.017956\n",
       "reason                0.011124\n",
       "real_state            0.010831\n",
       "score_4               0.008016\n",
       "score_6               0.007750\n",
       "score_5               0.006331\n",
       "n_accounts            0.005937\n",
       "zip                   0.005402\n",
       "state                 0.004775\n",
       "n_bankruptcies        0.001068\n",
       "n_defaulted_loans     0.000110\n",
       "dtype: float64"
      ]
     },
     "execution_count": 208,
     "metadata": {},
     "output_type": "execute_result"
    }
   ],
   "source": [
    "pd.Series(clf.feature_importances_, index=X.columns).sort_values(ascending=False)"
   ]
  },
  {
   "cell_type": "code",
   "execution_count": 209,
   "metadata": {},
   "outputs": [],
   "source": [
    "test_proba = clf.predict_proba(X_test)"
   ]
  },
  {
   "cell_type": "code",
   "execution_count": 214,
   "metadata": {},
   "outputs": [],
   "source": []
  },
  {
   "cell_type": "code",
   "execution_count": 212,
   "metadata": {},
   "outputs": [
    {
     "data": {
      "image/png": "[encoded data removed]",
      "text/plain": [
       "<Figure size 432x288 with 1 Axes>"
      ]
     },
     "metadata": {},
     "output_type": "display_data"
    }
   ],
   "source": [
    "fpr, tpr, thrs = roc_curve(y_test, test_proba[:,1])\n",
    "roc_auc = auc(fpr, tpr)\n",
    "\n",
    "plt.figure()\n",
    "plt.plot(fpr, tpr, label='ROC curve (area = %0.2f)' % roc_auc)\n",
    "plt.plot([0, 1], [0, 1], 'k--')\n",
    "plt.xlim([0.0, 1.0])\n",
    "plt.ylim([0.0, 1.05])\n",
    "plt.xlabel('False Positive Rate')\n",
    "plt.ylabel('True Positive Rate')\n",
    "plt.title('Receiver operating characteristic example')\n",
    "plt.legend(loc=\"lower right\")\n",
    "plt.show()"
   ]
  },
  {
   "cell_type": "code",
   "execution_count": null,
   "metadata": {},
   "outputs": [],
   "source": [
    "fpr = dict()\n",
    "tpr = dict()\n",
    "roc_auc = dict()\n",
    "for i in range(n_classes):\n",
    "    fpr[i], tpr[i], _ = roc_curve(y_test[:, i], y_score[:, i])\n",
    "    roc_auc[i] = auc(fpr[i], tpr[i])\n",
    "\n",
    "# Compute micro-average ROC curve and ROC area\n",
    "fpr[\"micro\"], tpr[\"micro\"], _ = roc_curve(y_test.ravel(), y_score.ravel())\n",
    "roc_auc[\"micro\"] = auc(fpr[\"micro\"], tpr[\"micro\"])\n",
    "\n",
    "# Plot of a ROC curve for a specific class\n",
    "plt.figure()\n",
    "plt.plot(fpr[2], tpr[2], label='ROC curve (area = %0.2f)' % roc_auc[2])\n",
    "plt.plot([0, 1], [0, 1], 'k--')\n",
    "plt.xlim([0.0, 1.0])\n",
    "plt.ylim([0.0, 1.05])\n",
    "plt.xlabel('False Positive Rate')\n",
    "plt.ylabel('True Positive Rate')\n",
    "plt.title('Receiver operating characteristic example')\n",
    "plt.legend(loc=\"lower right\")\n",
    "plt.show()"
   ]
  },
  {
   "cell_type": "code",
   "execution_count": null,
   "metadata": {},
   "outputs": [],
   "source": []
  },
  {
   "cell_type": "code",
   "execution_count": null,
   "metadata": {},
   "outputs": [],
   "source": []
  },
  {
   "cell_type": "code",
   "execution_count": null,
   "metadata": {},
   "outputs": [],
   "source": [
    "plt.figure()\n",
    "lw = 2\n",
    "plt.plot(fpr[2], tpr[2], color='darkorange',\n",
    "         lw=lw, label='ROC curve (area = %0.2f)' % roc_auc[2])\n",
    "plt.plot([0, 1], [0, 1], color='navy', lw=lw, linestyle='--')\n",
    "plt.xlim([0.0, 1.0])\n",
    "plt.ylim([0.0, 1.05])\n",
    "plt.xlabel('False Positive Rate')\n",
    "plt.ylabel('True Positive Rate')\n",
    "plt.title('Receiver operating characteristic example')\n",
    "plt.legend(loc=\"lower right\")\n",
    "plt.show()"
   ]
  },
  {
   "cell_type": "code",
   "execution_count": null,
   "metadata": {},
   "outputs": [],
   "source": []
  },
  {
   "cell_type": "markdown",
   "metadata": {},
   "source": [
    "### Salary inequality"
   ]
  },
  {
   "cell_type": "code",
   "execution_count": 32,
   "metadata": {},
   "outputs": [
    {
     "data": {
      "text/plain": [
       "job_name_code  gender\n",
       "-1             f         64976.946564\n",
       "               m         64708.863399\n",
       " 0             f                  NaN\n",
       "               m         55037.340000\n",
       " 1             f         24026.350000\n",
       "                             ...     \n",
       " 42260         m                  NaN\n",
       " 42261         f                  NaN\n",
       "               m         36014.580000\n",
       " 42262         f                  NaN\n",
       "               m         33026.120000\n",
       "Name: income, Length: 84528, dtype: float64"
      ]
     },
     "execution_count": 32,
     "metadata": {},
     "output_type": "execute_result"
    }
   ],
   "source": [
    "df_train['job_name_code'] = df_train['job_name'].astype('category').cat.codes\n",
    "df_train['gender'] = df_train['gender'].astype('category')\n",
    "df_train.groupby(['job_name_code', 'gender'])['income'].mean().dropna()"
   ]
  },
  {
   "cell_type": "code",
   "execution_count": 24,
   "metadata": {},
   "outputs": [
    {
     "data": {
      "image/png": "[encoded data removed]",
      "text/plain": [
       "<Figure size 432x288 with 1 Axes>"
      ]
     },
     "metadata": {},
     "output_type": "display_data"
    }
   ],
   "source": [
    "# ax = sns.barplot(x='sign', y='default', data=df_train.groupby('sign').sum()['default'].reset_index(), \n",
    "#                  palette='colorblind')\n",
    "# text = ax.set_xticklabels(ax.get_xticklabels(), rotation=90)"
   ]
  }
 ],
 "metadata": {
  "kernelspec": {
   "display_name": "Python 3",
   "language": "python",
   "name": "python3"
  },
  "language_info": {
   "codemirror_mode": {
    "name": "ipython",
    "version": 3
   },
   "file_extension": ".py",
   "mimetype": "text/x-python",
   "name": "python",
   "nbconvert_exporter": "python",
   "pygments_lexer": "ipython3",
   "version": "3.7.6"
  }
 },
 "nbformat": 4,
 "nbformat_minor": 4
}
