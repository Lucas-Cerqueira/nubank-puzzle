{
 "cells": [
  {
   "cell_type": "code",
   "execution_count": 53,
   "metadata": {},
   "outputs": [],
   "source": [
    "import pandas as pd\n",
    "import matplotlib.pyplot as plt\n",
    "import seaborn as sns\n",
    "sns.set(font_scale=1.3, style='whitegrid')"
   ]
  },
  {
   "cell_type": "markdown",
   "metadata": {},
   "source": [
    "## Brainstorming\n",
    "- Bigger weights for `amount_borrowed`, `borrowed_in_months`, `n_bankruptcies`\n",
    "- Filling NaN of `ok_since` with 0? Expect the worst?\n",
    "- Clip income due to outliers\n"
   ]
  },
  {
   "cell_type": "markdown",
   "metadata": {},
   "source": [
    "## Reading the data"
   ]
  },
  {
   "cell_type": "code",
   "execution_count": 78,
   "metadata": {},
   "outputs": [],
   "source": [
    "df_train = pd.read_csv('puzzle_train_dataset.csv')"
   ]
  },
  {
   "cell_type": "markdown",
   "metadata": {},
   "source": [
    "## Remove clients that do not have the target variable"
   ]
  },
  {
   "cell_type": "code",
   "execution_count": 233,
   "metadata": {},
   "outputs": [],
   "source": [
    "df_train.dropna(axis=0, subset=['default'], inplace=True)\n",
    "df_train['default'] = df_train['default'].astype(bool)\n",
    "feature_columns = df_train.columns.drop(['ids', 'default'])"
   ]
  },
  {
   "cell_type": "code",
   "execution_count": 80,
   "metadata": {},
   "outputs": [
    {
     "data": {
      "text/plain": [
       "ids                    object\n",
       "default                  bool\n",
       "score_1                object\n",
       "score_2                object\n",
       "score_3               float64\n",
       "score_4               float64\n",
       "score_5               float64\n",
       "score_6               float64\n",
       "risk_rate             float64\n",
       "amount_borrowed       float64\n",
       "borrowed_in_months    float64\n",
       "credit_limit          float64\n",
       "reason                 object\n",
       "income                float64\n",
       "sign                   object\n",
       "gender                 object\n",
       "facebook_profile       object\n",
       "state                  object\n",
       "zip                    object\n",
       "channel                object\n",
       "job_name               object\n",
       "real_state             object\n",
       "ok_since              float64\n",
       "n_bankruptcies        float64\n",
       "n_defaulted_loans     float64\n",
       "n_accounts            float64\n",
       "n_issues              float64\n",
       "dtype: object"
      ]
     },
     "execution_count": 80,
     "metadata": {},
     "output_type": "execute_result"
    }
   ],
   "source": [
    "df_train.dtypes"
   ]
  },
  {
   "cell_type": "markdown",
   "metadata": {},
   "source": [
    "## Describing the categorical columns\n",
    "- The column `sign` has a lot of missing data, so I decided to drop it. I also wonder if it would be useful at all for default prediction...\n",
    "- The column `channel` is equal to all the clients, so I dropped it.\n",
    "- The column `facebook_profile` has around 10% of missing data. **Is it useful?**\n",
    "- The column `reason` has only 5 missing values out of 59966. Because of the small amount, I decided to ~~drop these 5 clients as a person should not be able to ask for a loan without a known reason.~~ fill in with the most frequent.\n",
    "- I believe that the feature `job_name`, due to its huge amount of unique values, is very granular and, for the sake of default prediction, the client's income would carry as much information as the job name, if not more. So I decided not to use it."
   ]
  },
  {
   "cell_type": "markdown",
   "metadata": {},
   "source": [
    "# Replace less commom `reason` with others and `real_state`/`state` with probabilities of default"
   ]
  },
  {
   "cell_type": "code",
   "execution_count": 234,
   "metadata": {},
   "outputs": [
    {
     "data": {
      "text/plain": [
       "mLVIVxoGY7TUDJ1FyFoSIZi1SFcaBmO01AydRchaEiGYtUhXGgZjtNQMnUXIWhIhmLVIVxoGY7TUDJ1FyFoSIXuusuYraWV4rGB3v/7WqHKeKq5W600DOWmwjMTqsrAW    5921\n",
       "mLVIVxoGY7TUDJ1FyFoSIZi1SFcaBmO01AydRchaEiGYtUhXGgZjtNQMnUXIWhIhmLVIVxoGY7TUDJ1FyFoSIXuusuYraWV4rGB3v/7WqHIRsMoD5e3RXcnWOgQJkT1p    4091\n",
       "mLVIVxoGY7TUDJ1FyFoSIZi1SFcaBmO01AydRchaEiGYtUhXGgZjtNQMnUXIWhIhmLVIVxoGY7TUDJ1FyFoSIW76/BS2rZFHqQxXY+8F9NKu9aZ57vT61+K2XFrHtvT9    2046\n",
       "mLVIVxoGY7TUDJ1FyFoSIZi1SFcaBmO01AydRchaEiGYtUhXGgZjtNQMnUXIWhIhmLVIVxoGY7TUDJ1FyFoSIZi1SFcaBmO01AydRchaEiH9ooDQPWyPZgJWyjKkQUjr    1355\n",
       "mLVIVxoGY7TUDJ1FyFoSIZi1SFcaBmO01AydRchaEiGYtUhXGgZjtNQMnUXIWhIhmLVIVxoGY7TUDJ1FyFoSIRd8GOItgxlRAUGKcWd5xXCeKq5W600DOWmwjMTqsrAW    1182\n",
       "                                                                                                                                    ... \n",
       "mLVIVxoGY7TUDJ1FyFoSIZi1SFcaBmO01AydRchaEiGYtUhXGgZjtNQMnUXIWhIhmLVIVxoGY7TUDJ1FyFoSIZi1SFcaBmO01AydRchaEiEzAYeArD9c3QaMcoOOJr/t       1\n",
       "mLVIVxoGY7TUDJ1FyFoSIZi1SFcaBmO01AydRchaEiGYtUhXGgZjtNQMnUXIWhIhmLVIVxoGY7TUDJ1FyFoSIZ0f9jiNQtUnqk4msrbLVn7Ch6LcoMTkBb0ucIoc+0MD       1\n",
       "mLVIVxoGY7TUDJ1FyFoSIZi1SFcaBmO01AydRchaEiGYtUhXGgZjtNQMnUXIWhIhmLVIVxoGY7TUDJ1FyFoSIYFTqHSJU0if1hbDJsxdYNYIqb5xHIprNNoG3z930IVV       1\n",
       "mLVIVxoGY7TUDJ1FyFoSIZi1SFcaBmO01AydRchaEiGYtUhXGgZjtNQMnUXIWhIhmLVIVxoGY7TUDJ1FyFoSIW+s+HE0clPL2LepkXdhxbBqD9MxsHg8kc2nAUkSBQjr       1\n",
       "mLVIVxoGY7TUDJ1FyFoSIZi1SFcaBmO01AydRchaEiGYtUhXGgZjtNQMnUXIWhIhmLVIVxoGY7TUDJ1FyFoSIZi1SFcaBmO01AydRchaEiGk3xk9nWK3rvHvr9uBbgM8       1\n",
       "Name: reason, Length: 19496, dtype: int64"
      ]
     },
     "execution_count": 234,
     "metadata": {},
     "output_type": "execute_result"
    }
   ],
   "source": [
    "df_train['reason'].value_counts()"
   ]
  },
  {
   "cell_type": "code",
   "execution_count": 243,
   "metadata": {},
   "outputs": [
    {
     "data": {
      "text/plain": [
       "+qWF9pJpVGtTFn4vFjb/cg==    0.083333\n",
       "N5/CE7lSkAfB04hVFFwllw==    0.147235\n",
       "UX7AdFYgQh+VrVC5eIaU9w==    0.245283\n",
       "n+xK9CfX0bCn77lClTWviw==    0.171817\n",
       "nSpvDsIsslUaX6GE6m6eQA==    0.158497\n",
       "dtype: float64"
      ]
     },
     "execution_count": 243,
     "metadata": {},
     "output_type": "execute_result"
    }
   ],
   "source": [
    "df_train.groupby('real_state')['default'].sum() / df_train['real_state'].value_counts()"
   ]
  },
  {
   "cell_type": "code",
   "execution_count": 247,
   "metadata": {},
   "outputs": [
    {
     "data": {
      "text/plain": [
       "2"
      ]
     },
     "execution_count": 247,
     "metadata": {},
     "output_type": "execute_result"
    }
   ],
   "source": [
    "df_train['state'].value_counts()[\"DLK5rpOxZhCM5oQvfUpkTQ==\"]"
   ]
  },
  {
   "cell_type": "code",
   "execution_count": 249,
   "metadata": {},
   "outputs": [
    {
     "data": {
      "text/plain": [
       "725"
      ]
     },
     "execution_count": 249,
     "metadata": {},
     "output_type": "execute_result"
    }
   ],
   "source": [
    "df_train['state'].value_counts()[\"QCVqG0wT4xPLQuiTIExO2w==\"]"
   ]
  },
  {
   "cell_type": "code",
   "execution_count": 245,
   "metadata": {},
   "outputs": [
    {
     "data": {
      "text/plain": [
       "DLK5rpOxZhCM5oQvfUpkTQ==    1.000000\n",
       "GFOaXqGcKJxSSF9aBDDNaA==    0.333333\n",
       "QCVqG0wT4xPLQuiTIExO2w==    0.200000\n",
       "qItmSqWrjm+MopDA+UpKRw==    0.198291\n",
       "OCoEDgPLpDjHcbEmPpAjvA==    0.186592\n",
       "ZVfsutsd1Go0zZEnGp0vEA==    0.182004\n",
       "rrVbgRNTRyB6auEycsRrpA==    0.181884\n",
       "/78Q+NAqnsdbiE2JReYK9Q==    0.179439\n",
       "fMOpZ7DFhwQgTxW547UMCQ==    0.178451\n",
       "1DpYl6dtzY0qE33poow3iw==    0.175782\n",
       "8ZKN5LHxobLWh6drCDlmhQ==    0.175342\n",
       "x6Gw/1I8t3KPgT6s82Kodg==    0.174293\n",
       "1vMmtGURgMcjxQbV2KQiUw==    0.173852\n",
       "P1TKs1aii8osbgO+MszZ2w==    0.173469\n",
       "BB/zpwTH+8GCIVHlhzOU1Q==    0.171734\n",
       "0lQuvmygO68ZFXZjzHEOww==    0.171594\n",
       "NX0S6z5x5fEStwXfBQN5FQ==    0.170370\n",
       "0gQEZgRHqS5KSF3oWQrQfw==    0.169014\n",
       "E8shyM/6btBNXXExsO17zw==    0.164609\n",
       "7bX4XFXmYqoMspxup0CrKA==    0.163917\n",
       "JrdZzPZEa/YIIGwh8OdTKA==    0.161259\n",
       "ygE7OTdsxRMLeXMa0EZwZw==    0.160057\n",
       "LXZkF0tV1Ma9JIlIvaUDiw==    0.159292\n",
       "1xxlFOWSFxK0/J2VdCKP3g==    0.158235\n",
       "82aTqSzrTImY+SbAOBQzGQ==    0.157328\n",
       "bwNrC22VlFOFk6/nEHQc6A==    0.155556\n",
       "/EoxQEzy1PWWTtv6DNwr2w==    0.153790\n",
       "VafbDA6D5W2TpGMAUJbW8Q==    0.153307\n",
       "/L8vvVesB5WyAv190Hw/rQ==    0.153165\n",
       "ZUmHOp1/xBWh5O/uqDutsw==    0.152819\n",
       "xsd3ZdsI3356I3xMxZeiqQ==    0.152566\n",
       "TYC58USu+Tq7c/WS4YLnuQ==    0.152174\n",
       "GW2VZ3dN3OGHSjQ6JkfqQw==    0.151625\n",
       "Ygq6MsM98oC8yceExr69Ig==    0.149440\n",
       "kfFcVGcsJmH2n3eYprLkeQ==    0.146919\n",
       "fR2lwAMjCb/fNXjsApiOTw==    0.146657\n",
       "5hPtRY8gW/3+fPXvGIgWTg==    0.145178\n",
       "cd+7k16vaf6SzwSyvT/fHw==    0.141414\n",
       "sjJbkqJS7cXalHLBFA+EOQ==    0.135616\n",
       "orU7WJYGPT/xFwOXY1eBkw==    0.132463\n",
       "bNDXnbe7XAx/VUe+cbjDiw==    0.131029\n",
       "umkEte5GXWggFkMOtKQ3Ug==    0.130178\n",
       "KET/Pmr6rHp1RJ/P9ymztw==    0.127301\n",
       "9sS116y/1CqWLVJ8nFOGZg==    0.113553\n",
       "/+QaZYcpPt5mXLpkv6I8Bw==    0.113074\n",
       "QMl/wADluYmoYZIXDOUktQ==    0.100962\n",
       "yni6lL4oSly97UVZeRSyxA==    0.067669\n",
       "1tPrGp5Yx4Yev8EWxfJw2w==    0.000000\n",
       "9PWmQ/Uv20r8XvcwDXWUSw==    0.000000\n",
       "Jc0dzuliQSKFl0Xy0bjYCQ==    0.000000\n",
       "dtype: float64"
      ]
     },
     "execution_count": 245,
     "metadata": {},
     "output_type": "execute_result"
    }
   ],
   "source": [
    "(df_train.groupby('state')['default'].sum() / df_train['state'].value_counts()).sort_values(ascending=False)"
   ]
  },
  {
   "cell_type": "code",
   "execution_count": 237,
   "metadata": {},
   "outputs": [
    {
     "data": {
      "text/plain": [
       "N5/CE7lSkAfB04hVFFwllw==    29694\n",
       "n+xK9CfX0bCn77lClTWviw==    25306\n",
       "nSpvDsIsslUaX6GE6m6eQA==     4896\n",
       "UX7AdFYgQh+VrVC5eIaU9w==       53\n",
       "+qWF9pJpVGtTFn4vFjb/cg==       12\n",
       "Name: real_state, dtype: int64"
      ]
     },
     "execution_count": 237,
     "metadata": {},
     "output_type": "execute_result"
    }
   ],
   "source": [
    "df_train['real_state'].value_counts()"
   ]
  },
  {
   "cell_type": "code",
   "execution_count": 241,
   "metadata": {},
   "outputs": [
    {
     "data": {
      "text/plain": [
       "<matplotlib.axes._subplots.AxesSubplot at 0x7f85fe98ac10>"
      ]
     },
     "execution_count": 241,
     "metadata": {},
     "output_type": "execute_result"
    },
    {
     "data": {
      "image/png": "[encoded data removed]",
      "text/plain": [
       "<Figure size 432x288 with 1 Axes>"
      ]
     },
     "metadata": {},
     "output_type": "display_data"
    }
   ],
   "source": [
    "sns.scatterplot(x='state', y='real_state', data=df_train, hue='default')"
   ]
  },
  {
   "cell_type": "code",
   "execution_count": 238,
   "metadata": {},
   "outputs": [
    {
     "data": {
      "text/plain": [
       "xsd3ZdsI3356I3xMxZeiqQ==    10212\n",
       "BB/zpwTH+8GCIVHlhzOU1Q==     5328\n",
       "sjJbkqJS7cXalHLBFA+EOQ==     4498\n",
       "1DpYl6dtzY0qE33poow3iw==     4187\n",
       "x6Gw/1I8t3KPgT6s82Kodg==     2404\n",
       "kfFcVGcsJmH2n3eYprLkeQ==     2321\n",
       "JrdZzPZEa/YIIGwh8OdTKA==     2065\n",
       "GW2VZ3dN3OGHSjQ6JkfqQw==     1939\n",
       "7bX4XFXmYqoMspxup0CrKA==     1879\n",
       "82aTqSzrTImY+SbAOBQzGQ==     1856\n",
       "0lQuvmygO68ZFXZjzHEOww==     1556\n",
       "Ygq6MsM98oC8yceExr69Ig==     1519\n",
       "1vMmtGURgMcjxQbV2KQiUw==     1415\n",
       "rrVbgRNTRyB6auEycsRrpA==     1391\n",
       "fR2lwAMjCb/fNXjsApiOTw==     1391\n",
       "/EoxQEzy1PWWTtv6DNwr2w==     1372\n",
       "bNDXnbe7XAx/VUe+cbjDiw==     1244\n",
       "VafbDA6D5W2TpGMAUJbW8Q==      998\n",
       "5hPtRY8gW/3+fPXvGIgWTg==      985\n",
       "1xxlFOWSFxK0/J2VdCKP3g==      929\n",
       "OCoEDgPLpDjHcbEmPpAjvA==      895\n",
       "/L8vvVesB5WyAv190Hw/rQ==      790\n",
       "QCVqG0wT4xPLQuiTIExO2w==      725\n",
       "ygE7OTdsxRMLeXMa0EZwZw==      706\n",
       "ZUmHOp1/xBWh5O/uqDutsw==      674\n",
       "KET/Pmr6rHp1RJ/P9ymztw==      652\n",
       "qItmSqWrjm+MopDA+UpKRw==      585\n",
       "orU7WJYGPT/xFwOXY1eBkw==      536\n",
       "/78Q+NAqnsdbiE2JReYK9Q==      535\n",
       "P1TKs1aii8osbgO+MszZ2w==      490\n",
       "ZVfsutsd1Go0zZEnGp0vEA==      489\n",
       "bwNrC22VlFOFk6/nEHQc6A==      450\n",
       "0gQEZgRHqS5KSF3oWQrQfw==      426\n",
       "8ZKN5LHxobLWh6drCDlmhQ==      365\n",
       "fMOpZ7DFhwQgTxW547UMCQ==      297\n",
       "/+QaZYcpPt5mXLpkv6I8Bw==      283\n",
       "9sS116y/1CqWLVJ8nFOGZg==      273\n",
       "E8shyM/6btBNXXExsO17zw==      243\n",
       "QMl/wADluYmoYZIXDOUktQ==      208\n",
       "TYC58USu+Tq7c/WS4YLnuQ==      184\n",
       "umkEte5GXWggFkMOtKQ3Ug==      169\n",
       "NX0S6z5x5fEStwXfBQN5FQ==      135\n",
       "yni6lL4oSly97UVZeRSyxA==      133\n",
       "LXZkF0tV1Ma9JIlIvaUDiw==      113\n",
       "cd+7k16vaf6SzwSyvT/fHw==       99\n",
       "GFOaXqGcKJxSSF9aBDDNaA==        6\n",
       "9PWmQ/Uv20r8XvcwDXWUSw==        4\n",
       "1tPrGp5Yx4Yev8EWxfJw2w==        3\n",
       "Jc0dzuliQSKFl0Xy0bjYCQ==        2\n",
       "DLK5rpOxZhCM5oQvfUpkTQ==        2\n",
       "Name: state, dtype: int64"
      ]
     },
     "execution_count": 238,
     "metadata": {},
     "output_type": "execute_result"
    }
   ],
   "source": [
    "df_train['state'].value_counts()"
   ]
  },
  {
   "cell_type": "code",
   "execution_count": 81,
   "metadata": {},
   "outputs": [
    {
     "data": {
      "text/html": [
       "<div>\n",
       "<style scoped>\n",
       "    .dataframe tbody tr th:only-of-type {\n",
       "        vertical-align: middle;\n",
       "    }\n",
       "\n",
       "    .dataframe tbody tr th {\n",
       "        vertical-align: top;\n",
       "    }\n",
       "\n",
       "    .dataframe thead th {\n",
       "        text-align: right;\n",
       "    }\n",
       "</style>\n",
       "<table border=\"1\" class=\"dataframe\">\n",
       "  <thead>\n",
       "    <tr style=\"text-align: right;\">\n",
       "      <th></th>\n",
       "      <th>count</th>\n",
       "      <th>unique</th>\n",
       "      <th>top</th>\n",
       "      <th>freq</th>\n",
       "      <th>missing_rate</th>\n",
       "    </tr>\n",
       "  </thead>\n",
       "  <tbody>\n",
       "    <tr>\n",
       "      <th>ids</th>\n",
       "      <td>59966</td>\n",
       "      <td>59966</td>\n",
       "      <td>b662e2fa-c952-24c0-6cad-77521d2f980b</td>\n",
       "      <td>1</td>\n",
       "      <td>0</td>\n",
       "    </tr>\n",
       "    <tr>\n",
       "      <th>score_1</th>\n",
       "      <td>59966</td>\n",
       "      <td>7</td>\n",
       "      <td>DGCQep2AE5QRkNCshIAlFQ==</td>\n",
       "      <td>20484</td>\n",
       "      <td>0</td>\n",
       "    </tr>\n",
       "    <tr>\n",
       "      <th>score_2</th>\n",
       "      <td>59966</td>\n",
       "      <td>35</td>\n",
       "      <td>osCzpM4hJrxugqWWuZmMWw==</td>\n",
       "      <td>5058</td>\n",
       "      <td>0</td>\n",
       "    </tr>\n",
       "    <tr>\n",
       "      <th>reason</th>\n",
       "      <td>59961</td>\n",
       "      <td>19496</td>\n",
       "      <td>mLVIVxoGY7TUDJ1FyFoSIZi1SFcaBmO01AydRchaEiGYtU...</td>\n",
       "      <td>5921</td>\n",
       "      <td>8.33806e-05</td>\n",
       "    </tr>\n",
       "    <tr>\n",
       "      <th>sign</th>\n",
       "      <td>41028</td>\n",
       "      <td>12</td>\n",
       "      <td>libr</td>\n",
       "      <td>5582</td>\n",
       "      <td>0.315812</td>\n",
       "    </tr>\n",
       "    <tr>\n",
       "      <th>gender</th>\n",
       "      <td>56970</td>\n",
       "      <td>2</td>\n",
       "      <td>m</td>\n",
       "      <td>38497</td>\n",
       "      <td>0.0499616</td>\n",
       "    </tr>\n",
       "    <tr>\n",
       "      <th>facebook_profile</th>\n",
       "      <td>53995</td>\n",
       "      <td>2</td>\n",
       "      <td>False</td>\n",
       "      <td>33997</td>\n",
       "      <td>0.0995731</td>\n",
       "    </tr>\n",
       "    <tr>\n",
       "      <th>state</th>\n",
       "      <td>59966</td>\n",
       "      <td>50</td>\n",
       "      <td>xsd3ZdsI3356I3xMxZeiqQ==</td>\n",
       "      <td>10212</td>\n",
       "      <td>0</td>\n",
       "    </tr>\n",
       "    <tr>\n",
       "      <th>zip</th>\n",
       "      <td>59966</td>\n",
       "      <td>830</td>\n",
       "      <td>3k2JCQ8Bp5oDwaI39ZJgHA==</td>\n",
       "      <td>775</td>\n",
       "      <td>0</td>\n",
       "    </tr>\n",
       "    <tr>\n",
       "      <th>channel</th>\n",
       "      <td>59966</td>\n",
       "      <td>1</td>\n",
       "      <td>NCqL3QBx0pscDnx3ixKwXg==</td>\n",
       "      <td>59966</td>\n",
       "      <td>0</td>\n",
       "    </tr>\n",
       "    <tr>\n",
       "      <th>job_name</th>\n",
       "      <td>56175</td>\n",
       "      <td>42263</td>\n",
       "      <td>mLVIVxoGY7TUDJ1FyFoSIZi1SFcaBmO01AydRchaEiGYtU...</td>\n",
       "      <td>220</td>\n",
       "      <td>0.0632192</td>\n",
       "    </tr>\n",
       "    <tr>\n",
       "      <th>real_state</th>\n",
       "      <td>59966</td>\n",
       "      <td>5</td>\n",
       "      <td>N5/CE7lSkAfB04hVFFwllw==</td>\n",
       "      <td>29695</td>\n",
       "      <td>0</td>\n",
       "    </tr>\n",
       "  </tbody>\n",
       "</table>\n",
       "</div>"
      ],
      "text/plain": [
       "                  count unique  \\\n",
       "ids               59966  59966   \n",
       "score_1           59966      7   \n",
       "score_2           59966     35   \n",
       "reason            59961  19496   \n",
       "sign              41028     12   \n",
       "gender            56970      2   \n",
       "facebook_profile  53995      2   \n",
       "state             59966     50   \n",
       "zip               59966    830   \n",
       "channel           59966      1   \n",
       "job_name          56175  42263   \n",
       "real_state        59966      5   \n",
       "\n",
       "                                                                top   freq  \\\n",
       "ids                            b662e2fa-c952-24c0-6cad-77521d2f980b      1   \n",
       "score_1                                    DGCQep2AE5QRkNCshIAlFQ==  20484   \n",
       "score_2                                    osCzpM4hJrxugqWWuZmMWw==   5058   \n",
       "reason            mLVIVxoGY7TUDJ1FyFoSIZi1SFcaBmO01AydRchaEiGYtU...   5921   \n",
       "sign                                                           libr   5582   \n",
       "gender                                                            m  38497   \n",
       "facebook_profile                                              False  33997   \n",
       "state                                      xsd3ZdsI3356I3xMxZeiqQ==  10212   \n",
       "zip                                        3k2JCQ8Bp5oDwaI39ZJgHA==    775   \n",
       "channel                                    NCqL3QBx0pscDnx3ixKwXg==  59966   \n",
       "job_name          mLVIVxoGY7TUDJ1FyFoSIZi1SFcaBmO01AydRchaEiGYtU...    220   \n",
       "real_state                                 N5/CE7lSkAfB04hVFFwllw==  29695   \n",
       "\n",
       "                 missing_rate  \n",
       "ids                         0  \n",
       "score_1                     0  \n",
       "score_2                     0  \n",
       "reason            8.33806e-05  \n",
       "sign                 0.315812  \n",
       "gender              0.0499616  \n",
       "facebook_profile    0.0995731  \n",
       "state                       0  \n",
       "zip                         0  \n",
       "channel                     0  \n",
       "job_name            0.0632192  \n",
       "real_state                  0  "
      ]
     },
     "execution_count": 81,
     "metadata": {},
     "output_type": "execute_result"
    }
   ],
   "source": [
    "categorical_columns = df_train.select_dtypes('object').columns\n",
    "describe_df = df_train[categorical_columns].describe().T\n",
    "describe_df['missing_rate'] = (len(df_train) - describe_df['count']) / len(df_train)\n",
    "describe_df"
   ]
  },
  {
   "cell_type": "code",
   "execution_count": 82,
   "metadata": {},
   "outputs": [],
   "source": [
    "feature_columns.drop(['sign', 'channel', 'job_name'], inplace=True)\n",
    "df_train.dropna(subset=['reason'], inplace=True)"
   ]
  },
  {
   "cell_type": "markdown",
   "metadata": {},
   "source": [
    "## Describing the numerical columns\n",
    "- The column `ok_since` has a missing rate bigger than 58%, so I decided to remove it.\n",
    "- By analysing the missing data in the columns `n_bankruptcies`, `n_defaulted_loans` and `n_issues`, I noticed that they are missing only for clients with missing data in `credit_limit`. Among the clients without the `credit_limit` information, the values of `n_defaulted_loans` are only NaN and 0, so I decided it to fill it with zeros; regarding the values of `n_bankruptcies`, it is zero for more than 95% of the clients withou credit limit, so I filled it with zeros as well.\n",
    "- I strongly believe that the feature `n_issues` is an engineered feature of Nubank clients, such as the amount of complainings via chat or amount of disputed charges on his/her credit card. Because of this reason, I decided not to use it, considering fresh clients that request a loan.\n",
    "- In addition, due to the high amount of missing data in the `credit_limit` column, I decided to not use it. A nice test would be to the output of Nubank's credit limit regression model to fill in these gaps and see if it would improve the default prediction.\n",
    "- The `income` column has an extremely high value, which is most likely an outlier. My decision was to clip the `income` column on 2000000."
   ]
  },
  {
   "cell_type": "code",
   "execution_count": 83,
   "metadata": {},
   "outputs": [
    {
     "data": {
      "text/html": [
       "<div>\n",
       "<style scoped>\n",
       "    .dataframe tbody tr th:only-of-type {\n",
       "        vertical-align: middle;\n",
       "    }\n",
       "\n",
       "    .dataframe tbody tr th {\n",
       "        vertical-align: top;\n",
       "    }\n",
       "\n",
       "    .dataframe thead th {\n",
       "        text-align: right;\n",
       "    }\n",
       "</style>\n",
       "<table border=\"1\" class=\"dataframe\">\n",
       "  <thead>\n",
       "    <tr style=\"text-align: right;\">\n",
       "      <th></th>\n",
       "      <th>count</th>\n",
       "      <th>mean</th>\n",
       "      <th>std</th>\n",
       "      <th>min</th>\n",
       "      <th>25%</th>\n",
       "      <th>50%</th>\n",
       "      <th>75%</th>\n",
       "      <th>max</th>\n",
       "      <th>missing_rate</th>\n",
       "    </tr>\n",
       "  </thead>\n",
       "  <tbody>\n",
       "    <tr>\n",
       "      <th>score_3</th>\n",
       "      <td>59961.0</td>\n",
       "      <td>346.445189</td>\n",
       "      <td>109.837696</td>\n",
       "      <td>0.000000</td>\n",
       "      <td>270.000000</td>\n",
       "      <td>340.000000</td>\n",
       "      <td>420.000000</td>\n",
       "      <td>9.900000e+02</td>\n",
       "      <td>0.000000</td>\n",
       "    </tr>\n",
       "    <tr>\n",
       "      <th>score_4</th>\n",
       "      <td>59961.0</td>\n",
       "      <td>100.000074</td>\n",
       "      <td>3.174444</td>\n",
       "      <td>86.191572</td>\n",
       "      <td>97.856673</td>\n",
       "      <td>100.008613</td>\n",
       "      <td>102.134871</td>\n",
       "      <td>1.139782e+02</td>\n",
       "      <td>0.000000</td>\n",
       "    </tr>\n",
       "    <tr>\n",
       "      <th>score_5</th>\n",
       "      <td>59961.0</td>\n",
       "      <td>0.498731</td>\n",
       "      <td>0.288656</td>\n",
       "      <td>0.000035</td>\n",
       "      <td>0.250020</td>\n",
       "      <td>0.497757</td>\n",
       "      <td>0.748464</td>\n",
       "      <td>9.999734e-01</td>\n",
       "      <td>0.000000</td>\n",
       "    </tr>\n",
       "    <tr>\n",
       "      <th>score_6</th>\n",
       "      <td>59961.0</td>\n",
       "      <td>99.943588</td>\n",
       "      <td>10.035382</td>\n",
       "      <td>60.663039</td>\n",
       "      <td>93.213265</td>\n",
       "      <td>99.980321</td>\n",
       "      <td>106.691810</td>\n",
       "      <td>1.424301e+02</td>\n",
       "      <td>0.000000</td>\n",
       "    </tr>\n",
       "    <tr>\n",
       "      <th>risk_rate</th>\n",
       "      <td>59961.0</td>\n",
       "      <td>0.294113</td>\n",
       "      <td>0.101179</td>\n",
       "      <td>0.000000</td>\n",
       "      <td>0.220000</td>\n",
       "      <td>0.290000</td>\n",
       "      <td>0.360000</td>\n",
       "      <td>9.000000e-01</td>\n",
       "      <td>0.000000</td>\n",
       "    </tr>\n",
       "    <tr>\n",
       "      <th>amount_borrowed</th>\n",
       "      <td>59961.0</td>\n",
       "      <td>13411.870380</td>\n",
       "      <td>7957.249776</td>\n",
       "      <td>527.070000</td>\n",
       "      <td>7225.980000</td>\n",
       "      <td>12012.420000</td>\n",
       "      <td>18036.650000</td>\n",
       "      <td>3.505960e+04</td>\n",
       "      <td>0.000000</td>\n",
       "    </tr>\n",
       "    <tr>\n",
       "      <th>borrowed_in_months</th>\n",
       "      <td>59961.0</td>\n",
       "      <td>40.674639</td>\n",
       "      <td>9.504766</td>\n",
       "      <td>36.000000</td>\n",
       "      <td>36.000000</td>\n",
       "      <td>36.000000</td>\n",
       "      <td>36.000000</td>\n",
       "      <td>6.000000e+01</td>\n",
       "      <td>0.000000</td>\n",
       "    </tr>\n",
       "    <tr>\n",
       "      <th>credit_limit</th>\n",
       "      <td>41185.0</td>\n",
       "      <td>34093.970548</td>\n",
       "      <td>36783.979537</td>\n",
       "      <td>0.000000</td>\n",
       "      <td>9907.000000</td>\n",
       "      <td>25338.000000</td>\n",
       "      <td>46762.000000</td>\n",
       "      <td>6.131170e+05</td>\n",
       "      <td>0.313137</td>\n",
       "    </tr>\n",
       "    <tr>\n",
       "      <th>income</th>\n",
       "      <td>59961.0</td>\n",
       "      <td>71327.286564</td>\n",
       "      <td>51692.973107</td>\n",
       "      <td>4821.180000</td>\n",
       "      <td>44027.910000</td>\n",
       "      <td>60047.400000</td>\n",
       "      <td>85039.670000</td>\n",
       "      <td>5.000028e+06</td>\n",
       "      <td>0.000000</td>\n",
       "    </tr>\n",
       "    <tr>\n",
       "      <th>ok_since</th>\n",
       "      <td>24877.0</td>\n",
       "      <td>35.276762</td>\n",
       "      <td>21.630884</td>\n",
       "      <td>0.000000</td>\n",
       "      <td>17.000000</td>\n",
       "      <td>32.000000</td>\n",
       "      <td>50.000000</td>\n",
       "      <td>1.410000e+02</td>\n",
       "      <td>0.585114</td>\n",
       "    </tr>\n",
       "    <tr>\n",
       "      <th>n_bankruptcies</th>\n",
       "      <td>59759.0</td>\n",
       "      <td>0.077712</td>\n",
       "      <td>0.278444</td>\n",
       "      <td>0.000000</td>\n",
       "      <td>0.000000</td>\n",
       "      <td>0.000000</td>\n",
       "      <td>0.000000</td>\n",
       "      <td>6.000000e+00</td>\n",
       "      <td>0.003369</td>\n",
       "    </tr>\n",
       "    <tr>\n",
       "      <th>n_defaulted_loans</th>\n",
       "      <td>59943.0</td>\n",
       "      <td>0.004671</td>\n",
       "      <td>0.079063</td>\n",
       "      <td>0.000000</td>\n",
       "      <td>0.000000</td>\n",
       "      <td>0.000000</td>\n",
       "      <td>0.000000</td>\n",
       "      <td>5.000000e+00</td>\n",
       "      <td>0.000300</td>\n",
       "    </tr>\n",
       "    <tr>\n",
       "      <th>n_accounts</th>\n",
       "      <td>59961.0</td>\n",
       "      <td>10.624906</td>\n",
       "      <td>4.575201</td>\n",
       "      <td>0.000000</td>\n",
       "      <td>7.000000</td>\n",
       "      <td>10.000000</td>\n",
       "      <td>13.000000</td>\n",
       "      <td>4.900000e+01</td>\n",
       "      <td>0.000000</td>\n",
       "    </tr>\n",
       "    <tr>\n",
       "      <th>n_issues</th>\n",
       "      <td>44384.0</td>\n",
       "      <td>11.001262</td>\n",
       "      <td>4.569491</td>\n",
       "      <td>0.000000</td>\n",
       "      <td>8.000000</td>\n",
       "      <td>10.000000</td>\n",
       "      <td>14.000000</td>\n",
       "      <td>4.900000e+01</td>\n",
       "      <td>0.259786</td>\n",
       "    </tr>\n",
       "  </tbody>\n",
       "</table>\n",
       "</div>"
      ],
      "text/plain": [
       "                      count          mean           std          min  \\\n",
       "score_3             59961.0    346.445189    109.837696     0.000000   \n",
       "score_4             59961.0    100.000074      3.174444    86.191572   \n",
       "score_5             59961.0      0.498731      0.288656     0.000035   \n",
       "score_6             59961.0     99.943588     10.035382    60.663039   \n",
       "risk_rate           59961.0      0.294113      0.101179     0.000000   \n",
       "amount_borrowed     59961.0  13411.870380   7957.249776   527.070000   \n",
       "borrowed_in_months  59961.0     40.674639      9.504766    36.000000   \n",
       "credit_limit        41185.0  34093.970548  36783.979537     0.000000   \n",
       "income              59961.0  71327.286564  51692.973107  4821.180000   \n",
       "ok_since            24877.0     35.276762     21.630884     0.000000   \n",
       "n_bankruptcies      59759.0      0.077712      0.278444     0.000000   \n",
       "n_defaulted_loans   59943.0      0.004671      0.079063     0.000000   \n",
       "n_accounts          59961.0     10.624906      4.575201     0.000000   \n",
       "n_issues            44384.0     11.001262      4.569491     0.000000   \n",
       "\n",
       "                             25%           50%           75%           max  \\\n",
       "score_3               270.000000    340.000000    420.000000  9.900000e+02   \n",
       "score_4                97.856673    100.008613    102.134871  1.139782e+02   \n",
       "score_5                 0.250020      0.497757      0.748464  9.999734e-01   \n",
       "score_6                93.213265     99.980321    106.691810  1.424301e+02   \n",
       "risk_rate               0.220000      0.290000      0.360000  9.000000e-01   \n",
       "amount_borrowed      7225.980000  12012.420000  18036.650000  3.505960e+04   \n",
       "borrowed_in_months     36.000000     36.000000     36.000000  6.000000e+01   \n",
       "credit_limit         9907.000000  25338.000000  46762.000000  6.131170e+05   \n",
       "income              44027.910000  60047.400000  85039.670000  5.000028e+06   \n",
       "ok_since               17.000000     32.000000     50.000000  1.410000e+02   \n",
       "n_bankruptcies          0.000000      0.000000      0.000000  6.000000e+00   \n",
       "n_defaulted_loans       0.000000      0.000000      0.000000  5.000000e+00   \n",
       "n_accounts              7.000000     10.000000     13.000000  4.900000e+01   \n",
       "n_issues                8.000000     10.000000     14.000000  4.900000e+01   \n",
       "\n",
       "                    missing_rate  \n",
       "score_3                 0.000000  \n",
       "score_4                 0.000000  \n",
       "score_5                 0.000000  \n",
       "score_6                 0.000000  \n",
       "risk_rate               0.000000  \n",
       "amount_borrowed         0.000000  \n",
       "borrowed_in_months      0.000000  \n",
       "credit_limit            0.313137  \n",
       "income                  0.000000  \n",
       "ok_since                0.585114  \n",
       "n_bankruptcies          0.003369  \n",
       "n_defaulted_loans       0.000300  \n",
       "n_accounts              0.000000  \n",
       "n_issues                0.259786  "
      ]
     },
     "execution_count": 83,
     "metadata": {},
     "output_type": "execute_result"
    }
   ],
   "source": [
    "numerical_columns = df_train.select_dtypes('number').columns\n",
    "describe_df = df_train[numerical_columns].describe().T\n",
    "describe_df['missing_rate'] = (len(df_train) - describe_df['count']) / len(df_train)\n",
    "describe_df"
   ]
  },
  {
   "cell_type": "markdown",
   "metadata": {},
   "source": [
    "### Income boxplot"
   ]
  },
  {
   "cell_type": "code",
   "execution_count": 186,
   "metadata": {},
   "outputs": [
    {
     "data": {
      "text/plain": [
       "<matplotlib.axes._subplots.AxesSubplot at 0x7f861eb57d90>"
      ]
     },
     "execution_count": 186,
     "metadata": {},
     "output_type": "execute_result"
    },
    {
     "data": {
      "image/png": "[encoded data removed]",
      "text/plain": [
       "<Figure size 432x288 with 1 Axes>"
      ]
     },
     "metadata": {},
     "output_type": "display_data"
    }
   ],
   "source": [
    "df_train['income'].plot(kind='box')"
   ]
  },
  {
   "cell_type": "code",
   "execution_count": 189,
   "metadata": {},
   "outputs": [],
   "source": [
    "df_train['income'].clip(upper=2000000, inplace=True)"
   ]
  },
  {
   "cell_type": "markdown",
   "metadata": {},
   "source": [
    "### Bankruptcies amont clients without `credit_limit`"
   ]
  },
  {
   "cell_type": "code",
   "execution_count": 84,
   "metadata": {
    "scrolled": false
   },
   "outputs": [
    {
     "data": {
      "text/plain": [
       "array([ 0.,  1., nan,  2.])"
      ]
     },
     "execution_count": 84,
     "metadata": {},
     "output_type": "execute_result"
    }
   ],
   "source": [
    "df_train[df_train['credit_limit'].isna()]['n_bankruptcies'].unique()"
   ]
  },
  {
   "cell_type": "code",
   "execution_count": 85,
   "metadata": {
    "scrolled": false
   },
   "outputs": [
    {
     "data": {
      "text/plain": [
       "0.0    0.954570\n",
       "1.0    0.034459\n",
       "2.0    0.000213\n",
       "Name: n_bankruptcies, dtype: float64"
      ]
     },
     "execution_count": 85,
     "metadata": {},
     "output_type": "execute_result"
    }
   ],
   "source": [
    "df_train[df_train['credit_limit'].isna()]['n_bankruptcies'].value_counts() / len(df_train[df_train['credit_limit'].isna()])"
   ]
  },
  {
   "cell_type": "markdown",
   "metadata": {},
   "source": [
    "### Amount of defaulted loans amont clients without `credit_limit`"
   ]
  },
  {
   "cell_type": "code",
   "execution_count": 86,
   "metadata": {},
   "outputs": [
    {
     "data": {
      "text/plain": [
       "array([ 0., nan])"
      ]
     },
     "execution_count": 86,
     "metadata": {},
     "output_type": "execute_result"
    }
   ],
   "source": [
    "df_train[df_train['credit_limit'].isna()]['n_defaulted_loans'].unique()"
   ]
  },
  {
   "cell_type": "markdown",
   "metadata": {},
   "source": [
    "### Dropping the columns `credit_limit`, `ok_since` and `n_issues`"
   ]
  },
  {
   "cell_type": "code",
   "execution_count": 87,
   "metadata": {},
   "outputs": [],
   "source": [
    "df_train.drop(['credit_limit', 'ok_since', 'n_issues'], axis=1, inplace=True)"
   ]
  },
  {
   "cell_type": "markdown",
   "metadata": {},
   "source": [
    "### Filling `n_bankruptcies` and `n_defaulted_loans` with 0"
   ]
  },
  {
   "cell_type": "code",
   "execution_count": 88,
   "metadata": {},
   "outputs": [],
   "source": [
    "df_train['n_bankruptcies'].fillna(0, inplace=True)\n",
    "df_train['n_defaulted_loans'].fillna(0, inplace=True)"
   ]
  },
  {
   "cell_type": "code",
   "execution_count": null,
   "metadata": {},
   "outputs": [],
   "source": []
  },
  {
   "cell_type": "markdown",
   "metadata": {},
   "source": [
    "# Preparing the data for training"
   ]
  },
  {
   "cell_type": "code",
   "execution_count": 219,
   "metadata": {},
   "outputs": [],
   "source": [
    "from fklearn.training.imputation import imputer, placeholder_imputer\n",
    "from fklearn.training.transformation import capper, selector\n",
    "my_zero_imputer = placeholder_imputer(columns_to_impute=['n_bankruptcies', 'n_defaulted_loans'])"
   ]
  },
  {
   "cell_type": "code",
   "execution_count": null,
   "metadata": {},
   "outputs": [],
   "source": []
  },
  {
   "cell_type": "code",
   "execution_count": 218,
   "metadata": {},
   "outputs": [
    {
     "data": {
      "text/plain": [
       "Index(['score_1', 'score_2', 'score_3', 'score_4', 'score_5', 'score_6',\n",
       "       'risk_rate', 'amount_borrowed', 'borrowed_in_months', 'reason',\n",
       "       'income', 'gender', 'state', 'zip', 'real_state', 'n_bankruptcies',\n",
       "       'n_defaulted_loans', 'n_accounts'],\n",
       "      dtype='object')"
      ]
     },
     "execution_count": 218,
     "metadata": {},
     "output_type": "execute_result"
    }
   ],
   "source": [
    "df_train.columns.drop(['ids', 'default', 'facebook_profile'])"
   ]
  },
  {
   "cell_type": "code",
   "execution_count": null,
   "metadata": {},
   "outputs": [],
   "source": [
    "feature_columns = df_train.columns  ['ids', 'default', 'facebook_profile']\n",
    "\n",
    "df_train_rf = df_train.dropna()\n",
    "\n",
    "categorical_columns = list(set(df_train_rf.select_dtypes('object').columns) - {'ids'})"
   ]
  },
  {
   "cell_type": "markdown",
   "metadata": {},
   "source": [
    "# fklearn\n",
    "A couple months back, I came across Nubank's library `fklearn`, but I have not stopped to try it out and read more about it. I decided this was the perfect opportunity to give it a try, and maybe even provide some feedback on it. I followed this [notebook](https://github.com/nubank/fklearn/blob/master/docs/source/examples/regression.ipynb) to get to know the basics.\n",
    "\n",
    "### Splitting into train and test (holdout set)\n",
    "Since this data does not have a temporal component, I randomly sampled 20% to be the holdout set. Fixed a seed just for reproducibility."
   ]
  },
  {
   "cell_type": "code",
   "execution_count": 217,
   "metadata": {},
   "outputs": [],
   "source": [
    "from sklearn.model_selection import train_test_split\n",
    "SEED = 123\n",
    "X_train, X_test, y_train, y_test = train_test_split(X, y, test_size=0.2, random_state=SEED, shuffle=True)"
   ]
  },
  {
   "cell_type": "code",
   "execution_count": null,
   "metadata": {},
   "outputs": [],
   "source": []
  },
  {
   "cell_type": "code",
   "execution_count": null,
   "metadata": {},
   "outputs": [],
   "source": [
    "from fklearn.training.transformation import standard_scaler\n"
   ]
  },
  {
   "cell_type": "code",
   "execution_count": null,
   "metadata": {},
   "outputs": [],
   "source": []
  },
  {
   "cell_type": "code",
   "execution_count": 216,
   "metadata": {},
   "outputs": [],
   "source": [
    "from sklearn.ensemble import RandomForestClassifier\n",
    "from sklearn.model_selection import train_test_split\n",
    "# from sklearn.metrics import classification_report, roc_curve, auc"
   ]
  },
  {
   "cell_type": "code",
   "execution_count": null,
   "metadata": {},
   "outputs": [],
   "source": []
  },
  {
   "cell_type": "code",
   "execution_count": null,
   "metadata": {},
   "outputs": [],
   "source": []
  },
  {
   "cell_type": "code",
   "execution_count": null,
   "metadata": {},
   "outputs": [],
   "source": []
  },
  {
   "cell_type": "code",
   "execution_count": null,
   "metadata": {},
   "outputs": [],
   "source": []
  },
  {
   "cell_type": "code",
   "execution_count": 191,
   "metadata": {},
   "outputs": [],
   "source": [
    "# na_count = df_train.isna().sum()\n",
    "# full_columns = na_count[na_count == 0].index\n",
    "# df_train_rf = df_train[full_columns]\n",
    "\n",
    "df_train_rf = df_train.dropna()\n",
    "\n",
    "categorical_columns = list(set(df_train_rf.select_dtypes('object').columns) - {'ids'})"
   ]
  },
  {
   "cell_type": "code",
   "execution_count": 192,
   "metadata": {},
   "outputs": [
    {
     "name": "stderr",
     "output_type": "stream",
     "text": [
      "/home/lucas/miniconda3/envs/nuenv/lib/python3.7/site-packages/pandas/core/frame.py:3509: SettingWithCopyWarning: \n",
      "A value is trying to be set on a copy of a slice from a DataFrame.\n",
      "Try using .loc[row_indexer,col_indexer] = value instead\n",
      "\n",
      "See the caveats in the documentation: http://pandas.pydata.org/pandas-docs/stable/user_guide/indexing.html#returning-a-view-versus-a-copy\n",
      "  self[k1] = value[k2]\n"
     ]
    }
   ],
   "source": [
    "df_train_rf[categorical_columns] = df_train_rf[categorical_columns].astype('category')\n",
    "df_train_rf[categorical_columns] = df_train_rf[categorical_columns].apply(lambda x: x.cat.codes)"
   ]
  },
  {
   "cell_type": "code",
   "execution_count": 193,
   "metadata": {},
   "outputs": [],
   "source": [
    "not_feat_columns = ['ids', 'default', 'facebook_profile']"
   ]
  },
  {
   "cell_type": "code",
   "execution_count": 194,
   "metadata": {},
   "outputs": [],
   "source": [
    "X = df_train_rf[df_train_rf.columns.drop(not_feat_columns)]\n",
    "y = df_train_rf['default'].astype(int)"
   ]
  },
  {
   "cell_type": "code",
   "execution_count": 195,
   "metadata": {},
   "outputs": [],
   "source": [
    "X_train, X_test, y_train, y_test = train_test_split(X, y, test_size=0.2, stratify=y)"
   ]
  },
  {
   "cell_type": "code",
   "execution_count": 201,
   "metadata": {},
   "outputs": [],
   "source": [
    "clf = RandomForestClassifier(max_depth=15, n_estimators=200, min_samples_split=0.05, class_weight='balanced', n_jobs=-1)"
   ]
  },
  {
   "cell_type": "code",
   "execution_count": 202,
   "metadata": {},
   "outputs": [
    {
     "data": {
      "text/plain": [
       "RandomForestClassifier(bootstrap=True, class_weight='balanced',\n",
       "                       criterion='gini', max_depth=15, max_features='auto',\n",
       "                       max_leaf_nodes=None, min_impurity_decrease=0.0,\n",
       "                       min_impurity_split=None, min_samples_leaf=1,\n",
       "                       min_samples_split=0.05, min_weight_fraction_leaf=0.0,\n",
       "                       n_estimators=200, n_jobs=-1, oob_score=False,\n",
       "                       random_state=None, verbose=0, warm_start=False)"
      ]
     },
     "execution_count": 202,
     "metadata": {},
     "output_type": "execute_result"
    }
   ],
   "source": [
    "clf.fit(X_train, y_train)"
   ]
  },
  {
   "cell_type": "code",
   "execution_count": 203,
   "metadata": {},
   "outputs": [],
   "source": [
    "train_pred = clf.predict(X_train)\n",
    "test_pred = clf.predict(X_test)"
   ]
  },
  {
   "cell_type": "code",
   "execution_count": 204,
   "metadata": {},
   "outputs": [
    {
     "data": {
      "text/html": [
       "<div>\n",
       "<style scoped>\n",
       "    .dataframe tbody tr th:only-of-type {\n",
       "        vertical-align: middle;\n",
       "    }\n",
       "\n",
       "    .dataframe tbody tr th {\n",
       "        vertical-align: top;\n",
       "    }\n",
       "\n",
       "    .dataframe thead th {\n",
       "        text-align: right;\n",
       "    }\n",
       "</style>\n",
       "<table border=\"1\" class=\"dataframe\">\n",
       "  <thead>\n",
       "    <tr style=\"text-align: right;\">\n",
       "      <th></th>\n",
       "      <th>0</th>\n",
       "      <th>1</th>\n",
       "      <th>accuracy</th>\n",
       "      <th>macro avg</th>\n",
       "      <th>weighted avg</th>\n",
       "    </tr>\n",
       "  </thead>\n",
       "  <tbody>\n",
       "    <tr>\n",
       "      <th>precision</th>\n",
       "      <td>0.898594</td>\n",
       "      <td>0.273900</td>\n",
       "      <td>0.693242</td>\n",
       "      <td>0.586247</td>\n",
       "      <td>0.799825</td>\n",
       "    </tr>\n",
       "    <tr>\n",
       "      <th>recall</th>\n",
       "      <td>0.716487</td>\n",
       "      <td>0.569468</td>\n",
       "      <td>0.693242</td>\n",
       "      <td>0.642977</td>\n",
       "      <td>0.693242</td>\n",
       "    </tr>\n",
       "    <tr>\n",
       "      <th>f1-score</th>\n",
       "      <td>0.797274</td>\n",
       "      <td>0.369892</td>\n",
       "      <td>0.693242</td>\n",
       "      <td>0.583583</td>\n",
       "      <td>0.729701</td>\n",
       "    </tr>\n",
       "    <tr>\n",
       "      <th>support</th>\n",
       "      <td>34531.000000</td>\n",
       "      <td>6485.000000</td>\n",
       "      <td>0.693242</td>\n",
       "      <td>41016.000000</td>\n",
       "      <td>41016.000000</td>\n",
       "    </tr>\n",
       "  </tbody>\n",
       "</table>\n",
       "</div>"
      ],
      "text/plain": [
       "                      0            1  accuracy     macro avg  weighted avg\n",
       "precision      0.898594     0.273900  0.693242      0.586247      0.799825\n",
       "recall         0.716487     0.569468  0.693242      0.642977      0.693242\n",
       "f1-score       0.797274     0.369892  0.693242      0.583583      0.729701\n",
       "support    34531.000000  6485.000000  0.693242  41016.000000  41016.000000"
      ]
     },
     "execution_count": 204,
     "metadata": {},
     "output_type": "execute_result"
    }
   ],
   "source": [
    "pd.DataFrame(classification_report(y_train, train_pred, output_dict=True))"
   ]
  },
  {
   "cell_type": "code",
   "execution_count": 205,
   "metadata": {},
   "outputs": [
    {
     "data": {
      "text/html": [
       "<div>\n",
       "<style scoped>\n",
       "    .dataframe tbody tr th:only-of-type {\n",
       "        vertical-align: middle;\n",
       "    }\n",
       "\n",
       "    .dataframe tbody tr th {\n",
       "        vertical-align: top;\n",
       "    }\n",
       "\n",
       "    .dataframe thead th {\n",
       "        text-align: right;\n",
       "    }\n",
       "</style>\n",
       "<table border=\"1\" class=\"dataframe\">\n",
       "  <thead>\n",
       "    <tr style=\"text-align: right;\">\n",
       "      <th></th>\n",
       "      <th>0</th>\n",
       "      <th>1</th>\n",
       "      <th>accuracy</th>\n",
       "      <th>macro avg</th>\n",
       "      <th>weighted avg</th>\n",
       "    </tr>\n",
       "  </thead>\n",
       "  <tbody>\n",
       "    <tr>\n",
       "      <th>precision</th>\n",
       "      <td>0.894767</td>\n",
       "      <td>0.266766</td>\n",
       "      <td>0.689292</td>\n",
       "      <td>0.580767</td>\n",
       "      <td>0.795490</td>\n",
       "    </tr>\n",
       "    <tr>\n",
       "      <th>recall</th>\n",
       "      <td>0.715047</td>\n",
       "      <td>0.552128</td>\n",
       "      <td>0.689292</td>\n",
       "      <td>0.633588</td>\n",
       "      <td>0.689292</td>\n",
       "    </tr>\n",
       "    <tr>\n",
       "      <th>f1-score</th>\n",
       "      <td>0.794875</td>\n",
       "      <td>0.359727</td>\n",
       "      <td>0.689292</td>\n",
       "      <td>0.577301</td>\n",
       "      <td>0.726085</td>\n",
       "    </tr>\n",
       "    <tr>\n",
       "      <th>support</th>\n",
       "      <td>8633.000000</td>\n",
       "      <td>1621.000000</td>\n",
       "      <td>0.689292</td>\n",
       "      <td>10254.000000</td>\n",
       "      <td>10254.000000</td>\n",
       "    </tr>\n",
       "  </tbody>\n",
       "</table>\n",
       "</div>"
      ],
      "text/plain": [
       "                     0            1  accuracy     macro avg  weighted avg\n",
       "precision     0.894767     0.266766  0.689292      0.580767      0.795490\n",
       "recall        0.715047     0.552128  0.689292      0.633588      0.689292\n",
       "f1-score      0.794875     0.359727  0.689292      0.577301      0.726085\n",
       "support    8633.000000  1621.000000  0.689292  10254.000000  10254.000000"
      ]
     },
     "execution_count": 205,
     "metadata": {},
     "output_type": "execute_result"
    }
   ],
   "source": [
    "pd.DataFrame(classification_report(y_test, test_pred, output_dict=True))"
   ]
  },
  {
   "cell_type": "code",
   "execution_count": 206,
   "metadata": {},
   "outputs": [],
   "source": [
    "from sklearn.metrics import f1_score"
   ]
  },
  {
   "cell_type": "code",
   "execution_count": 207,
   "metadata": {},
   "outputs": [
    {
     "data": {
      "text/plain": [
       "0.3597266881028939"
      ]
     },
     "execution_count": 207,
     "metadata": {},
     "output_type": "execute_result"
    }
   ],
   "source": [
    "f1_score(test_pred, y_test)"
   ]
  },
  {
   "cell_type": "code",
   "execution_count": 208,
   "metadata": {},
   "outputs": [
    {
     "data": {
      "text/plain": [
       "borrowed_in_months    0.344185\n",
       "score_1               0.256093\n",
       "income                0.119208\n",
       "risk_rate             0.077765\n",
       "score_2               0.048622\n",
       "amount_borrowed       0.048326\n",
       "gender                0.026502\n",
       "score_3               0.017956\n",
       "reason                0.011124\n",
       "real_state            0.010831\n",
       "score_4               0.008016\n",
       "score_6               0.007750\n",
       "score_5               0.006331\n",
       "n_accounts            0.005937\n",
       "zip                   0.005402\n",
       "state                 0.004775\n",
       "n_bankruptcies        0.001068\n",
       "n_defaulted_loans     0.000110\n",
       "dtype: float64"
      ]
     },
     "execution_count": 208,
     "metadata": {},
     "output_type": "execute_result"
    }
   ],
   "source": [
    "pd.Series(clf.feature_importances_, index=X.columns).sort_values(ascending=False)"
   ]
  },
  {
   "cell_type": "code",
   "execution_count": 209,
   "metadata": {},
   "outputs": [],
   "source": [
    "test_proba = clf.predict_proba(X_test)"
   ]
  },
  {
   "cell_type": "code",
   "execution_count": 214,
   "metadata": {},
   "outputs": [],
   "source": [
    "fpr, tpr, thrs = roc_curve(y_test, test_proba[:,1])\n",
    "roc_auc = auc(fpr, tpr)"
   ]
  },
  {
   "cell_type": "code",
   "execution_count": 215,
   "metadata": {},
   "outputs": [
    {
     "data": {
      "text/plain": [
       "array([1.74925705, 0.74925705, 0.74853862, ..., 0.24515925, 0.24511056,\n",
       "       0.23674578])"
      ]
     },
     "execution_count": 215,
     "metadata": {},
     "output_type": "execute_result"
    }
   ],
   "source": [
    "thrs"
   ]
  },
  {
   "cell_type": "code",
   "execution_count": 212,
   "metadata": {},
   "outputs": [
    {
     "data": {
      "image/png": "[encoded data removed]",
      "text/plain": [
       "<Figure size 432x288 with 1 Axes>"
      ]
     },
     "metadata": {},
     "output_type": "display_data"
    }
   ],
   "source": [
    "plt.figure()\n",
    "plt.plot(fpr, tpr, label='ROC curve (area = %0.2f)' % roc_auc)\n",
    "plt.plot([0, 1], [0, 1], 'k--')\n",
    "plt.xlim([0.0, 1.0])\n",
    "plt.ylim([0.0, 1.05])\n",
    "plt.xlabel('False Positive Rate')\n",
    "plt.ylabel('True Positive Rate')\n",
    "plt.title('Receiver operating characteristic example')\n",
    "plt.legend(loc=\"lower right\")\n",
    "plt.show()"
   ]
  },
  {
   "cell_type": "code",
   "execution_count": null,
   "metadata": {},
   "outputs": [],
   "source": [
    "fpr = dict()\n",
    "tpr = dict()\n",
    "roc_auc = dict()\n",
    "for i in range(n_classes):\n",
    "    fpr[i], tpr[i], _ = roc_curve(y_test[:, i], y_score[:, i])\n",
    "    roc_auc[i] = auc(fpr[i], tpr[i])\n",
    "\n",
    "# Compute micro-average ROC curve and ROC area\n",
    "fpr[\"micro\"], tpr[\"micro\"], _ = roc_curve(y_test.ravel(), y_score.ravel())\n",
    "roc_auc[\"micro\"] = auc(fpr[\"micro\"], tpr[\"micro\"])\n",
    "\n",
    "# Plot of a ROC curve for a specific class\n",
    "plt.figure()\n",
    "plt.plot(fpr[2], tpr[2], label='ROC curve (area = %0.2f)' % roc_auc[2])\n",
    "plt.plot([0, 1], [0, 1], 'k--')\n",
    "plt.xlim([0.0, 1.0])\n",
    "plt.ylim([0.0, 1.05])\n",
    "plt.xlabel('False Positive Rate')\n",
    "plt.ylabel('True Positive Rate')\n",
    "plt.title('Receiver operating characteristic example')\n",
    "plt.legend(loc=\"lower right\")\n",
    "plt.show()"
   ]
  },
  {
   "cell_type": "code",
   "execution_count": null,
   "metadata": {},
   "outputs": [],
   "source": []
  },
  {
   "cell_type": "code",
   "execution_count": null,
   "metadata": {},
   "outputs": [],
   "source": []
  },
  {
   "cell_type": "code",
   "execution_count": null,
   "metadata": {},
   "outputs": [],
   "source": [
    "plt.figure()\n",
    "lw = 2\n",
    "plt.plot(fpr[2], tpr[2], color='darkorange',\n",
    "         lw=lw, label='ROC curve (area = %0.2f)' % roc_auc[2])\n",
    "plt.plot([0, 1], [0, 1], color='navy', lw=lw, linestyle='--')\n",
    "plt.xlim([0.0, 1.0])\n",
    "plt.ylim([0.0, 1.05])\n",
    "plt.xlabel('False Positive Rate')\n",
    "plt.ylabel('True Positive Rate')\n",
    "plt.title('Receiver operating characteristic example')\n",
    "plt.legend(loc=\"lower right\")\n",
    "plt.show()"
   ]
  },
  {
   "cell_type": "code",
   "execution_count": null,
   "metadata": {},
   "outputs": [],
   "source": []
  },
  {
   "cell_type": "markdown",
   "metadata": {},
   "source": [
    "### Salary inequality"
   ]
  },
  {
   "cell_type": "code",
   "execution_count": 32,
   "metadata": {},
   "outputs": [
    {
     "data": {
      "text/plain": [
       "job_name_code  gender\n",
       "-1             f         64976.946564\n",
       "               m         64708.863399\n",
       " 0             f                  NaN\n",
       "               m         55037.340000\n",
       " 1             f         24026.350000\n",
       "                             ...     \n",
       " 42260         m                  NaN\n",
       " 42261         f                  NaN\n",
       "               m         36014.580000\n",
       " 42262         f                  NaN\n",
       "               m         33026.120000\n",
       "Name: income, Length: 84528, dtype: float64"
      ]
     },
     "execution_count": 32,
     "metadata": {},
     "output_type": "execute_result"
    }
   ],
   "source": [
    "df_train['job_name_code'] = df_train['job_name'].astype('category').cat.codes\n",
    "df_train['gender'] = df_train['gender'].astype('category')\n",
    "df_train.groupby(['job_name_code', 'gender'])['income'].mean().dropna()"
   ]
  },
  {
   "cell_type": "code",
   "execution_count": 24,
   "metadata": {},
   "outputs": [
    {
     "data": {
      "image/png": "[encoded data removed]",
      "text/plain": [
       "<Figure size 432x288 with 1 Axes>"
      ]
     },
     "metadata": {},
     "output_type": "display_data"
    }
   ],
   "source": [
    "# ax = sns.barplot(x='sign', y='default', data=df_train.groupby('sign').sum()['default'].reset_index(), \n",
    "#                  palette='colorblind')\n",
    "# text = ax.set_xticklabels(ax.get_xticklabels(), rotation=90)"
   ]
  }
 ],
 "metadata": {
  "kernelspec": {
   "display_name": "Python 3",
   "language": "python",
   "name": "python3"
  },
  "language_info": {
   "codemirror_mode": {
    "name": "ipython",
    "version": 3
   },
   "file_extension": ".py",
   "mimetype": "text/x-python",
   "name": "python",
   "nbconvert_exporter": "python",
   "pygments_lexer": "ipython3",
   "version": "3.7.6"
  }
 },
 "nbformat": 4,
 "nbformat_minor": 4
}
