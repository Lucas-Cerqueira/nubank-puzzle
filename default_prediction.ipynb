{
 "cells": [
  {
   "cell_type": "code",
   "execution_count": 18,
   "metadata": {},
   "outputs": [],
   "source": [
    "import pandas as pd\n",
    "import matplotlib.pyplot as plt\n",
    "import seaborn as sns\n",
    "sns.set(font_scale=1.3, style='whitegrid')"
   ]
  },
  {
   "cell_type": "markdown",
   "metadata": {},
   "source": [
    "## Brainstorming\n",
    "- Bigger weights for `amount_borrowed`, `borrowed_in_months`, `n_bankruptcies`\n",
    "- Filling NaN of `ok_since` with 0? Expect the worst?\n",
    "- If the person does not have Facebook, it is for a reason\n"
   ]
  },
  {
   "cell_type": "markdown",
   "metadata": {},
   "source": [
    "### Reading the data"
   ]
  },
  {
   "cell_type": "code",
   "execution_count": 6,
   "metadata": {},
   "outputs": [],
   "source": [
    "df_train = pd.read_csv('puzzle_train_dataset.csv')"
   ]
  },
  {
   "cell_type": "markdown",
   "metadata": {},
   "source": [
    "### Remove clients that do not have the target variable"
   ]
  },
  {
   "cell_type": "code",
   "execution_count": 7,
   "metadata": {},
   "outputs": [],
   "source": [
    "df_train = df_train[~df_train['default'].isna()]\n",
    "df_train['default'] = df_train['default'].astype(bool)"
   ]
  },
  {
   "cell_type": "code",
   "execution_count": null,
   "metadata": {},
   "outputs": [],
   "source": []
  },
  {
   "cell_type": "code",
   "execution_count": 8,
   "metadata": {
    "scrolled": true
   },
   "outputs": [
    {
     "data": {
      "text/plain": [
       "(59966, 27)"
      ]
     },
     "execution_count": 8,
     "metadata": {},
     "output_type": "execute_result"
    }
   ],
   "source": [
    "df_train.shape"
   ]
  },
  {
   "cell_type": "code",
   "execution_count": 9,
   "metadata": {},
   "outputs": [
    {
     "data": {
      "text/plain": [
       "ids                    object\n",
       "default                  bool\n",
       "score_1                object\n",
       "score_2                object\n",
       "score_3               float64\n",
       "score_4               float64\n",
       "score_5               float64\n",
       "score_6               float64\n",
       "risk_rate             float64\n",
       "amount_borrowed       float64\n",
       "borrowed_in_months    float64\n",
       "credit_limit          float64\n",
       "reason                 object\n",
       "income                float64\n",
       "sign                   object\n",
       "gender                 object\n",
       "facebook_profile       object\n",
       "state                  object\n",
       "zip                    object\n",
       "channel                object\n",
       "job_name               object\n",
       "real_state             object\n",
       "ok_since              float64\n",
       "n_bankruptcies        float64\n",
       "n_defaulted_loans     float64\n",
       "n_accounts            float64\n",
       "n_issues              float64\n",
       "dtype: object"
      ]
     },
     "execution_count": 9,
     "metadata": {},
     "output_type": "execute_result"
    }
   ],
   "source": [
    "df_train.dtypes"
   ]
  },
  {
   "cell_type": "code",
   "execution_count": 4,
   "metadata": {},
   "outputs": [
    {
     "data": {
      "text/html": [
       "<div>\n",
       "<style scoped>\n",
       "    .dataframe tbody tr th:only-of-type {\n",
       "        vertical-align: middle;\n",
       "    }\n",
       "\n",
       "    .dataframe tbody tr th {\n",
       "        vertical-align: top;\n",
       "    }\n",
       "\n",
       "    .dataframe thead th {\n",
       "        text-align: right;\n",
       "    }\n",
       "</style>\n",
       "<table border=\"1\" class=\"dataframe\">\n",
       "  <thead>\n",
       "    <tr style=\"text-align: right;\">\n",
       "      <th></th>\n",
       "      <th>ids</th>\n",
       "      <th>default</th>\n",
       "      <th>score_1</th>\n",
       "      <th>score_2</th>\n",
       "      <th>score_3</th>\n",
       "      <th>score_4</th>\n",
       "      <th>score_5</th>\n",
       "      <th>score_6</th>\n",
       "      <th>risk_rate</th>\n",
       "      <th>amount_borrowed</th>\n",
       "      <th>...</th>\n",
       "      <th>state</th>\n",
       "      <th>zip</th>\n",
       "      <th>channel</th>\n",
       "      <th>job_name</th>\n",
       "      <th>real_state</th>\n",
       "      <th>ok_since</th>\n",
       "      <th>n_bankruptcies</th>\n",
       "      <th>n_defaulted_loans</th>\n",
       "      <th>n_accounts</th>\n",
       "      <th>n_issues</th>\n",
       "    </tr>\n",
       "  </thead>\n",
       "  <tbody>\n",
       "    <tr>\n",
       "      <th>0</th>\n",
       "      <td>810e3277-619e-3154-7ba0-ebddfc5f7ea9</td>\n",
       "      <td>False</td>\n",
       "      <td>smzX0nxh5QlePvtVf6EAeg==</td>\n",
       "      <td>tHpS8e9F8d9zg3iOQM9tsA==</td>\n",
       "      <td>710.0</td>\n",
       "      <td>104.174961</td>\n",
       "      <td>0.661509</td>\n",
       "      <td>123.015325</td>\n",
       "      <td>0.43</td>\n",
       "      <td>20024.31</td>\n",
       "      <td>...</td>\n",
       "      <td>xsd3ZdsI3356I3xMxZeiqQ==</td>\n",
       "      <td>i036nmJ7rfxo+3EvCD7Jnw==</td>\n",
       "      <td>NCqL3QBx0pscDnx3ixKwXg==</td>\n",
       "      <td>mLVIVxoGY7TUDJ1FyFoSIZi1SFcaBmO01AydRchaEiGYtU...</td>\n",
       "      <td>n+xK9CfX0bCn77lClTWviw==</td>\n",
       "      <td>14.0</td>\n",
       "      <td>1.0</td>\n",
       "      <td>0.0</td>\n",
       "      <td>9.0</td>\n",
       "      <td>9.0</td>\n",
       "    </tr>\n",
       "    <tr>\n",
       "      <th>1</th>\n",
       "      <td>b4118fd5-77d5-4d80-3617-bacd7aaf1a88</td>\n",
       "      <td>False</td>\n",
       "      <td>DGCQep2AE5QRkNCshIAlFQ==</td>\n",
       "      <td>RO7MTL+j4PH2gNzbhNTq/A==</td>\n",
       "      <td>330.0</td>\n",
       "      <td>97.880798</td>\n",
       "      <td>0.531115</td>\n",
       "      <td>110.913484</td>\n",
       "      <td>0.23</td>\n",
       "      <td>10046.51</td>\n",
       "      <td>...</td>\n",
       "      <td>xsd3ZdsI3356I3xMxZeiqQ==</td>\n",
       "      <td>oyrt7nHjoQSc58vCxgJF/w==</td>\n",
       "      <td>NCqL3QBx0pscDnx3ixKwXg==</td>\n",
       "      <td>mLVIVxoGY7TUDJ1FyFoSIZi1SFcaBmO01AydRchaEiGYtU...</td>\n",
       "      <td>n+xK9CfX0bCn77lClTWviw==</td>\n",
       "      <td>75.0</td>\n",
       "      <td>0.0</td>\n",
       "      <td>0.0</td>\n",
       "      <td>3.0</td>\n",
       "      <td>NaN</td>\n",
       "    </tr>\n",
       "    <tr>\n",
       "      <th>2</th>\n",
       "      <td>a75638f1-4662-4f4f-044a-d649b676d85d</td>\n",
       "      <td>False</td>\n",
       "      <td>8k8UDR4Yx0qasAjkGrUZLw==</td>\n",
       "      <td>wkeCdGeu5sEv4/fjwR0aDg==</td>\n",
       "      <td>360.0</td>\n",
       "      <td>97.908925</td>\n",
       "      <td>0.611086</td>\n",
       "      <td>104.620791</td>\n",
       "      <td>0.30</td>\n",
       "      <td>21228.25</td>\n",
       "      <td>...</td>\n",
       "      <td>/L8vvVesB5WyAv190Hw/rQ==</td>\n",
       "      <td>BMIK35trMYhh9yVrcGg/oQ==</td>\n",
       "      <td>NCqL3QBx0pscDnx3ixKwXg==</td>\n",
       "      <td>mLVIVxoGY7TUDJ1FyFoSIZi1SFcaBmO01AydRchaEiGYtU...</td>\n",
       "      <td>N5/CE7lSkAfB04hVFFwllw==</td>\n",
       "      <td>NaN</td>\n",
       "      <td>0.0</td>\n",
       "      <td>0.0</td>\n",
       "      <td>5.0</td>\n",
       "      <td>NaN</td>\n",
       "    </tr>\n",
       "    <tr>\n",
       "      <th>3</th>\n",
       "      <td>285ce334-3602-42b3-51cb-eebfcba48a09</td>\n",
       "      <td>False</td>\n",
       "      <td>4DLlLW62jReXaqbPaHp1vQ==</td>\n",
       "      <td>tQUTfUyeuGkhRotd+6WjVg==</td>\n",
       "      <td>120.0</td>\n",
       "      <td>100.434557</td>\n",
       "      <td>0.139784</td>\n",
       "      <td>120.134718</td>\n",
       "      <td>0.15</td>\n",
       "      <td>23032.33</td>\n",
       "      <td>...</td>\n",
       "      <td>GW2VZ3dN3OGHSjQ6JkfqQw==</td>\n",
       "      <td>coa2oOrpjxnQl4iyM7dTpQ==</td>\n",
       "      <td>NCqL3QBx0pscDnx3ixKwXg==</td>\n",
       "      <td>mLVIVxoGY7TUDJ1FyFoSIZi1SFcaBmO01AydRchaEiGYtU...</td>\n",
       "      <td>N5/CE7lSkAfB04hVFFwllw==</td>\n",
       "      <td>NaN</td>\n",
       "      <td>0.0</td>\n",
       "      <td>0.0</td>\n",
       "      <td>5.0</td>\n",
       "      <td>NaN</td>\n",
       "    </tr>\n",
       "    <tr>\n",
       "      <th>4</th>\n",
       "      <td>e643bf65-9288-92f2-df13-eed631fe237c</td>\n",
       "      <td>False</td>\n",
       "      <td>4DLlLW62jReXaqbPaHp1vQ==</td>\n",
       "      <td>7h8PTkrlTWUPP3yuyP4rUg==</td>\n",
       "      <td>330.0</td>\n",
       "      <td>103.774638</td>\n",
       "      <td>0.002856</td>\n",
       "      <td>104.320462</td>\n",
       "      <td>0.08</td>\n",
       "      <td>24026.29</td>\n",
       "      <td>...</td>\n",
       "      <td>sjJbkqJS7cXalHLBFA+EOQ==</td>\n",
       "      <td>xTrDMEf/Cnewxc1LO+pfbg==</td>\n",
       "      <td>NCqL3QBx0pscDnx3ixKwXg==</td>\n",
       "      <td>mLVIVxoGY7TUDJ1FyFoSIZi1SFcaBmO01AydRchaEiGYtU...</td>\n",
       "      <td>N5/CE7lSkAfB04hVFFwllw==</td>\n",
       "      <td>15.0</td>\n",
       "      <td>0.0</td>\n",
       "      <td>0.0</td>\n",
       "      <td>10.0</td>\n",
       "      <td>10.0</td>\n",
       "    </tr>\n",
       "  </tbody>\n",
       "</table>\n",
       "<p>5 rows × 27 columns</p>\n",
       "</div>"
      ],
      "text/plain": [
       "                                    ids default                   score_1  \\\n",
       "0  810e3277-619e-3154-7ba0-ebddfc5f7ea9   False  smzX0nxh5QlePvtVf6EAeg==   \n",
       "1  b4118fd5-77d5-4d80-3617-bacd7aaf1a88   False  DGCQep2AE5QRkNCshIAlFQ==   \n",
       "2  a75638f1-4662-4f4f-044a-d649b676d85d   False  8k8UDR4Yx0qasAjkGrUZLw==   \n",
       "3  285ce334-3602-42b3-51cb-eebfcba48a09   False  4DLlLW62jReXaqbPaHp1vQ==   \n",
       "4  e643bf65-9288-92f2-df13-eed631fe237c   False  4DLlLW62jReXaqbPaHp1vQ==   \n",
       "\n",
       "                    score_2  score_3     score_4   score_5     score_6  \\\n",
       "0  tHpS8e9F8d9zg3iOQM9tsA==    710.0  104.174961  0.661509  123.015325   \n",
       "1  RO7MTL+j4PH2gNzbhNTq/A==    330.0   97.880798  0.531115  110.913484   \n",
       "2  wkeCdGeu5sEv4/fjwR0aDg==    360.0   97.908925  0.611086  104.620791   \n",
       "3  tQUTfUyeuGkhRotd+6WjVg==    120.0  100.434557  0.139784  120.134718   \n",
       "4  7h8PTkrlTWUPP3yuyP4rUg==    330.0  103.774638  0.002856  104.320462   \n",
       "\n",
       "   risk_rate  amount_borrowed  ...                     state  \\\n",
       "0       0.43         20024.31  ...  xsd3ZdsI3356I3xMxZeiqQ==   \n",
       "1       0.23         10046.51  ...  xsd3ZdsI3356I3xMxZeiqQ==   \n",
       "2       0.30         21228.25  ...  /L8vvVesB5WyAv190Hw/rQ==   \n",
       "3       0.15         23032.33  ...  GW2VZ3dN3OGHSjQ6JkfqQw==   \n",
       "4       0.08         24026.29  ...  sjJbkqJS7cXalHLBFA+EOQ==   \n",
       "\n",
       "                        zip                   channel  \\\n",
       "0  i036nmJ7rfxo+3EvCD7Jnw==  NCqL3QBx0pscDnx3ixKwXg==   \n",
       "1  oyrt7nHjoQSc58vCxgJF/w==  NCqL3QBx0pscDnx3ixKwXg==   \n",
       "2  BMIK35trMYhh9yVrcGg/oQ==  NCqL3QBx0pscDnx3ixKwXg==   \n",
       "3  coa2oOrpjxnQl4iyM7dTpQ==  NCqL3QBx0pscDnx3ixKwXg==   \n",
       "4  xTrDMEf/Cnewxc1LO+pfbg==  NCqL3QBx0pscDnx3ixKwXg==   \n",
       "\n",
       "                                            job_name  \\\n",
       "0  mLVIVxoGY7TUDJ1FyFoSIZi1SFcaBmO01AydRchaEiGYtU...   \n",
       "1  mLVIVxoGY7TUDJ1FyFoSIZi1SFcaBmO01AydRchaEiGYtU...   \n",
       "2  mLVIVxoGY7TUDJ1FyFoSIZi1SFcaBmO01AydRchaEiGYtU...   \n",
       "3  mLVIVxoGY7TUDJ1FyFoSIZi1SFcaBmO01AydRchaEiGYtU...   \n",
       "4  mLVIVxoGY7TUDJ1FyFoSIZi1SFcaBmO01AydRchaEiGYtU...   \n",
       "\n",
       "                 real_state ok_since n_bankruptcies n_defaulted_loans  \\\n",
       "0  n+xK9CfX0bCn77lClTWviw==     14.0            1.0               0.0   \n",
       "1  n+xK9CfX0bCn77lClTWviw==     75.0            0.0               0.0   \n",
       "2  N5/CE7lSkAfB04hVFFwllw==      NaN            0.0               0.0   \n",
       "3  N5/CE7lSkAfB04hVFFwllw==      NaN            0.0               0.0   \n",
       "4  N5/CE7lSkAfB04hVFFwllw==     15.0            0.0               0.0   \n",
       "\n",
       "  n_accounts n_issues  \n",
       "0        9.0      9.0  \n",
       "1        3.0      NaN  \n",
       "2        5.0      NaN  \n",
       "3        5.0      NaN  \n",
       "4       10.0     10.0  \n",
       "\n",
       "[5 rows x 27 columns]"
      ]
     },
     "execution_count": 4,
     "metadata": {},
     "output_type": "execute_result"
    }
   ],
   "source": [
    "df_train.head()"
   ]
  },
  {
   "cell_type": "code",
   "execution_count": 19,
   "metadata": {},
   "outputs": [
    {
     "data": {
      "text/plain": [
       "ids                       0\n",
       "default                   0\n",
       "score_1                   0\n",
       "score_2                   0\n",
       "score_3                   0\n",
       "score_4                   0\n",
       "score_5                   0\n",
       "score_6                   0\n",
       "risk_rate                 0\n",
       "amount_borrowed           0\n",
       "borrowed_in_months        0\n",
       "credit_limit          18779\n",
       "reason                    5\n",
       "income                    0\n",
       "sign                  18938\n",
       "gender                 2996\n",
       "facebook_profile       5971\n",
       "state                     0\n",
       "zip                       0\n",
       "channel                   0\n",
       "job_name               3791\n",
       "real_state                0\n",
       "ok_since              35089\n",
       "n_bankruptcies          202\n",
       "n_defaulted_loans        18\n",
       "n_accounts                0\n",
       "n_issues              15580\n",
       "dtype: int64"
      ]
     },
     "execution_count": 19,
     "metadata": {},
     "output_type": "execute_result"
    }
   ],
   "source": [
    "df_train.isna().sum()"
   ]
  },
  {
   "cell_type": "code",
   "execution_count": 24,
   "metadata": {},
   "outputs": [
    {
     "data": {
      "image/png": "[encoded data removed]",
      "text/plain": [
       "<Figure size 432x288 with 1 Axes>"
      ]
     },
     "metadata": {},
     "output_type": "display_data"
    }
   ],
   "source": [
    "ax = sns.barplot(x='sign', y='default', data=df_train.groupby('sign').sum()['default'].reset_index(), \n",
    "                 palette='colorblind')\n",
    "text = ax.set_xticklabels(ax.get_xticklabels(), rotation=90)"
   ]
  },
  {
   "cell_type": "code",
   "execution_count": 43,
   "metadata": {},
   "outputs": [
    {
     "data": {
      "text/plain": [
       "(-1000, 1000000)"
      ]
     },
     "execution_count": 43,
     "metadata": {},
     "output_type": "execute_result"
    },
    {
     "data": {
      "image/png": "[encoded data removed]",
      "text/plain": [
       "<Figure size 720x432 with 1 Axes>"
      ]
     },
     "metadata": {},
     "output_type": "display_data"
    }
   ],
   "source": [
    "fig, ax = plt.subplots(1, 1, figsize=(10,6))\n",
    "ax = sns.boxplot(x='default', y='income', data=df_train, palette='colorblind', ax=ax)\n",
    "ax.set_ylim(-1000, 1000000)"
   ]
  },
  {
   "cell_type": "code",
   "execution_count": 44,
   "metadata": {},
   "outputs": [
    {
     "data": {
      "text/html": [
       "<div>\n",
       "<style scoped>\n",
       "    .dataframe tbody tr th:only-of-type {\n",
       "        vertical-align: middle;\n",
       "    }\n",
       "\n",
       "    .dataframe tbody tr th {\n",
       "        vertical-align: top;\n",
       "    }\n",
       "\n",
       "    .dataframe thead th {\n",
       "        text-align: right;\n",
       "    }\n",
       "</style>\n",
       "<table border=\"1\" class=\"dataframe\">\n",
       "  <thead>\n",
       "    <tr style=\"text-align: right;\">\n",
       "      <th></th>\n",
       "      <th>count</th>\n",
       "      <th>mean</th>\n",
       "      <th>std</th>\n",
       "      <th>min</th>\n",
       "      <th>25%</th>\n",
       "      <th>50%</th>\n",
       "      <th>75%</th>\n",
       "      <th>max</th>\n",
       "    </tr>\n",
       "    <tr>\n",
       "      <th>default</th>\n",
       "      <th></th>\n",
       "      <th></th>\n",
       "      <th></th>\n",
       "      <th></th>\n",
       "      <th></th>\n",
       "      <th></th>\n",
       "      <th></th>\n",
       "      <th></th>\n",
       "    </tr>\n",
       "  </thead>\n",
       "  <tbody>\n",
       "    <tr>\n",
       "      <th>False</th>\n",
       "      <td>50456.0</td>\n",
       "      <td>72344.158679</td>\n",
       "      <td>53074.475809</td>\n",
       "      <td>4821.18</td>\n",
       "      <td>45013.72</td>\n",
       "      <td>62023.365</td>\n",
       "      <td>87520.4150</td>\n",
       "      <td>5000027.83</td>\n",
       "    </tr>\n",
       "    <tr>\n",
       "      <th>True</th>\n",
       "      <td>9510.0</td>\n",
       "      <td>65922.677209</td>\n",
       "      <td>43229.193855</td>\n",
       "      <td>4835.29</td>\n",
       "      <td>41020.78</td>\n",
       "      <td>57021.045</td>\n",
       "      <td>80010.0075</td>\n",
       "      <td>950039.03</td>\n",
       "    </tr>\n",
       "  </tbody>\n",
       "</table>\n",
       "</div>"
      ],
      "text/plain": [
       "           count          mean           std      min       25%        50%  \\\n",
       "default                                                                      \n",
       "False    50456.0  72344.158679  53074.475809  4821.18  45013.72  62023.365   \n",
       "True      9510.0  65922.677209  43229.193855  4835.29  41020.78  57021.045   \n",
       "\n",
       "                75%         max  \n",
       "default                          \n",
       "False    87520.4150  5000027.83  \n",
       "True     80010.0075   950039.03  "
      ]
     },
     "execution_count": 44,
     "metadata": {},
     "output_type": "execute_result"
    }
   ],
   "source": [
    "df_train.groupby('default')['income'].describe()"
   ]
  },
  {
   "cell_type": "code",
   "execution_count": 46,
   "metadata": {},
   "outputs": [
    {
     "data": {
      "text/plain": [
       "ids                       0\n",
       "default                   0\n",
       "score_1                   0\n",
       "score_2                   0\n",
       "score_3                   0\n",
       "score_4                   0\n",
       "score_5                   0\n",
       "score_6                   0\n",
       "risk_rate                 0\n",
       "amount_borrowed           0\n",
       "borrowed_in_months        0\n",
       "credit_limit          18779\n",
       "reason                    3\n",
       "income                    0\n",
       "sign                   5959\n",
       "gender                  965\n",
       "facebook_profile       1873\n",
       "state                     0\n",
       "zip                       0\n",
       "channel                   0\n",
       "job_name               1158\n",
       "real_state                0\n",
       "ok_since              12179\n",
       "n_bankruptcies          202\n",
       "n_defaulted_loans        18\n",
       "n_accounts                0\n",
       "n_issues              15580\n",
       "dtype: int64"
      ]
     },
     "execution_count": 46,
     "metadata": {},
     "output_type": "execute_result"
    }
   ],
   "source": [
    "df_train[df_train['credit_limit'].isna()].isna().sum()"
   ]
  },
  {
   "cell_type": "code",
   "execution_count": null,
   "metadata": {},
   "outputs": [],
   "source": []
  },
  {
   "cell_type": "code",
   "execution_count": null,
   "metadata": {},
   "outputs": [],
   "source": []
  },
  {
   "cell_type": "code",
   "execution_count": 115,
   "metadata": {},
   "outputs": [],
   "source": [
    "from sklearn.ensemble import RandomForestClassifier\n",
    "from sklearn.model_selection import train_test_split, KFold\n",
    "from sklearn.metrics import classification_report"
   ]
  },
  {
   "cell_type": "code",
   "execution_count": 105,
   "metadata": {},
   "outputs": [],
   "source": [
    "na_count = df_train.isna().sum()\n",
    "full_columns = na_count[na_count == 0].index\n",
    "df_train_rf = df_train[full_columns]\n",
    "\n",
    "categorical_columns = list(set(df_train_rf.select_dtypes('object').columns) - {'ids'})"
   ]
  },
  {
   "cell_type": "code",
   "execution_count": 106,
   "metadata": {},
   "outputs": [],
   "source": [
    "df_train_rf[categorical_columns] = df_train_rf[categorical_columns].astype('category')\n",
    "df_train_rf[categorical_columns] = df_train_rf[categorical_columns].apply(lambda x: x.cat.codes)"
   ]
  },
  {
   "cell_type": "code",
   "execution_count": 107,
   "metadata": {},
   "outputs": [],
   "source": [
    "not_feat_columns = ['ids', 'default', 'channel']"
   ]
  },
  {
   "cell_type": "code",
   "execution_count": 108,
   "metadata": {},
   "outputs": [],
   "source": [
    "X = df_train_rf[df_train_rf.columns.drop(not_feat_columns)]\n",
    "y = df_train_rf['default']"
   ]
  },
  {
   "cell_type": "code",
   "execution_count": 110,
   "metadata": {},
   "outputs": [],
   "source": [
    "X_train, X_test, y_train, y_test = train_test_split(X, y, test_size=0.2, stratify=y)"
   ]
  },
  {
   "cell_type": "code",
   "execution_count": 113,
   "metadata": {},
   "outputs": [],
   "source": [
    "clf = RandomForestClassifier(max_depth=10, n_estimators=100)"
   ]
  },
  {
   "cell_type": "code",
   "execution_count": 114,
   "metadata": {},
   "outputs": [
    {
     "data": {
      "text/plain": [
       "RandomForestClassifier(bootstrap=True, class_weight=None, criterion='gini',\n",
       "                       max_depth=10, max_features='auto', max_leaf_nodes=None,\n",
       "                       min_impurity_decrease=0.0, min_impurity_split=None,\n",
       "                       min_samples_leaf=1, min_samples_split=2,\n",
       "                       min_weight_fraction_leaf=0.0, n_estimators=100,\n",
       "                       n_jobs=None, oob_score=False, random_state=None,\n",
       "                       verbose=0, warm_start=False)"
      ]
     },
     "execution_count": 114,
     "metadata": {},
     "output_type": "execute_result"
    }
   ],
   "source": [
    "clf.fit(X_train, y_train)"
   ]
  },
  {
   "cell_type": "code",
   "execution_count": 118,
   "metadata": {},
   "outputs": [],
   "source": [
    "train_pred = clf.predict(X_train)\n",
    "test_pred = clf.predict(X_test)"
   ]
  },
  {
   "cell_type": "code",
   "execution_count": 121,
   "metadata": {},
   "outputs": [
    {
     "data": {
      "text/html": [
       "<div>\n",
       "<style scoped>\n",
       "    .dataframe tbody tr th:only-of-type {\n",
       "        vertical-align: middle;\n",
       "    }\n",
       "\n",
       "    .dataframe tbody tr th {\n",
       "        vertical-align: top;\n",
       "    }\n",
       "\n",
       "    .dataframe thead th {\n",
       "        text-align: right;\n",
       "    }\n",
       "</style>\n",
       "<table border=\"1\" class=\"dataframe\">\n",
       "  <thead>\n",
       "    <tr style=\"text-align: right;\">\n",
       "      <th></th>\n",
       "      <th>False</th>\n",
       "      <th>True</th>\n",
       "      <th>accuracy</th>\n",
       "      <th>macro avg</th>\n",
       "      <th>weighted avg</th>\n",
       "    </tr>\n",
       "  </thead>\n",
       "  <tbody>\n",
       "    <tr>\n",
       "      <th>precision</th>\n",
       "      <td>0.845352</td>\n",
       "      <td>0.995556</td>\n",
       "      <td>0.846056</td>\n",
       "      <td>0.920454</td>\n",
       "      <td>0.869173</td>\n",
       "    </tr>\n",
       "    <tr>\n",
       "      <th>recall</th>\n",
       "      <td>0.999975</td>\n",
       "      <td>0.029443</td>\n",
       "      <td>0.846056</td>\n",
       "      <td>0.514709</td>\n",
       "      <td>0.846056</td>\n",
       "    </tr>\n",
       "    <tr>\n",
       "      <th>f1-score</th>\n",
       "      <td>0.916185</td>\n",
       "      <td>0.057194</td>\n",
       "      <td>0.846056</td>\n",
       "      <td>0.486690</td>\n",
       "      <td>0.779956</td>\n",
       "    </tr>\n",
       "    <tr>\n",
       "      <th>support</th>\n",
       "      <td>40364.000000</td>\n",
       "      <td>7608.000000</td>\n",
       "      <td>0.846056</td>\n",
       "      <td>47972.000000</td>\n",
       "      <td>47972.000000</td>\n",
       "    </tr>\n",
       "  </tbody>\n",
       "</table>\n",
       "</div>"
      ],
      "text/plain": [
       "                  False         True  accuracy     macro avg  weighted avg\n",
       "precision      0.845352     0.995556  0.846056      0.920454      0.869173\n",
       "recall         0.999975     0.029443  0.846056      0.514709      0.846056\n",
       "f1-score       0.916185     0.057194  0.846056      0.486690      0.779956\n",
       "support    40364.000000  7608.000000  0.846056  47972.000000  47972.000000"
      ]
     },
     "execution_count": 121,
     "metadata": {},
     "output_type": "execute_result"
    }
   ],
   "source": [
    "pd.DataFrame(classification_report(y_train, train_pred, output_dict=True))"
   ]
  },
  {
   "cell_type": "code",
   "execution_count": 122,
   "metadata": {},
   "outputs": [
    {
     "data": {
      "text/html": [
       "<div>\n",
       "<style scoped>\n",
       "    .dataframe tbody tr th:only-of-type {\n",
       "        vertical-align: middle;\n",
       "    }\n",
       "\n",
       "    .dataframe tbody tr th {\n",
       "        vertical-align: top;\n",
       "    }\n",
       "\n",
       "    .dataframe thead th {\n",
       "        text-align: right;\n",
       "    }\n",
       "</style>\n",
       "<table border=\"1\" class=\"dataframe\">\n",
       "  <thead>\n",
       "    <tr style=\"text-align: right;\">\n",
       "      <th></th>\n",
       "      <th>False</th>\n",
       "      <th>True</th>\n",
       "      <th>accuracy</th>\n",
       "      <th>macro avg</th>\n",
       "      <th>weighted avg</th>\n",
       "    </tr>\n",
       "  </thead>\n",
       "  <tbody>\n",
       "    <tr>\n",
       "      <th>precision</th>\n",
       "      <td>0.841596</td>\n",
       "      <td>0.333333</td>\n",
       "      <td>0.841087</td>\n",
       "      <td>0.587465</td>\n",
       "      <td>0.760996</td>\n",
       "    </tr>\n",
       "    <tr>\n",
       "      <th>recall</th>\n",
       "      <td>0.999207</td>\n",
       "      <td>0.002103</td>\n",
       "      <td>0.841087</td>\n",
       "      <td>0.500655</td>\n",
       "      <td>0.841087</td>\n",
       "    </tr>\n",
       "    <tr>\n",
       "      <th>f1-score</th>\n",
       "      <td>0.913654</td>\n",
       "      <td>0.004180</td>\n",
       "      <td>0.841087</td>\n",
       "      <td>0.458917</td>\n",
       "      <td>0.769430</td>\n",
       "    </tr>\n",
       "    <tr>\n",
       "      <th>support</th>\n",
       "      <td>10092.000000</td>\n",
       "      <td>1902.000000</td>\n",
       "      <td>0.841087</td>\n",
       "      <td>11994.000000</td>\n",
       "      <td>11994.000000</td>\n",
       "    </tr>\n",
       "  </tbody>\n",
       "</table>\n",
       "</div>"
      ],
      "text/plain": [
       "                  False         True  accuracy     macro avg  weighted avg\n",
       "precision      0.841596     0.333333  0.841087      0.587465      0.760996\n",
       "recall         0.999207     0.002103  0.841087      0.500655      0.841087\n",
       "f1-score       0.913654     0.004180  0.841087      0.458917      0.769430\n",
       "support    10092.000000  1902.000000  0.841087  11994.000000  11994.000000"
      ]
     },
     "execution_count": 122,
     "metadata": {},
     "output_type": "execute_result"
    }
   ],
   "source": [
    "pd.DataFrame(classification_report(y_test, test_pred, output_dict=True))"
   ]
  },
  {
   "cell_type": "code",
   "execution_count": 125,
   "metadata": {},
   "outputs": [
    {
     "data": {
      "text/plain": [
       "borrowed_in_months    0.143707\n",
       "score_1               0.124990\n",
       "income                0.113450\n",
       "amount_borrowed       0.086338\n",
       "risk_rate             0.069629\n",
       "score_5               0.067790\n",
       "score_6               0.066566\n",
       "score_4               0.061581\n",
       "zip                   0.057475\n",
       "score_3               0.055735\n",
       "score_2               0.052836\n",
       "n_accounts            0.043291\n",
       "state                 0.040707\n",
       "real_state            0.015904\n",
       "dtype: float64"
      ]
     },
     "execution_count": 125,
     "metadata": {},
     "output_type": "execute_result"
    }
   ],
   "source": [
    "pd.Series(clf.feature_importances_, index=X.columns).sort_values(ascending=False)"
   ]
  },
  {
   "cell_type": "code",
   "execution_count": null,
   "metadata": {},
   "outputs": [],
   "source": []
  }
 ],
 "metadata": {
  "kernelspec": {
   "display_name": "Python 3",
   "language": "python",
   "name": "python3"
  },
  "language_info": {
   "codemirror_mode": {
    "name": "ipython",
    "version": 3
   },
   "file_extension": ".py",
   "mimetype": "text/x-python",
   "name": "python",
   "nbconvert_exporter": "python",
   "pygments_lexer": "ipython3",
   "version": "3.7.6"
  }
 },
 "nbformat": 4,
 "nbformat_minor": 4
}
