{
 "cells": [
  {
   "cell_type": "markdown",
   "metadata": {},
   "source": [
    "# Setup instructions\n",
    "## Conda environment\n",
    "I used an Anaconda environment and generated a `.yml` file with the necessary dependencies. Just make sure you have a `conda` distribution ([Anaconda](https://www.anaconda.com/distribution/#download-section), [Miniconda](https://docs.conda.io/en/latest/miniconda.html), etc.) and run the following command to install the environment:\n",
    "\n",
    "```shell \n",
    "conda env create -f environment.yml\n",
    "```\n",
    "\n",
    "After creating the environment, run `conda activate nuenv` to activate it. With the environment activated, run `jupyter notebook`."
   ]
  },
  {
   "cell_type": "markdown",
   "metadata": {},
   "source": [
    "## Importing libraries"
   ]
  },
  {
   "cell_type": "code",
   "execution_count": 1,
   "metadata": {},
   "outputs": [],
   "source": [
    "import numpy as np\n",
    "import pandas as pd\n",
    "import matplotlib.pyplot as plt\n",
    "import seaborn as sns\n",
    "sns.set(font_scale=1.3, style='whitegrid')"
   ]
  },
  {
   "cell_type": "markdown",
   "metadata": {},
   "source": [
    "## Reading the training data"
   ]
  },
  {
   "cell_type": "code",
   "execution_count": 2,
   "metadata": {},
   "outputs": [],
   "source": [
    "df_train = pd.read_csv('puzzle_train_dataset.csv')"
   ]
  },
  {
   "cell_type": "markdown",
   "metadata": {},
   "source": [
    "## Remove clients that do not have the target variable"
   ]
  },
  {
   "cell_type": "code",
   "execution_count": 3,
   "metadata": {},
   "outputs": [],
   "source": [
    "df_train.dropna(axis=0, subset=['default'], inplace=True)\n",
    "df_train['default'] = df_train['default'].astype(bool)\n",
    "feature_columns = df_train.columns.drop(['ids', 'default'])"
   ]
  },
  {
   "cell_type": "code",
   "execution_count": 4,
   "metadata": {},
   "outputs": [
    {
     "data": {
      "text/plain": [
       "ids                    object\n",
       "default                  bool\n",
       "score_1                object\n",
       "score_2                object\n",
       "score_3               float64\n",
       "score_4               float64\n",
       "score_5               float64\n",
       "score_6               float64\n",
       "risk_rate             float64\n",
       "amount_borrowed       float64\n",
       "borrowed_in_months    float64\n",
       "credit_limit          float64\n",
       "reason                 object\n",
       "income                float64\n",
       "sign                   object\n",
       "gender                 object\n",
       "facebook_profile       object\n",
       "state                  object\n",
       "zip                    object\n",
       "channel                object\n",
       "job_name               object\n",
       "real_state             object\n",
       "ok_since              float64\n",
       "n_bankruptcies        float64\n",
       "n_defaulted_loans     float64\n",
       "n_accounts            float64\n",
       "n_issues              float64\n",
       "dtype: object"
      ]
     },
     "execution_count": 4,
     "metadata": {},
     "output_type": "execute_result"
    }
   ],
   "source": [
    "df_train.dtypes"
   ]
  },
  {
   "cell_type": "markdown",
   "metadata": {},
   "source": [
    "## Describing the categorical columns\n",
    "- The column `sign` has a lot of missing data, so I decided to drop it. I also wonder if it would be useful at all for default prediction...\n",
    "- The column `channel` is equal to all the clients, so I dropped it.\n",
    "- The column `facebook_profile` has around 10% of missing data. I will fill it with a placeholder.\n",
    "- The column `gender` has around 5% of missing data. I will fill it with a placeholder.\n",
    "- The column `job_name` has around 6% of missing data. I will fill it with a placeholder.\n",
    "- The column `reason` has only 5 missing values out of 59966. Because of the small amount, I decided to fill in with a placeholder. \n",
    "- In the column `reason`, out of its 19496 unique values, more than 16700 are unique to a client. So I decided to replace the less frequent with a new category,\n",
    "- The feature `job_name` has more than 42000 unique values, where almost 38000 are unique to a single person. So I will replace the less frequent values with a new category."
   ]
  },
  {
   "cell_type": "code",
   "execution_count": 5,
   "metadata": {},
   "outputs": [
    {
     "data": {
      "text/html": [
       "<div>\n",
       "<style scoped>\n",
       "    .dataframe tbody tr th:only-of-type {\n",
       "        vertical-align: middle;\n",
       "    }\n",
       "\n",
       "    .dataframe tbody tr th {\n",
       "        vertical-align: top;\n",
       "    }\n",
       "\n",
       "    .dataframe thead th {\n",
       "        text-align: right;\n",
       "    }\n",
       "</style>\n",
       "<table border=\"1\" class=\"dataframe\">\n",
       "  <thead>\n",
       "    <tr style=\"text-align: right;\">\n",
       "      <th></th>\n",
       "      <th>count</th>\n",
       "      <th>unique</th>\n",
       "      <th>top</th>\n",
       "      <th>freq</th>\n",
       "      <th>missing_rate</th>\n",
       "    </tr>\n",
       "  </thead>\n",
       "  <tbody>\n",
       "    <tr>\n",
       "      <th>ids</th>\n",
       "      <td>59966</td>\n",
       "      <td>59966</td>\n",
       "      <td>daf0e525-68b3-115e-b608-85bae9663cdf</td>\n",
       "      <td>1</td>\n",
       "      <td>0</td>\n",
       "    </tr>\n",
       "    <tr>\n",
       "      <th>score_1</th>\n",
       "      <td>59966</td>\n",
       "      <td>7</td>\n",
       "      <td>DGCQep2AE5QRkNCshIAlFQ==</td>\n",
       "      <td>20484</td>\n",
       "      <td>0</td>\n",
       "    </tr>\n",
       "    <tr>\n",
       "      <th>score_2</th>\n",
       "      <td>59966</td>\n",
       "      <td>35</td>\n",
       "      <td>osCzpM4hJrxugqWWuZmMWw==</td>\n",
       "      <td>5058</td>\n",
       "      <td>0</td>\n",
       "    </tr>\n",
       "    <tr>\n",
       "      <th>reason</th>\n",
       "      <td>59961</td>\n",
       "      <td>19496</td>\n",
       "      <td>mLVIVxoGY7TUDJ1FyFoSIZi1SFcaBmO01AydRchaEiGYtU...</td>\n",
       "      <td>5921</td>\n",
       "      <td>8.33806e-05</td>\n",
       "    </tr>\n",
       "    <tr>\n",
       "      <th>sign</th>\n",
       "      <td>41028</td>\n",
       "      <td>12</td>\n",
       "      <td>libr</td>\n",
       "      <td>5582</td>\n",
       "      <td>0.315812</td>\n",
       "    </tr>\n",
       "    <tr>\n",
       "      <th>gender</th>\n",
       "      <td>56970</td>\n",
       "      <td>2</td>\n",
       "      <td>m</td>\n",
       "      <td>38497</td>\n",
       "      <td>0.0499616</td>\n",
       "    </tr>\n",
       "    <tr>\n",
       "      <th>facebook_profile</th>\n",
       "      <td>53995</td>\n",
       "      <td>2</td>\n",
       "      <td>False</td>\n",
       "      <td>33997</td>\n",
       "      <td>0.0995731</td>\n",
       "    </tr>\n",
       "    <tr>\n",
       "      <th>state</th>\n",
       "      <td>59966</td>\n",
       "      <td>50</td>\n",
       "      <td>xsd3ZdsI3356I3xMxZeiqQ==</td>\n",
       "      <td>10212</td>\n",
       "      <td>0</td>\n",
       "    </tr>\n",
       "    <tr>\n",
       "      <th>zip</th>\n",
       "      <td>59966</td>\n",
       "      <td>830</td>\n",
       "      <td>3k2JCQ8Bp5oDwaI39ZJgHA==</td>\n",
       "      <td>775</td>\n",
       "      <td>0</td>\n",
       "    </tr>\n",
       "    <tr>\n",
       "      <th>channel</th>\n",
       "      <td>59966</td>\n",
       "      <td>1</td>\n",
       "      <td>NCqL3QBx0pscDnx3ixKwXg==</td>\n",
       "      <td>59966</td>\n",
       "      <td>0</td>\n",
       "    </tr>\n",
       "    <tr>\n",
       "      <th>job_name</th>\n",
       "      <td>56175</td>\n",
       "      <td>42263</td>\n",
       "      <td>mLVIVxoGY7TUDJ1FyFoSIZi1SFcaBmO01AydRchaEiGYtU...</td>\n",
       "      <td>220</td>\n",
       "      <td>0.0632192</td>\n",
       "    </tr>\n",
       "    <tr>\n",
       "      <th>real_state</th>\n",
       "      <td>59966</td>\n",
       "      <td>5</td>\n",
       "      <td>N5/CE7lSkAfB04hVFFwllw==</td>\n",
       "      <td>29695</td>\n",
       "      <td>0</td>\n",
       "    </tr>\n",
       "  </tbody>\n",
       "</table>\n",
       "</div>"
      ],
      "text/plain": [
       "                  count unique  \\\n",
       "ids               59966  59966   \n",
       "score_1           59966      7   \n",
       "score_2           59966     35   \n",
       "reason            59961  19496   \n",
       "sign              41028     12   \n",
       "gender            56970      2   \n",
       "facebook_profile  53995      2   \n",
       "state             59966     50   \n",
       "zip               59966    830   \n",
       "channel           59966      1   \n",
       "job_name          56175  42263   \n",
       "real_state        59966      5   \n",
       "\n",
       "                                                                top   freq  \\\n",
       "ids                            daf0e525-68b3-115e-b608-85bae9663cdf      1   \n",
       "score_1                                    DGCQep2AE5QRkNCshIAlFQ==  20484   \n",
       "score_2                                    osCzpM4hJrxugqWWuZmMWw==   5058   \n",
       "reason            mLVIVxoGY7TUDJ1FyFoSIZi1SFcaBmO01AydRchaEiGYtU...   5921   \n",
       "sign                                                           libr   5582   \n",
       "gender                                                            m  38497   \n",
       "facebook_profile                                              False  33997   \n",
       "state                                      xsd3ZdsI3356I3xMxZeiqQ==  10212   \n",
       "zip                                        3k2JCQ8Bp5oDwaI39ZJgHA==    775   \n",
       "channel                                    NCqL3QBx0pscDnx3ixKwXg==  59966   \n",
       "job_name          mLVIVxoGY7TUDJ1FyFoSIZi1SFcaBmO01AydRchaEiGYtU...    220   \n",
       "real_state                                 N5/CE7lSkAfB04hVFFwllw==  29695   \n",
       "\n",
       "                 missing_rate  \n",
       "ids                         0  \n",
       "score_1                     0  \n",
       "score_2                     0  \n",
       "reason            8.33806e-05  \n",
       "sign                 0.315812  \n",
       "gender              0.0499616  \n",
       "facebook_profile    0.0995731  \n",
       "state                       0  \n",
       "zip                         0  \n",
       "channel                     0  \n",
       "job_name            0.0632192  \n",
       "real_state                  0  "
      ]
     },
     "execution_count": 5,
     "metadata": {},
     "output_type": "execute_result"
    }
   ],
   "source": [
    "categorical_columns = df_train.select_dtypes('object').columns\n",
    "describe_df = df_train[categorical_columns].describe().T\n",
    "describe_df['missing_rate'] = (len(df_train) - describe_df['count']) / len(df_train)\n",
    "describe_df"
   ]
  },
  {
   "cell_type": "markdown",
   "metadata": {},
   "source": [
    "### More than 16700 reasons are unique to one person"
   ]
  },
  {
   "cell_type": "code",
   "execution_count": 6,
   "metadata": {},
   "outputs": [
    {
     "data": {
      "text/plain": [
       "1      16772\n",
       "2       1193\n",
       "3        467\n",
       "4        225\n",
       "5        157\n",
       "       ...  \n",
       "441        1\n",
       "58         1\n",
       "74         1\n",
       "106        1\n",
       "119        1\n",
       "Name: reason, Length: 124, dtype: int64"
      ]
     },
     "execution_count": 6,
     "metadata": {},
     "output_type": "execute_result"
    }
   ],
   "source": [
    "df_train['reason'].value_counts().value_counts()"
   ]
  },
  {
   "cell_type": "markdown",
   "metadata": {},
   "source": [
    "### Almost 38000 job names are unique to one person"
   ]
  },
  {
   "cell_type": "code",
   "execution_count": 7,
   "metadata": {},
   "outputs": [
    {
     "data": {
      "text/plain": [
       "1     37935\n",
       "2      2460\n",
       "3       746\n",
       "4       311\n",
       "5       196\n",
       "      ...  \n",
       "78        1\n",
       "81        1\n",
       "47        1\n",
       "79        1\n",
       "40        1\n",
       "Name: job_name, Length: 65, dtype: int64"
      ]
     },
     "execution_count": 7,
     "metadata": {},
     "output_type": "execute_result"
    }
   ],
   "source": [
    "df_train['job_name'].value_counts().value_counts()"
   ]
  },
  {
   "cell_type": "markdown",
   "metadata": {},
   "source": [
    "### Remove the columns `sign` and `channel` from training"
   ]
  },
  {
   "cell_type": "code",
   "execution_count": 8,
   "metadata": {},
   "outputs": [],
   "source": [
    "feature_columns = feature_columns.drop(['sign', 'channel'])"
   ]
  },
  {
   "cell_type": "markdown",
   "metadata": {},
   "source": [
    "## Describing the numerical columns\n",
    "- The column `ok_since` has a missing rate bigger than 58%, so I decided to remove it.\n",
    "- By analysing the missing data in the columns `n_bankruptcies`, `n_defaulted_loans` and `n_issues`, I noticed that they are missing only for clients with missing data in `credit_limit`. Among the clients without the `credit_limit` information, the values of `n_defaulted_loans` are only NaN and 0, so I decided it to fill it with a placeholder; regarding the values of `n_bankruptcies`, it is zero for more than 95% of the clients withou credit limit, so I filled it with a placeholder as well.\n",
    "- I strongly believe that the feature `n_issues` is an engineered feature of Nubank clients, such as the amount of complainings via chat or amount of disputed charges on his/her credit card. Because of this reason, I decided not to use it, considering fresh clients that request a loan.\n",
    "- In addition, due to the high amount of missing data in the `credit_limit` column, I decided to not use it. A nice test would be to use the output of Nubank's credit limit regression model to fill in these gaps and see if it would improve the default prediction.\n",
    "- The `income` column has an extremely high value, which is most likely an outlier. My decision was to clip the `income` column on 2000000."
   ]
  },
  {
   "cell_type": "code",
   "execution_count": 9,
   "metadata": {},
   "outputs": [
    {
     "data": {
      "text/html": [
       "<div>\n",
       "<style scoped>\n",
       "    .dataframe tbody tr th:only-of-type {\n",
       "        vertical-align: middle;\n",
       "    }\n",
       "\n",
       "    .dataframe tbody tr th {\n",
       "        vertical-align: top;\n",
       "    }\n",
       "\n",
       "    .dataframe thead th {\n",
       "        text-align: right;\n",
       "    }\n",
       "</style>\n",
       "<table border=\"1\" class=\"dataframe\">\n",
       "  <thead>\n",
       "    <tr style=\"text-align: right;\">\n",
       "      <th></th>\n",
       "      <th>count</th>\n",
       "      <th>mean</th>\n",
       "      <th>std</th>\n",
       "      <th>min</th>\n",
       "      <th>25%</th>\n",
       "      <th>50%</th>\n",
       "      <th>75%</th>\n",
       "      <th>max</th>\n",
       "      <th>missing_rate</th>\n",
       "    </tr>\n",
       "  </thead>\n",
       "  <tbody>\n",
       "    <tr>\n",
       "      <th>score_3</th>\n",
       "      <td>59966.0</td>\n",
       "      <td>346.435147</td>\n",
       "      <td>109.842822</td>\n",
       "      <td>0.000000</td>\n",
       "      <td>270.000000</td>\n",
       "      <td>340.000000</td>\n",
       "      <td>420.000000</td>\n",
       "      <td>9.900000e+02</td>\n",
       "      <td>0.000000</td>\n",
       "    </tr>\n",
       "    <tr>\n",
       "      <th>score_4</th>\n",
       "      <td>59966.0</td>\n",
       "      <td>99.999870</td>\n",
       "      <td>3.174459</td>\n",
       "      <td>86.191572</td>\n",
       "      <td>97.856471</td>\n",
       "      <td>100.008497</td>\n",
       "      <td>102.134785</td>\n",
       "      <td>1.139782e+02</td>\n",
       "      <td>0.000000</td>\n",
       "    </tr>\n",
       "    <tr>\n",
       "      <th>score_5</th>\n",
       "      <td>59966.0</td>\n",
       "      <td>0.498721</td>\n",
       "      <td>0.288653</td>\n",
       "      <td>0.000035</td>\n",
       "      <td>0.250013</td>\n",
       "      <td>0.497755</td>\n",
       "      <td>0.748461</td>\n",
       "      <td>9.999734e-01</td>\n",
       "      <td>0.000000</td>\n",
       "    </tr>\n",
       "    <tr>\n",
       "      <th>score_6</th>\n",
       "      <td>59966.0</td>\n",
       "      <td>99.943175</td>\n",
       "      <td>10.035178</td>\n",
       "      <td>60.663039</td>\n",
       "      <td>93.213368</td>\n",
       "      <td>99.979923</td>\n",
       "      <td>106.691523</td>\n",
       "      <td>1.424301e+02</td>\n",
       "      <td>0.000000</td>\n",
       "    </tr>\n",
       "    <tr>\n",
       "      <th>risk_rate</th>\n",
       "      <td>59966.0</td>\n",
       "      <td>0.294114</td>\n",
       "      <td>0.101183</td>\n",
       "      <td>0.000000</td>\n",
       "      <td>0.220000</td>\n",
       "      <td>0.290000</td>\n",
       "      <td>0.360000</td>\n",
       "      <td>9.000000e-01</td>\n",
       "      <td>0.000000</td>\n",
       "    </tr>\n",
       "    <tr>\n",
       "      <th>amount_borrowed</th>\n",
       "      <td>59966.0</td>\n",
       "      <td>13411.805468</td>\n",
       "      <td>7957.402823</td>\n",
       "      <td>527.070000</td>\n",
       "      <td>7225.987500</td>\n",
       "      <td>12012.400000</td>\n",
       "      <td>18036.645000</td>\n",
       "      <td>3.505960e+04</td>\n",
       "      <td>0.000000</td>\n",
       "    </tr>\n",
       "    <tr>\n",
       "      <th>borrowed_in_months</th>\n",
       "      <td>59966.0</td>\n",
       "      <td>40.674649</td>\n",
       "      <td>9.504775</td>\n",
       "      <td>36.000000</td>\n",
       "      <td>36.000000</td>\n",
       "      <td>36.000000</td>\n",
       "      <td>36.000000</td>\n",
       "      <td>6.000000e+01</td>\n",
       "      <td>0.000000</td>\n",
       "    </tr>\n",
       "    <tr>\n",
       "      <th>credit_limit</th>\n",
       "      <td>41187.0</td>\n",
       "      <td>34093.005997</td>\n",
       "      <td>36783.480509</td>\n",
       "      <td>0.000000</td>\n",
       "      <td>9907.000000</td>\n",
       "      <td>25338.000000</td>\n",
       "      <td>46759.500000</td>\n",
       "      <td>6.131170e+05</td>\n",
       "      <td>0.313161</td>\n",
       "    </tr>\n",
       "    <tr>\n",
       "      <th>income</th>\n",
       "      <td>59966.0</td>\n",
       "      <td>71325.776783</td>\n",
       "      <td>51691.429992</td>\n",
       "      <td>4821.180000</td>\n",
       "      <td>44027.857500</td>\n",
       "      <td>60047.260000</td>\n",
       "      <td>85039.612500</td>\n",
       "      <td>5.000028e+06</td>\n",
       "      <td>0.000000</td>\n",
       "    </tr>\n",
       "    <tr>\n",
       "      <th>ok_since</th>\n",
       "      <td>24877.0</td>\n",
       "      <td>35.276762</td>\n",
       "      <td>21.630884</td>\n",
       "      <td>0.000000</td>\n",
       "      <td>17.000000</td>\n",
       "      <td>32.000000</td>\n",
       "      <td>50.000000</td>\n",
       "      <td>1.410000e+02</td>\n",
       "      <td>0.585148</td>\n",
       "    </tr>\n",
       "    <tr>\n",
       "      <th>n_bankruptcies</th>\n",
       "      <td>59764.0</td>\n",
       "      <td>0.077706</td>\n",
       "      <td>0.278433</td>\n",
       "      <td>0.000000</td>\n",
       "      <td>0.000000</td>\n",
       "      <td>0.000000</td>\n",
       "      <td>0.000000</td>\n",
       "      <td>6.000000e+00</td>\n",
       "      <td>0.003369</td>\n",
       "    </tr>\n",
       "    <tr>\n",
       "      <th>n_defaulted_loans</th>\n",
       "      <td>59948.0</td>\n",
       "      <td>0.004671</td>\n",
       "      <td>0.079059</td>\n",
       "      <td>0.000000</td>\n",
       "      <td>0.000000</td>\n",
       "      <td>0.000000</td>\n",
       "      <td>0.000000</td>\n",
       "      <td>5.000000e+00</td>\n",
       "      <td>0.000300</td>\n",
       "    </tr>\n",
       "    <tr>\n",
       "      <th>n_accounts</th>\n",
       "      <td>59966.0</td>\n",
       "      <td>10.624571</td>\n",
       "      <td>4.575357</td>\n",
       "      <td>0.000000</td>\n",
       "      <td>7.000000</td>\n",
       "      <td>10.000000</td>\n",
       "      <td>13.000000</td>\n",
       "      <td>4.900000e+01</td>\n",
       "      <td>0.000000</td>\n",
       "    </tr>\n",
       "    <tr>\n",
       "      <th>n_issues</th>\n",
       "      <td>44386.0</td>\n",
       "      <td>11.001036</td>\n",
       "      <td>4.569516</td>\n",
       "      <td>0.000000</td>\n",
       "      <td>8.000000</td>\n",
       "      <td>10.000000</td>\n",
       "      <td>14.000000</td>\n",
       "      <td>4.900000e+01</td>\n",
       "      <td>0.259814</td>\n",
       "    </tr>\n",
       "  </tbody>\n",
       "</table>\n",
       "</div>"
      ],
      "text/plain": [
       "                      count          mean           std          min  \\\n",
       "score_3             59966.0    346.435147    109.842822     0.000000   \n",
       "score_4             59966.0     99.999870      3.174459    86.191572   \n",
       "score_5             59966.0      0.498721      0.288653     0.000035   \n",
       "score_6             59966.0     99.943175     10.035178    60.663039   \n",
       "risk_rate           59966.0      0.294114      0.101183     0.000000   \n",
       "amount_borrowed     59966.0  13411.805468   7957.402823   527.070000   \n",
       "borrowed_in_months  59966.0     40.674649      9.504775    36.000000   \n",
       "credit_limit        41187.0  34093.005997  36783.480509     0.000000   \n",
       "income              59966.0  71325.776783  51691.429992  4821.180000   \n",
       "ok_since            24877.0     35.276762     21.630884     0.000000   \n",
       "n_bankruptcies      59764.0      0.077706      0.278433     0.000000   \n",
       "n_defaulted_loans   59948.0      0.004671      0.079059     0.000000   \n",
       "n_accounts          59966.0     10.624571      4.575357     0.000000   \n",
       "n_issues            44386.0     11.001036      4.569516     0.000000   \n",
       "\n",
       "                             25%           50%           75%           max  \\\n",
       "score_3               270.000000    340.000000    420.000000  9.900000e+02   \n",
       "score_4                97.856471    100.008497    102.134785  1.139782e+02   \n",
       "score_5                 0.250013      0.497755      0.748461  9.999734e-01   \n",
       "score_6                93.213368     99.979923    106.691523  1.424301e+02   \n",
       "risk_rate               0.220000      0.290000      0.360000  9.000000e-01   \n",
       "amount_borrowed      7225.987500  12012.400000  18036.645000  3.505960e+04   \n",
       "borrowed_in_months     36.000000     36.000000     36.000000  6.000000e+01   \n",
       "credit_limit         9907.000000  25338.000000  46759.500000  6.131170e+05   \n",
       "income              44027.857500  60047.260000  85039.612500  5.000028e+06   \n",
       "ok_since               17.000000     32.000000     50.000000  1.410000e+02   \n",
       "n_bankruptcies          0.000000      0.000000      0.000000  6.000000e+00   \n",
       "n_defaulted_loans       0.000000      0.000000      0.000000  5.000000e+00   \n",
       "n_accounts              7.000000     10.000000     13.000000  4.900000e+01   \n",
       "n_issues                8.000000     10.000000     14.000000  4.900000e+01   \n",
       "\n",
       "                    missing_rate  \n",
       "score_3                 0.000000  \n",
       "score_4                 0.000000  \n",
       "score_5                 0.000000  \n",
       "score_6                 0.000000  \n",
       "risk_rate               0.000000  \n",
       "amount_borrowed         0.000000  \n",
       "borrowed_in_months      0.000000  \n",
       "credit_limit            0.313161  \n",
       "income                  0.000000  \n",
       "ok_since                0.585148  \n",
       "n_bankruptcies          0.003369  \n",
       "n_defaulted_loans       0.000300  \n",
       "n_accounts              0.000000  \n",
       "n_issues                0.259814  "
      ]
     },
     "execution_count": 9,
     "metadata": {},
     "output_type": "execute_result"
    }
   ],
   "source": [
    "numerical_columns = df_train.select_dtypes('number').columns\n",
    "describe_df = df_train[numerical_columns].describe().T\n",
    "describe_df['missing_rate'] = (len(df_train) - describe_df['count']) / len(df_train)\n",
    "describe_df"
   ]
  },
  {
   "cell_type": "markdown",
   "metadata": {},
   "source": [
    "### Income boxplot"
   ]
  },
  {
   "cell_type": "code",
   "execution_count": 10,
   "metadata": {},
   "outputs": [
    {
     "data": {
      "text/plain": [
       "<matplotlib.axes._subplots.AxesSubplot at 0x7fdc3ecc8f10>"
      ]
     },
     "execution_count": 10,
     "metadata": {},
     "output_type": "execute_result"
    },
    {
     "data": {
      "image/png": "[encoded data removed]",
      "text/plain": [
       "<Figure size 432x288 with 1 Axes>"
      ]
     },
     "metadata": {},
     "output_type": "display_data"
    }
   ],
   "source": [
    "df_train['income'].plot(kind='box')"
   ]
  },
  {
   "cell_type": "markdown",
   "metadata": {},
   "source": [
    "### Bankruptcies amont clients without `credit_limit`"
   ]
  },
  {
   "cell_type": "code",
   "execution_count": 11,
   "metadata": {
    "scrolled": false
   },
   "outputs": [
    {
     "data": {
      "text/plain": [
       "array([ 0.,  1., nan,  2.])"
      ]
     },
     "execution_count": 11,
     "metadata": {},
     "output_type": "execute_result"
    }
   ],
   "source": [
    "df_train[df_train['credit_limit'].isna()]['n_bankruptcies'].unique()"
   ]
  },
  {
   "cell_type": "code",
   "execution_count": 12,
   "metadata": {
    "scrolled": false
   },
   "outputs": [
    {
     "data": {
      "text/plain": [
       "0.0    0.954577\n",
       "1.0    0.034453\n",
       "2.0    0.000213\n",
       "Name: n_bankruptcies, dtype: float64"
      ]
     },
     "execution_count": 12,
     "metadata": {},
     "output_type": "execute_result"
    }
   ],
   "source": [
    "df_train[df_train['credit_limit'].isna()]['n_bankruptcies'].value_counts() / len(df_train[df_train['credit_limit'].isna()])"
   ]
  },
  {
   "cell_type": "markdown",
   "metadata": {},
   "source": [
    "### Amount of defaulted loans amont clients without `credit_limit`"
   ]
  },
  {
   "cell_type": "code",
   "execution_count": 13,
   "metadata": {},
   "outputs": [
    {
     "data": {
      "text/plain": [
       "array([ 0., nan])"
      ]
     },
     "execution_count": 13,
     "metadata": {},
     "output_type": "execute_result"
    }
   ],
   "source": [
    "df_train[df_train['credit_limit'].isna()]['n_defaulted_loans'].unique()"
   ]
  },
  {
   "cell_type": "markdown",
   "metadata": {},
   "source": [
    "### Dropping the columns `credit_limit`, `ok_since` and `n_issues`"
   ]
  },
  {
   "cell_type": "code",
   "execution_count": 14,
   "metadata": {},
   "outputs": [],
   "source": [
    "feature_columns = feature_columns.drop(['credit_limit', 'ok_since', 'n_issues'])"
   ]
  },
  {
   "cell_type": "markdown",
   "metadata": {},
   "source": [
    "# Building the pipeline using `fklearn`\n",
    "A couple months back, I came across Nubank's library `fklearn`, but I have not stopped to try it out and read more about it. I decided this was the perfect opportunity to give it a try, and maybe even provide some feedback on it. I followed this [notebook](https://github.com/nubank/fklearn/blob/master/docs/source/examples/regression.ipynb) to get to know the basics.\n",
    "\n",
    "### Wrapper for the `category_encoders` lib methods.\n",
    "Inspired by the source code of `standard_scaler`, I created an auxiliary function that wraps the encoding function of the lib `category_encoders`, such as Leave One Out, Weight of Evidence, Hashing, Binary, etc. "
   ]
  },
  {
   "cell_type": "code",
   "execution_count": 15,
   "metadata": {},
   "outputs": [],
   "source": [
    "from numpy import nan\n",
    "from typing import Any, List, Dict, Callable\n",
    "from toolz import curry\n",
    "from fklearn.common_docstrings import learner_return_docstring, learner_pred_fn_docstring\n",
    "from fklearn.training.utils import log_learner_time\n",
    "from fklearn.training.transformation import apply_replacements\n",
    "from fklearn.types import LearnerFnType, LearnerReturnType, LogType\n",
    "from sklearn.base import BaseEstimator\n",
    "@curry\n",
    "@log_learner_time(learner_name='category_encoder_wrapper')\n",
    "def category_encoder_wrapper(df: pd.DataFrame,\n",
    "                             target_column: str,\n",
    "                             encoder_function: BaseEstimator,\n",
    "                             columns_to_encode: List[str]) -> LearnerReturnType:\n",
    "    \"\"\"\n",
    "    Fits an encoder of the library category-encoders to the dataset.\n",
    "\n",
    "    Parameters\n",
    "    ----------\n",
    "\n",
    "    df : pandas.DataFrame\n",
    "        A Pandas' DataFrame with columns to scale.\n",
    "        It must contain all columns listed in `columns_to_encode`.\n",
    "\n",
    "    columns_to_encode : list of str\n",
    "        A list of names of the columns for standard scaling.\n",
    "    \"\"\"\n",
    "\n",
    "    encoder = encoder_function()\n",
    "\n",
    "    encoder.fit(df[columns_to_encode], df[target_column])\n",
    "\n",
    "    def p(new_data_set: pd.DataFrame) -> pd.DataFrame:\n",
    "        new_data = encoder.transform(new_data_set[columns_to_encode])\n",
    "        if len(columns_to_encode) == new_data.shape[1]: # Replaces the columns\n",
    "            new_cols = pd.DataFrame(data=new_data, columns=columns_to_encode).to_dict('list')\n",
    "            return new_data_set.assign(**new_cols)\n",
    "        # Else, the encoder creates new columns\n",
    "        new_data.columns = ('fklearn_feat__' + new_data.columns).str.rsplit('_', 1).str.join('==')\n",
    "        return new_data_set.assign(**new_data).drop(columns_to_encode, axis=1)\n",
    "        \n",
    "        \n",
    "\n",
    "    p.__doc__ = learner_pred_fn_docstring(\"category_encoder_wrapper\")\n",
    "\n",
    "    log = {'category_encoder_wrapper': {\n",
    "        'encoder': encoder.get_params(),\n",
    "        'transformed_column': columns_to_encode}}\n",
    "\n",
    "    return p, p(df), log\n",
    "\n",
    "category_encoder_wrapper.__doc__ += learner_return_docstring(\"Category Encoder Wrapper\")"
   ]
  },
  {
   "cell_type": "markdown",
   "metadata": {},
   "source": [
    "### Encoding the categorical variables\n",
    "- Label encoding makes more sense when an order can be inferred from the categorical variables (e.g. Class A, B and C in a football league). As the columns `score_1`, `score_2` have `score` in their name, I assumed they have some sense of ordering, so I used **LabelEncoding**. As `gender`, `facebook_profile` and `real_state` have very low cardinality, I did the same with them.\n",
    "- Due to the high cardinality, even after the category pruning, I decided to try a **binary encoding** on the columns `reason`, `job_name`, `zip` and `real_state`.\n",
    "\n",
    "Fixed a seed just for reproducibility."
   ]
  },
  {
   "cell_type": "code",
   "execution_count": 16,
   "metadata": {
    "scrolled": true
   },
   "outputs": [],
   "source": [
    "SEED = 123\n",
    "\n",
    "from fklearn.training.imputation import placeholder_imputer\n",
    "from fklearn.training.transformation import capper, selector, truncate_categorical, label_categorizer\n",
    "from fklearn.training.pipeline import build_pipeline\n",
    "from category_encoders import BinaryEncoder\n",
    "\n",
    "# Select the columns for training\n",
    "# If any learner arguments is either a numpy array or a pandas Series, the line 43 in the script `pipeline.py`\n",
    "# throws a ValueError exception. I would suggest replacing it with the following:\n",
    "#  [p for p, a in signature(my_selector).parameters.items() if isinstance(a.default, str) and a.default == '__no__default__']\n",
    "# That is why I casted `feature_columns` to a list\n",
    "my_selector = selector(training_columns=list(feature_columns) + ['default'],\n",
    "                       predict_columns=list(feature_columns))\n",
    "\n",
    "# NaN imputation anc capping the income\n",
    "columns_to_impute = ['facebook_profile', 'gender', 'job_name', 'reason', 'n_bankruptcies', 'n_defaulted_loans']\n",
    "my_placeholder_imputer = placeholder_imputer(columns_to_impute=columns_to_impute)\n",
    "my_income_capper = capper(columns_to_cap=['income'], precomputed_caps={'income': 2000000})\n",
    "\n",
    "# Categorical variables encoding\n",
    "my_categ_truncate = truncate_categorical(columns_to_truncate=['job_name', 'reason'], percentile=2/len(df_train),\n",
    "                                         replacement=\"Other\", replace_unseen=\"Other\")\n",
    "my_binary_encoder = category_encoder_wrapper(target_column='default', encoder_function=BinaryEncoder, \n",
    "                                             columns_to_encode=['reason', 'job_name', 'zip', 'state'])\n",
    "my_label_encoder = label_categorizer(columns_to_categorize=['score_1', 'score_2', 'gender', 'facebook_profile', 'real_state'])"
   ]
  },
  {
   "cell_type": "markdown",
   "metadata": {},
   "source": [
    "### Splitting into train and test (holdout set)\n",
    "Since this data does not have a temporal component, I randomly sampled 20% to be the holdout set."
   ]
  },
  {
   "cell_type": "code",
   "execution_count": 17,
   "metadata": {},
   "outputs": [],
   "source": [
    "from sklearn.model_selection import train_test_split\n",
    "X_train, X_test, y_train, y_test = train_test_split(df_train, df_train['default'], test_size=0.2, \n",
    "                                                    random_state=SEED, shuffle=True, stratify=df_train['default'])"
   ]
  },
  {
   "cell_type": "code",
   "execution_count": 18,
   "metadata": {},
   "outputs": [],
   "source": [
    "from fklearn.training.classification import lgbm_classification_learner\n",
    "from fklearn.training.classification import xgb_classification_learner"
   ]
  },
  {
   "cell_type": "markdown",
   "metadata": {},
   "source": [
    "### LGBM Model"
   ]
  },
  {
   "cell_type": "code",
   "execution_count": 19,
   "metadata": {},
   "outputs": [],
   "source": [
    "my_lgbm = lgbm_classification_learner(\n",
    "    features=list(feature_columns),\n",
    "    target='default',\n",
    "    prediction_column='prediction',\n",
    "    extra_params={'seed': SEED, 'nthread': 8, 'scale_pos_weight': 2,\n",
    "                  'feature_fraction': 0.8\n",
    "                 },\n",
    ")"
   ]
  },
  {
   "cell_type": "markdown",
   "metadata": {},
   "source": [
    "### XGBoost Model"
   ]
  },
  {
   "cell_type": "code",
   "execution_count": 20,
   "metadata": {},
   "outputs": [],
   "source": [
    "my_xgb = xgb_classification_learner(\n",
    "    features=list(feature_columns),\n",
    "    target='default',\n",
    "    prediction_column='prediction',\n",
    "    num_estimators=200,\n",
    "    learning_rate=0.1,\n",
    "    extra_params={\n",
    "        'seed': SEED, 'nthread': 8, 'scale_pos_weight': 3, 'feature_fraction': 0.8, 'max_depth': 4\n",
    "    },\n",
    ")"
   ]
  },
  {
   "cell_type": "markdown",
   "metadata": {},
   "source": [
    "## Cross Validation\n",
    "As the classes are imbalanced, accuracy and even ROC could be misleading. So I decided to use PR AUC, Recall, Precision and F1."
   ]
  },
  {
   "cell_type": "code",
   "execution_count": 21,
   "metadata": {},
   "outputs": [],
   "source": [
    "from fklearn.validation.validator import validator\n",
    "from fklearn.metrics.pd_extractors import extract, evaluator_extractor\n",
    "from fklearn.validation.splitters import k_fold_splitter\n",
    "from fklearn.validation.evaluators import combined_evaluators\n",
    "from fklearn.validation.evaluators import pr_auc_evaluator, fbeta_score_evaluator, precision_evaluator, recall_evaluator\n",
    "\n",
    "my_evaluator = combined_evaluators(\n",
    "    evaluators=[\n",
    "        pr_auc_evaluator(prediction_column='prediction', target_column='default'),\n",
    "        recall_evaluator(prediction_column='prediction', target_column='default'),\n",
    "        fbeta_score_evaluator(prediction_column='prediction', target_column='default'),\n",
    "        precision_evaluator(prediction_column='prediction', target_column='default')\n",
    "    ]\n",
    ")\n",
    "my_split_fn = k_fold_splitter(n_splits=5, random_state=SEED)\n",
    "metrics = ['pr_auc_evaluator__default', 'recall_evaluator__default', \n",
    "           'fbeta_evaluator__default', 'precision_evaluator__default']"
   ]
  },
  {
   "cell_type": "markdown",
   "metadata": {},
   "source": [
    "### XGBoost cross-validation"
   ]
  },
  {
   "cell_type": "code",
   "execution_count": 27,
   "metadata": {},
   "outputs": [
    {
     "data": {
      "text/html": [
       "<div>\n",
       "<style scoped>\n",
       "    .dataframe tbody tr th:only-of-type {\n",
       "        vertical-align: middle;\n",
       "    }\n",
       "\n",
       "    .dataframe tbody tr th {\n",
       "        vertical-align: top;\n",
       "    }\n",
       "\n",
       "    .dataframe thead th {\n",
       "        text-align: right;\n",
       "    }\n",
       "</style>\n",
       "<table border=\"1\" class=\"dataframe\">\n",
       "  <thead>\n",
       "    <tr style=\"text-align: right;\">\n",
       "      <th></th>\n",
       "      <th>mean</th>\n",
       "      <th>std</th>\n",
       "    </tr>\n",
       "  </thead>\n",
       "  <tbody>\n",
       "    <tr>\n",
       "      <th>pr_auc_evaluator__default</th>\n",
       "      <td>0.333678</td>\n",
       "      <td>0.006176</td>\n",
       "    </tr>\n",
       "    <tr>\n",
       "      <th>recall_evaluator__default</th>\n",
       "      <td>0.382414</td>\n",
       "      <td>0.012527</td>\n",
       "    </tr>\n",
       "    <tr>\n",
       "      <th>fbeta_evaluator__default</th>\n",
       "      <td>0.368160</td>\n",
       "      <td>0.005559</td>\n",
       "    </tr>\n",
       "    <tr>\n",
       "      <th>precision_evaluator__default</th>\n",
       "      <td>0.355143</td>\n",
       "      <td>0.005018</td>\n",
       "    </tr>\n",
       "  </tbody>\n",
       "</table>\n",
       "</div>"
      ],
      "text/plain": [
       "                                  mean       std\n",
       "pr_auc_evaluator__default     0.333678  0.006176\n",
       "recall_evaluator__default     0.382414  0.012527\n",
       "fbeta_evaluator__default      0.368160  0.005559\n",
       "precision_evaluator__default  0.355143  0.005018"
      ]
     },
     "execution_count": 27,
     "metadata": {},
     "output_type": "execute_result"
    }
   ],
   "source": [
    "from pandas.io.json import json_normalize\n",
    "# Include the target both for training and predicting\n",
    "cv_selector = selector(training_columns=list(feature_columns) + ['default']) \n",
    "xgb_cv_pipeline = build_pipeline(\n",
    "    cv_selector, my_placeholder_imputer, my_income_capper, my_categ_truncate, \n",
    "    my_binary_encoder, my_label_encoder,\n",
    "    my_xgb\n",
    ")\n",
    "xgb_cv_results = validator(df_train, split_fn=my_split_fn, train_fn=xgb_cv_pipeline, eval_fn=my_evaluator)\n",
    "result_df = pd.DataFrame(xgb_cv_results['validator_log'])\n",
    "result_df['eval_results'] = result_df['eval_results'].map(lambda x: x[0])\n",
    "result_df = pd.concat([result_df, json_normalize(result_df['eval_results']), json_normalize(result_df['split_log'])],\n",
    "                      sort=False, axis=1).drop(['eval_results', 'split_log'], axis=1)\n",
    "result_df[metrics].agg(['mean', 'std']).T"
   ]
  },
  {
   "cell_type": "markdown",
   "metadata": {},
   "source": [
    "### LGBM cross-validation"
   ]
  },
  {
   "cell_type": "code",
   "execution_count": 28,
   "metadata": {},
   "outputs": [
    {
     "data": {
      "text/html": [
       "<div>\n",
       "<style scoped>\n",
       "    .dataframe tbody tr th:only-of-type {\n",
       "        vertical-align: middle;\n",
       "    }\n",
       "\n",
       "    .dataframe tbody tr th {\n",
       "        vertical-align: top;\n",
       "    }\n",
       "\n",
       "    .dataframe thead th {\n",
       "        text-align: right;\n",
       "    }\n",
       "</style>\n",
       "<table border=\"1\" class=\"dataframe\">\n",
       "  <thead>\n",
       "    <tr style=\"text-align: right;\">\n",
       "      <th></th>\n",
       "      <th>mean</th>\n",
       "      <th>std</th>\n",
       "    </tr>\n",
       "  </thead>\n",
       "  <tbody>\n",
       "    <tr>\n",
       "      <th>pr_auc_evaluator__default</th>\n",
       "      <td>0.334592</td>\n",
       "      <td>0.006565</td>\n",
       "    </tr>\n",
       "    <tr>\n",
       "      <th>recall_evaluator__default</th>\n",
       "      <td>0.221172</td>\n",
       "      <td>0.012486</td>\n",
       "    </tr>\n",
       "    <tr>\n",
       "      <th>fbeta_evaluator__default</th>\n",
       "      <td>0.290649</td>\n",
       "      <td>0.012695</td>\n",
       "    </tr>\n",
       "    <tr>\n",
       "      <th>precision_evaluator__default</th>\n",
       "      <td>0.424076</td>\n",
       "      <td>0.009023</td>\n",
       "    </tr>\n",
       "  </tbody>\n",
       "</table>\n",
       "</div>"
      ],
      "text/plain": [
       "                                  mean       std\n",
       "pr_auc_evaluator__default     0.334592  0.006565\n",
       "recall_evaluator__default     0.221172  0.012486\n",
       "fbeta_evaluator__default      0.290649  0.012695\n",
       "precision_evaluator__default  0.424076  0.009023"
      ]
     },
     "execution_count": 28,
     "metadata": {},
     "output_type": "execute_result"
    }
   ],
   "source": [
    "from pandas.io.json import json_normalize\n",
    "# Include the target both for training and predicting\n",
    "cv_selector = selector(training_columns=list(feature_columns) + ['default']) \n",
    "lgbm_cv_pipeline = build_pipeline(\n",
    "    cv_selector, my_placeholder_imputer, my_income_capper, my_categ_truncate, \n",
    "    my_binary_encoder, my_label_encoder,\n",
    "    my_lgbm\n",
    ")\n",
    "lgbm_cv_results = validator(df_train, split_fn=my_split_fn, train_fn=lgbm_cv_pipeline, eval_fn=my_evaluator)\n",
    "result_df = pd.DataFrame(lgbm_cv_results['validator_log'])\n",
    "result_df['eval_results'] = result_df['eval_results'].map(lambda x: x[0])\n",
    "result_df = pd.concat([result_df, json_normalize(result_df['eval_results']), json_normalize(result_df['split_log'])],\n",
    "                      sort=False, axis=1).drop(['eval_results', 'split_log'], axis=1)\n",
    "result_df[metrics].agg(['mean', 'std']).T"
   ]
  },
  {
   "cell_type": "markdown",
   "metadata": {},
   "source": [
    "## Cross-validation results\n",
    "From the results above, I decided to pick the **XGBoost** as its results seems more balanced on the tradeoff precision-recall and had a higher recall. I believe that in the case of default prediction it is more important to not miss a client that will likely default, so the recall would be more important than precision."
   ]
  },
  {
   "cell_type": "markdown",
   "metadata": {},
   "source": [
    "## Evaluation on the holdout set - PR curve (AUC)\n",
    "The XGBoost model that was created is also slightly better on the holdout set than the LGBM."
   ]
  },
  {
   "cell_type": "code",
   "execution_count": 29,
   "metadata": {
    "scrolled": false
   },
   "outputs": [
    {
     "data": {
      "image/png": "[encoded data removed]",
      "text/plain": [
       "<Figure size 576x576 with 1 Axes>"
      ]
     },
     "metadata": {},
     "output_type": "display_data"
    }
   ],
   "source": [
    "from sklearn.metrics import roc_curve, auc, precision_recall_curve\n",
    "plt.figure(figsize=(8,8))\n",
    "# Include the target only in the training phase\n",
    "my_selector = selector(training_columns=list(feature_columns) + ['default'],\n",
    "                       predict_columns=list(feature_columns)) \n",
    "\n",
    "xgb_pipeline = build_pipeline(\n",
    "    my_selector, my_placeholder_imputer, my_income_capper, my_categ_truncate, \n",
    "    my_binary_encoder, my_label_encoder,\n",
    "    my_xgb\n",
    ")\n",
    "\n",
    "lgbm_pipeline = build_pipeline(\n",
    "    my_selector, my_placeholder_imputer, my_income_capper, my_categ_truncate, \n",
    "    my_binary_encoder, my_label_encoder,\n",
    "    my_lgbm\n",
    ")\n",
    "\n",
    "# Train the models\n",
    "(pred_fn_lgbm, lgbm_out, lgbm_log) = lgbm_pipeline(X_train)\n",
    "(pred_fn_xgb, xgb_out, xgb_log) = xgb_pipeline(X_train)\n",
    "\n",
    "# Train set evaluation\n",
    "for (train_out, model_name) in zip([lgbm_out, xgb_out],\n",
    "                                   ['LGBM', 'XGBoost']):\n",
    "    precision, recall, _ = precision_recall_curve(y_train, train_out['prediction'])\n",
    "    roc_auc = auc(recall, precision)\n",
    "    plt.plot(recall, precision, '--', label='%s PR (area = %0.3f) - Train' % (model_name, roc_auc))\n",
    "\n",
    "# Test set evaluation\n",
    "for (pred_fn, model_name) in zip([pred_fn_lgbm, pred_fn_xgb,],\n",
    "                                 ['LGBM', 'XGBoost']):\n",
    "    precision, recall, _ = precision_recall_curve(y_test, pred_fn(X_test)['prediction'])\n",
    "    roc_auc = auc(recall, precision)\n",
    "    plt.plot(recall, precision, label='%s PR (area = %0.3f) - Test' % (model_name, roc_auc))\n",
    "\n",
    "# Plot the \"no skill\" reference line\n",
    "y = y_test.values\n",
    "no_skill = len(y[y==1]) / len(y)\n",
    "plt.plot([0, 1], [no_skill, no_skill], 'k--')\n",
    "\n",
    "plt.xlim([0.0, 1.0])\n",
    "plt.ylim([0.0, 1.05])\n",
    "plt.xlabel('Recall')\n",
    "plt.ylabel('Precision')\n",
    "plt.title('Precision-Recall curve')\n",
    "plt.legend(loc=\"upper right\")\n",
    "plt.show()"
   ]
  },
  {
   "cell_type": "markdown",
   "metadata": {},
   "source": [
    "# Feature Importance\n",
    "In `fklearn`, the feature importances are obtained using the method `get_score()` of the XGBoost model API with the parameter `importance_type='weight'`, i.e., the importance is measure by the number of times a feature was used to split the data across all trees. \n",
    "\n",
    "It is interesting to see that the top-7 features are all continuous and that `n_bankruptcies` and `n_defaulted_loans` are down in the ranking."
   ]
  },
  {
   "cell_type": "code",
   "execution_count": 30,
   "metadata": {
    "scrolled": true
   },
   "outputs": [
    {
     "data": {
      "text/plain": [
       "income                        341\n",
       "amount_borrowed               290\n",
       "score_6                       268\n",
       "score_4                       242\n",
       "score_5                       241\n",
       "score_3                       170\n",
       "risk_rate                     140\n",
       "score_1                       116\n",
       "n_accounts                    111\n",
       "score_2                       109\n",
       "facebook_profile              102\n",
       "gender                         65\n",
       "borrowed_in_months             35\n",
       "real_state                     32\n",
       "fklearn_feat__state==2         28\n",
       "fklearn_feat__zip==7           28\n",
       "fklearn_feat__state==6         22\n",
       "fklearn_feat__job_name==12     21\n",
       "fklearn_feat__state==4         19\n",
       "fklearn_feat__job_name==7      19\n",
       "fklearn_feat__state==3         16\n",
       "fklearn_feat__zip==9           16\n",
       "fklearn_feat__job_name==4      14\n",
       "fklearn_feat__zip==1           13\n",
       "fklearn_feat__reason==6        13\n",
       "fklearn_feat__reason==4        12\n",
       "fklearn_feat__zip==6           12\n",
       "fklearn_feat__job_name==3      11\n",
       "fklearn_feat__job_name==2      11\n",
       "fklearn_feat__reason==2        11\n",
       "fklearn_feat__zip==4           10\n",
       "fklearn_feat__zip==10          10\n",
       "fklearn_feat__state==5         10\n",
       "fklearn_feat__job_name==10     10\n",
       "fklearn_feat__reason==9        10\n",
       "fklearn_feat__zip==2            9\n",
       "fklearn_feat__job_name==5       9\n",
       "fklearn_feat__state==1          9\n",
       "fklearn_feat__zip==5            9\n",
       "fklearn_feat__job_name==1       8\n",
       "fklearn_feat__reason==8         8\n",
       "fklearn_feat__reason==3         7\n",
       "fklearn_feat__zip==3            7\n",
       "fklearn_feat__reason==12        7\n",
       "fklearn_feat__reason==10        7\n",
       "fklearn_feat__reason==11        7\n",
       "fklearn_feat__job_name==9       7\n",
       "fklearn_feat__job_name==11      7\n",
       "fklearn_feat__job_name==6       6\n",
       "n_bankruptcies                  6\n",
       "n_defaulted_loans               5\n",
       "fklearn_feat__job_name==8       5\n",
       "fklearn_feat__reason==7         4\n",
       "fklearn_feat__reason==5         4\n",
       "fklearn_feat__zip==8            3\n",
       "dtype: int64"
      ]
     },
     "execution_count": 30,
     "metadata": {},
     "output_type": "execute_result"
    }
   ],
   "source": [
    "pd.Series(xgb_log['xgb_classification_learner']['feature_importance']).sort_values(ascending=False)"
   ]
  },
  {
   "cell_type": "markdown",
   "metadata": {},
   "source": [
    "# Generate the predictions"
   ]
  },
  {
   "cell_type": "code",
   "execution_count": 31,
   "metadata": {},
   "outputs": [],
   "source": [
    "df_test = pd.read_csv('puzzle_test_dataset.csv')\n",
    "output_df = pd.DataFrame({\n",
    "    'ids': df_test.ids,\n",
    "    'prediction': pred_fn_xgb(df_test)['prediction']\n",
    "})\n",
    "output_df.to_csv('predictions.csv', index=False)"
   ]
  }
 ],
 "metadata": {
  "kernelspec": {
   "display_name": "Python 3",
   "language": "python",
   "name": "python3"
  },
  "language_info": {
   "codemirror_mode": {
    "name": "ipython",
    "version": 3
   },
   "file_extension": ".py",
   "mimetype": "text/x-python",
   "name": "python",
   "nbconvert_exporter": "python",
   "pygments_lexer": "ipython3",
   "version": "3.7.6"
  }
 },
 "nbformat": 4,
 "nbformat_minor": 4
}
